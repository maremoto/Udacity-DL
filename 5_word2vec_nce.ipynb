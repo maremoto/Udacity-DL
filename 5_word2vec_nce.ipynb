{
 "cells": [
  {
   "cell_type": "markdown",
   "metadata": {
    "colab_type": "text",
    "id": "D7tqLMoKF6uq"
   },
   "source": [
    "Deep Learning\n",
    "=============\n",
    "\n",
    "Assignment 5 - NCE LOSS VERSION\n",
    "------------\n",
    "\n",
    "The goal of this assignment is to train a Word2Vec skip-gram model over [Text8](http://mattmahoney.net/dc/textdata) data."
   ]
  },
  {
   "cell_type": "markdown",
   "metadata": {},
   "source": [
    "##### Explicacion de un skip-gram: [Word2Vec-skipgram](http://mccormickml.com/2016/04/19/word2vec-tutorial-the-skip-gram-model/)\n",
    "consiste en crear un \"concepto\" de cada palabra basado en la relación con las demás palabras del vocabulario, y luego poder usar ese concepto posteriormente, dado que tratamos con un sistema no supervisado"
   ]
  },
  {
   "cell_type": "code",
   "execution_count": 1,
   "metadata": {
    "cellView": "both",
    "colab": {
     "autoexec": {
      "startup": false,
      "wait_interval": 0
     }
    },
    "colab_type": "code",
    "collapsed": true,
    "id": "0K1ZyLn04QZf"
   },
   "outputs": [],
   "source": [
    "# These are all the modules we'll be using later. Make sure you can import them\n",
    "# before proceeding further.\n",
    "%matplotlib inline\n",
    "from __future__ import print_function\n",
    "import collections\n",
    "import math\n",
    "import numpy as np\n",
    "import os\n",
    "import random\n",
    "import tensorflow as tf\n",
    "import zipfile\n",
    "from matplotlib import pylab\n",
    "from six.moves import range\n",
    "from six.moves.urllib.request import urlretrieve\n",
    "from sklearn.manifold import TSNE"
   ]
  },
  {
   "cell_type": "code",
   "execution_count": 9,
   "metadata": {
    "collapsed": false
   },
   "outputs": [],
   "source": [
    "def show_nearest_embeddings_PCA(word,norm_embeddings,area=10):\n",
    "    \n",
    "    assert (word in dictionary), 'This word is not in the dictionary'\n",
    "    \n",
    "    word_id = dictionary[word]\n",
    "    print('ID for \"' + word +'\" is ' + str(word_id))\n",
    "\n",
    "    # Compute the similarity between selected word and all embeddings.\n",
    "    print('computing neighbors...')\n",
    "\n",
    "    # We use the cosine distance:\n",
    "    my_embedding = norm_embeddings[word_id]\n",
    "    S = np.matmul(my_embedding, np.transpose(norm_embeddings))\n",
    "    #np.reshape(tensor=similarity,shape=[vocabulary_size])  \n",
    "\n",
    "    words = []\n",
    "    nearest = (-S).argsort()[1:area+1] # del vector de probabilidades de vecindad toma los mayores MENOS ÉL MISMO\n",
    "    log = '\\tNearest %d to \"%s\":' % (area,word)\n",
    "    for k in range(area):\n",
    "        close_word = reverse_dictionary[nearest[k]]\n",
    "        words = words + [close_word]\n",
    "        log = '%s %s,' % (log, close_word)\n",
    "    print(log)\n",
    "    \n",
    "    #Incluyo la propia palabra para que se vea tambien en el dibujo\n",
    "    words = words + [word]\n",
    "    nearest = np.append(nearest,word_id)\n",
    "    #print(nearest)\n",
    "    #print(words)\n",
    "\n",
    "    #Funcion para pintar las proyecciones 2D\n",
    "    def plot2D(embeddings, labels):\n",
    "      assert embeddings.shape[0] >= len(labels), 'More labels than embeddings'\n",
    "      pylab.figure(figsize=(15,15))  # in inches\n",
    "      for i, label in enumerate(labels):\n",
    "        x, y = embeddings[i,:]\n",
    "        pylab.scatter(x, y)\n",
    "        pylab.annotate(label, xy=(x, y), xytext=(5, 2), textcoords='offset points',ha='right', va='bottom')\n",
    "      pylab.show()\n",
    "\n",
    "    print('projecting and plotting...')\n",
    "\n",
    "    #embeddings_subset = norm_embeddings[1:301, :] # da BUG\n",
    "    #embeddings_subset = norm_embeddings[initial_word:num_points+1, :]\n",
    "    #embeddings_subset = norm_embeddings #si calculo todos REVIENTA el ordenador el TSNE\n",
    "    embeddings_subset = norm_embeddings[nearest, :] #si calculo demasiado pocos REVIENTA también TSNE :-(\n",
    "    \n",
    "    #Calcular el TSNE (NO PORQUE FALLA)\n",
    "    #px = 30\n",
    "    #px = area\n",
    "    #tsne = TSNE(perplexity=px, n_components=2, init='pca', n_iter=5000)\n",
    "    #two_d_embeddings_tsne = tsne.fit_transform(embeddings_subset)\n",
    "    \n",
    "    #aplico PCA porque si funciona\n",
    "    from sklearn.decomposition import PCA\n",
    "    pca = PCA(n_components=2)\n",
    "    two_d_embeddings_pca = pca.fit_transform(embeddings_subset)\n",
    "    print(\"\\tPCA variance ratio\",pca.explained_variance_ratio_)\n",
    "    \n",
    "    #Vamos a dibujar un rango de número de elementos \"area\" alrededor de la palabra\n",
    "    plot2D(two_d_embeddings_pca, words)    "
   ]
  },
  {
   "cell_type": "markdown",
   "metadata": {
    "colab_type": "text",
    "id": "aCjPJE944bkV"
   },
   "source": [
    "Download the data from the source website if necessary."
   ]
  },
  {
   "cell_type": "code",
   "execution_count": 2,
   "metadata": {
    "cellView": "both",
    "colab": {
     "autoexec": {
      "startup": false,
      "wait_interval": 0
     },
     "output_extras": [
      {
       "item_id": 1
      }
     ]
    },
    "colab_type": "code",
    "collapsed": false,
    "executionInfo": {
     "elapsed": 14640,
     "status": "ok",
     "timestamp": 1445964482948,
     "user": {
      "color": "#1FA15D",
      "displayName": "Vincent Vanhoucke",
      "isAnonymous": false,
      "isMe": true,
      "permissionId": "05076109866853157986",
      "photoUrl": "//lh6.googleusercontent.com/-cCJa7dTDcgQ/AAAAAAAAAAI/AAAAAAAACgw/r2EZ_8oYer4/s50-c-k-no/photo.jpg",
      "sessionId": "2f1ffade4c9f20de",
      "userId": "102167687554210253930"
     },
     "user_tz": 420
    },
    "id": "RJ-o3UBUFtCw",
    "outputId": "c4ec222c-80b5-4298-e635-93ca9f79c3b7"
   },
   "outputs": [
    {
     "name": "stdout",
     "output_type": "stream",
     "text": [
      "Found and verified text8.zip\n"
     ]
    }
   ],
   "source": [
    "url = 'http://mattmahoney.net/dc/'\n",
    "\n",
    "def maybe_download(filename, expected_bytes):\n",
    "  \"\"\"Download a file if not present, and make sure it's the right size.\"\"\"\n",
    "  if not os.path.exists(filename):\n",
    "    filename, _ = urlretrieve(url + filename, filename)\n",
    "  statinfo = os.stat(filename)\n",
    "  if statinfo.st_size == expected_bytes:\n",
    "    print('Found and verified %s' % filename)\n",
    "  else:\n",
    "    print(statinfo.st_size)\n",
    "    raise Exception(\n",
    "      'Failed to verify ' + filename + '. Can you get to it with a browser?')\n",
    "  return filename\n",
    "\n",
    "filename = maybe_download('text8.zip', 31344016)"
   ]
  },
  {
   "cell_type": "markdown",
   "metadata": {
    "colab_type": "text",
    "id": "Zqz3XiqI4mZT"
   },
   "source": [
    "Read the data into a string."
   ]
  },
  {
   "cell_type": "code",
   "execution_count": 3,
   "metadata": {
    "cellView": "both",
    "colab": {
     "autoexec": {
      "startup": false,
      "wait_interval": 0
     },
     "output_extras": [
      {
       "item_id": 1
      }
     ]
    },
    "colab_type": "code",
    "collapsed": false,
    "executionInfo": {
     "elapsed": 28844,
     "status": "ok",
     "timestamp": 1445964497165,
     "user": {
      "color": "#1FA15D",
      "displayName": "Vincent Vanhoucke",
      "isAnonymous": false,
      "isMe": true,
      "permissionId": "05076109866853157986",
      "photoUrl": "//lh6.googleusercontent.com/-cCJa7dTDcgQ/AAAAAAAAAAI/AAAAAAAACgw/r2EZ_8oYer4/s50-c-k-no/photo.jpg",
      "sessionId": "2f1ffade4c9f20de",
      "userId": "102167687554210253930"
     },
     "user_tz": 420
    },
    "id": "Mvf09fjugFU_",
    "outputId": "e3a928b4-1645-4fe8-be17-fcf47de5716d"
   },
   "outputs": [
    {
     "name": "stdout",
     "output_type": "stream",
     "text": [
      "Data size 17005207\n"
     ]
    }
   ],
   "source": [
    "def read_data(filename):\n",
    "  \"\"\"Extract the first file enclosed in a zip file as a list of words\"\"\"\n",
    "  with zipfile.ZipFile(filename) as f:\n",
    "    data = tf.compat.as_str(f.read(f.namelist()[0])).split()\n",
    "  return data\n",
    "  \n",
    "words = read_data(filename)\n",
    "print('Data size %d' % len(words))"
   ]
  },
  {
   "cell_type": "markdown",
   "metadata": {
    "colab_type": "text",
    "id": "Zdw6i4F8glpp"
   },
   "source": [
    "Build the dictionary and replace rare words with UNK token."
   ]
  },
  {
   "cell_type": "code",
   "execution_count": 4,
   "metadata": {
    "collapsed": true
   },
   "outputs": [],
   "source": [
    "import math\n",
    "import time\n",
    "def how_long(f, *args):\n",
    "    #medir el tiempo que tarda f\n",
    "    t1 = time.time()\n",
    "    res = f(*args)\n",
    "    t2 = time.time()\n",
    "    print (\"tiempo utilizado = \",t2-t1)\n",
    "    #return res, t2-t1\n",
    "    return res"
   ]
  },
  {
   "cell_type": "code",
   "execution_count": 5,
   "metadata": {
    "cellView": "both",
    "colab": {
     "autoexec": {
      "startup": false,
      "wait_interval": 0
     },
     "output_extras": [
      {
       "item_id": 1
      }
     ]
    },
    "colab_type": "code",
    "collapsed": false,
    "executionInfo": {
     "elapsed": 28849,
     "status": "ok",
     "timestamp": 1445964497178,
     "user": {
      "color": "#1FA15D",
      "displayName": "Vincent Vanhoucke",
      "isAnonymous": false,
      "isMe": true,
      "permissionId": "05076109866853157986",
      "photoUrl": "//lh6.googleusercontent.com/-cCJa7dTDcgQ/AAAAAAAAAAI/AAAAAAAACgw/r2EZ_8oYer4/s50-c-k-no/photo.jpg",
      "sessionId": "2f1ffade4c9f20de",
      "userId": "102167687554210253930"
     },
     "user_tz": 420
    },
    "id": "gAL1EECXeZsD",
    "outputId": "3fb4ecd1-df67-44b6-a2dc-2291730970b2"
   },
   "outputs": [
    {
     "name": "stdout",
     "output_type": "stream",
     "text": [
      "tiempo utilizado =  23.3996648788\n",
      "Most common words (+UNK) [['UNK', 418391], ('the', 1061396), ('of', 593677), ('and', 416629), ('one', 411764)]\n",
      "Sample data [5239, 3084, 12, 6, 195, 2, 3137, 46, 59, 156]\n"
     ]
    }
   ],
   "source": [
    "vocabulary_size = 50000\n",
    "\n",
    "def build_dataset(words):\n",
    "  #inicializa el array de contadores de palabras (frecuencias)\n",
    "  count = [['UNK', -1]]\n",
    "  #cuenta las 50000 palabras más comunes\n",
    "  count.extend(collections.Counter(words).most_common(vocabulary_size - 1))\n",
    "  #inicializa un diccionario del vocabulario, va a crear pares palabra - ID, para tratar con números\n",
    "  #y asigna los id por orden de frecuencia de más a menos\n",
    "  #RESERVA ID=0 para los \"OTROS POCO FRECUENTES\" que llama \"UNK\"\n",
    "  dictionary = dict()\n",
    "  for word, _ in count:\n",
    "    dictionary[word] = len(dictionary)\n",
    "  #inicializa y crea una lista de ID equivalente al dataset \"words\" reemplazando cada palabra por su ID\n",
    "  #y de paso va apuntando los UNK para rellenar la frecuencia\n",
    "  data = list()\n",
    "  unk_count = 0\n",
    "  for word in words:\n",
    "    if word in dictionary:\n",
    "      index = dictionary[word]\n",
    "    else:\n",
    "      index = 0  # dictionary['UNK']\n",
    "      unk_count = unk_count + 1\n",
    "    data.append(index)\n",
    "  #apunta el dato final de cuantas palabras raras hay (frecuencia de palabras raras)\n",
    "  count[0][1] = unk_count\n",
    "  #crea un diccionario al revés, es decir, donde el ID es la clave y la palabra es el valor\n",
    "  reverse_dictionary = dict(zip(dictionary.values(), dictionary.keys())) \n",
    "  return data, count, dictionary, reverse_dictionary\n",
    "\n",
    "data, count, dictionary, reverse_dictionary = how_long(build_dataset,words)\n",
    "print('Most common words (+UNK)', count[:5])\n",
    "print('Sample data', data[:10])\n",
    "del words  # Hint to reduce memory."
   ]
  },
  {
   "cell_type": "markdown",
   "metadata": {
    "colab_type": "text",
    "id": "lFwoyygOmWsL"
   },
   "source": [
    "Function to generate a training batch for the skip-gram model."
   ]
  },
  {
   "cell_type": "code",
   "execution_count": 6,
   "metadata": {
    "cellView": "both",
    "colab": {
     "autoexec": {
      "startup": false,
      "wait_interval": 0
     },
     "output_extras": [
      {
       "item_id": 1
      }
     ]
    },
    "colab_type": "code",
    "collapsed": false,
    "executionInfo": {
     "elapsed": 113,
     "status": "ok",
     "timestamp": 1445964901989,
     "user": {
      "color": "#1FA15D",
      "displayName": "Vincent Vanhoucke",
      "isAnonymous": false,
      "isMe": true,
      "permissionId": "05076109866853157986",
      "photoUrl": "//lh6.googleusercontent.com/-cCJa7dTDcgQ/AAAAAAAAAAI/AAAAAAAACgw/r2EZ_8oYer4/s50-c-k-no/photo.jpg",
      "sessionId": "2f1ffade4c9f20de",
      "userId": "102167687554210253930"
     },
     "user_tz": 420
    },
    "id": "w9APjA-zmfjV",
    "outputId": "67cccb02-cdaf-4e47-d489-43bcc8d57bb8"
   },
   "outputs": [
    {
     "name": "stdout",
     "output_type": "stream",
     "text": [
      "data: ['anarchism', 'originated', 'as', 'a', 'term', 'of', 'abuse', 'first']\n",
      "\n",
      "with num_skips = 2 and skip_window = 1:\n",
      "    batch: ['originated', 'originated', 'as', 'as', 'a', 'a', 'term', 'term']\n",
      "    labels: ['anarchism', 'as', 'a', 'originated', 'term', 'as', 'a', 'of']\n",
      "\n",
      "with num_skips = 4 and skip_window = 2:\n",
      "    batch: ['as', 'as', 'as', 'as', 'a', 'a', 'a', 'a']\n",
      "    labels: ['originated', 'term', 'a', 'anarchism', 'of', 'term', 'as', 'originated']\n"
     ]
    }
   ],
   "source": [
    "data_index = 0\n",
    "\n",
    "#batch_size, tamaño del lote a meter en la red neural para aprender\n",
    "#skip_window, tamaño del lado derecho e izquierdo de la ventana alrededor de una palabra (es simétrica)\n",
    "#num_skips, distancia de palabra adyacente que va a tomar como etiqueta \n",
    "\n",
    "def generate_batch_skipgram(batch_size, num_skips, skip_window):\n",
    "  global data_index #indicador de por donde va recorriendo los datos de aprendizaje\n",
    "  \n",
    "  #comprobaciones\n",
    "  assert batch_size % num_skips == 0 #el tamaño del lote debe ser divisible por los descartes\n",
    "  assert num_skips <= 2 * skip_window\n",
    "\n",
    "  #variables a usar\n",
    "  batch = np.ndarray(shape=(batch_size), dtype=np.int32)\n",
    "  labels = np.ndarray(shape=(batch_size, 1), dtype=np.int32)\n",
    "  span = 2 * skip_window + 1 # [ skip_window target skip_window ] \n",
    "    #se mira alrededor de la palabra el ancho de ventana (2*ventana y +1 la palabra en medio)\n",
    "  buffer = collections.deque(maxlen=span) #reserva variable vacía tipo \"deque\" para almacenar \n",
    "                                            #una ventana que rodea una palabra\n",
    "  \n",
    "  #rellena una ventana inicial desde donde se quedo\n",
    "  for _ in range(span):\n",
    "    buffer.append(data[data_index])\n",
    "    data_index = (data_index + 1) % len(data) #circular\n",
    "\n",
    "  #rellena un lote y a cada palabra le pone de objetivo las palabras adyacentes a distancia \n",
    "    #num_skips o menor delante y detrás\n",
    "  #siempre por pares, pero tomando RANDOM de esa ventana, no en orden\n",
    "  for i in range(batch_size // num_skips):\n",
    "    target = skip_window  # target label at the center of the buffer\n",
    "    targets_to_avoid = [ skip_window ]\n",
    "    for j in range(num_skips):\n",
    "      #monta todo este lío para que no vayan en orden exacto las palabras...\n",
    "      while target in targets_to_avoid:\n",
    "        target = random.randint(0, span - 1)\n",
    "      targets_to_avoid.append(target)\n",
    "      batch[i * num_skips + j] = buffer[skip_window]\n",
    "      labels[i * num_skips + j, 0] = buffer[target]\n",
    "    \n",
    "    #pasa a la siguiente ventana\n",
    "    buffer.append(data[data_index])\n",
    "    data_index = (data_index + 1) % len(data)\n",
    "    \n",
    "  return batch, labels\n",
    "\n",
    "#Ejecucion de ejemplo para las primeras ocho palabras del diccionario (un lote de ocho)\n",
    "\n",
    "lote = 8\n",
    "print('data:', [reverse_dictionary[di] for di in data[:lote]])\n",
    "\n",
    "for num_skips, skip_window in [(2, 1), (4, 2)]:\n",
    "    data_index = 0\n",
    "    batch, labels = generate_batch_skipgram(batch_size=lote, num_skips=num_skips, skip_window=skip_window)\n",
    "    print('\\nwith num_skips = %d and skip_window = %d:' % (num_skips, skip_window))\n",
    "    print('    batch:', [reverse_dictionary[bi] for bi in batch])\n",
    "    print('    labels:', [reverse_dictionary[li] for li in labels.reshape(lote)])"
   ]
  },
  {
   "cell_type": "markdown",
   "metadata": {
    "colab_type": "text",
    "id": "Ofd1MbBuwiva"
   },
   "source": [
    "# Train a skip-gram model."
   ]
  },
  {
   "cell_type": "code",
   "execution_count": 7,
   "metadata": {
    "cellView": "both",
    "colab": {
     "autoexec": {
      "startup": false,
      "wait_interval": 0
     }
    },
    "colab_type": "code",
    "collapsed": true,
    "id": "8pQKsV4Vwlzy"
   },
   "outputs": [],
   "source": [
    "##################\n",
    "# DECLARACION SKIP-GRAM\n",
    "##################\n",
    "\n",
    "batch_size = 128 #Lotes de entrenamiento.\n",
    "\n",
    "embedding_size = 128 # Dimension of the embedding vector. Las features de cada palabra que la distinguen.\n",
    "skip_window = 1 # How many words to consider left and right. Semiventana, al final ventana de 3.\n",
    "                # Es poco debería ser mayor pero más procesamiento también.\n",
    "num_skips = 2 # How many times to reuse an input to generate a label. \n",
    "                #Normalmente ancho-ventana - 1 (3-1 = 2). O 2*skip_window\n",
    "\n",
    "# We pick a random validation set to sample nearest neighbors. here we limit the\n",
    "# validation samples to the words that have a low numeric ID, which by construction are also the most frequent. \n",
    "# Va a utilizar como validationSet las palabras más comunes del diccionario (las del principio)\n",
    "valid_size = 16 # Random set of words to evaluate similarity on. Escoge 16 para validacion.\n",
    "valid_window = 100 # Only pick dev samples in the head of the distribution. Las escoge de entre las 100 primeras.\n",
    "valid_examples = np.array(random.sample(range(valid_window), valid_size))\n",
    "\n",
    "# CURIOSAMENTE NO TOMA UN TEST SET ESTA VEZ, LE DA IGUAL\n",
    "\n",
    "num_sampled = 64 # Number of negative examples to sample. Muestras aleatorias de entre el lote \n",
    "                                                        #que sirven para calcular LOSS.\n",
    "\n",
    "learning_rate = 1.0\n",
    "\n",
    "graphSG_NCE = tf.Graph()\n",
    "\n",
    "with graphSG_NCE.as_default(), tf.device('/cpu:0'):\n",
    "\n",
    "  # Input data.\n",
    "  train_dataset = tf.placeholder(tf.int32, shape=[batch_size])\n",
    "  train_labels = tf.placeholder(tf.int32, shape=[batch_size, 1])\n",
    "  valid_dataset = tf.constant(valid_examples, dtype=tf.int32)\n",
    "  \n",
    "  # Variables y su inicializacion.\n",
    "       #CONCEPTO-FEATURES DE UNA PALABRA (primer layer):\n",
    "  embeddings = tf.Variable(tf.random_uniform([vocabulary_size, embedding_size], -1.0, 1.0)) \n",
    "      #RELACION CON OTROS CONCEPTOS (segundo layer):\n",
    "  softmax_weights = tf.Variable(tf.truncated_normal([vocabulary_size, embedding_size],stddev=1.0 / math.sqrt(embedding_size)))\n",
    "  softmax_biases = tf.Variable(tf.zeros([vocabulary_size]))\n",
    "  \n",
    "  # Model.\n",
    "  # Look up embeddings for inputs.\n",
    "  embed = tf.nn.embedding_lookup(embeddings, train_dataset) #Toma de los conceptos las líneas que corresponden \n",
    "                                                            #al lote de turno (por ID)\n",
    "  # Compute the softmax loss, using a sample of the negative labels each time.\n",
    "  loss = tf.reduce_mean(\n",
    "            tf.nn.nce_loss(softmax_weights, softmax_biases, embed, train_labels, num_sampled, vocabulary_size))\n",
    "        #Combina cada conceptos con las relaciones y obtiene la probabilidad de vecindad de las demás palabras del diccionario\n",
    "        #luego compara esa vecindad probable con las etiquetas para num_sampled aleatorias y saca la pérdida\n",
    "\n",
    "  #At inference time, you can compute full softmax probabilities for each word (referred to one word) with the expression \n",
    "  #tf.nn.softmax(tf.matmul(one_embed, tf.transpose(softmax_weights)) + softmax_biases).\n",
    "        \n",
    "  # Optimizer.\n",
    "  # Note: The optimizer will optimize the softmax_weights AND the embeddings.\n",
    "  # This is because the embeddings are defined as a variable quantity and the\n",
    "  # optimizer's `minimize` method will by default modify all variable quantities \n",
    "  # that contribute to the tensor it is passed.\n",
    "  # See docs on `tf.train.Optimizer.minimize()` for more details.\n",
    "  optimizer = tf.train.AdagradOptimizer(learning_rate).minimize(loss)\n",
    "  \n",
    "  # Compute the similarity between minibatch examples and all embeddings.\n",
    "  # We use the cosine distance:\n",
    "  norm = tf.sqrt(tf.reduce_sum(tf.square(embeddings), 1, keep_dims=True))\n",
    "  normalized_embeddings = embeddings / norm\n",
    "  valid_embeddings = tf.nn.embedding_lookup(normalized_embeddings, valid_dataset)\n",
    "  similarity = tf.matmul(valid_embeddings, tf.transpose(normalized_embeddings))"
   ]
  },
  {
   "cell_type": "markdown",
   "metadata": {},
   "source": [
    "###### OJO Usa un optimizador de gradiente adaptativo:\n",
    "[Adagrad](http://www.jmlr.org/papers/volume12/duchi11a/duchi11a.pdf)"
   ]
  },
  {
   "cell_type": "code",
   "execution_count": 8,
   "metadata": {
    "cellView": "both",
    "colab": {
     "autoexec": {
      "startup": false,
      "wait_interval": 0
     },
     "output_extras": [
      {
       "item_id": 23
      },
      {
       "item_id": 48
      },
      {
       "item_id": 61
      }
     ]
    },
    "colab_type": "code",
    "collapsed": false,
    "executionInfo": {
     "elapsed": 436189,
     "status": "ok",
     "timestamp": 1445965429787,
     "user": {
      "color": "#1FA15D",
      "displayName": "Vincent Vanhoucke",
      "isAnonymous": false,
      "isMe": true,
      "permissionId": "05076109866853157986",
      "photoUrl": "//lh6.googleusercontent.com/-cCJa7dTDcgQ/AAAAAAAAAAI/AAAAAAAACgw/r2EZ_8oYer4/s50-c-k-no/photo.jpg",
      "sessionId": "2f1ffade4c9f20de",
      "userId": "102167687554210253930"
     },
     "user_tz": 420
    },
    "id": "1bQFGceBxrWW",
    "outputId": "5ebd6d9a-33c6-4bcd-bf6d-252b0b6055e4",
    "scrolled": true
   },
   "outputs": [
    {
     "name": "stdout",
     "output_type": "stream",
     "text": [
      "Initialized\n",
      "step 0\t0s\tAverage loss: 299.176697\n",
      "\tNearest to no: mannerism, erectus, acclaimed, lecturers, mcleod, cutlery, codenamed, goidelic,\n",
      "\tNearest to more: uke, leitch, belle, procol, remastered, recommendation, weeping, kansas,\n",
      "\tNearest to the: convert, bust, dauphin, duopoly, lynda, frogs, amplifiers, currently,\n",
      "\tNearest to their: afloat, cathal, yokoi, sung, etiquette, corrected, intolerable, esb,\n",
      "\tNearest to that: eyewitnesses, ideation, mural, gale, reader, arian, breakdancing, teborg,\n",
      "\tNearest to also: futile, nutritious, phrygia, enroll, buffalo, fremantle, melancholy, zia,\n",
      "\tNearest to than: apes, cranberry, independently, addiction, separatist, ambience, prefects, entendre,\n",
      "\tNearest to other: geckos, liliales, shape, add, tanakh, sacrifice, uniformity, decorator,\n",
      "\tNearest to world: persian, encloses, hormonal, fu, detritus, aided, arden, mutable,\n",
      "\tNearest to this: petite, nom, paton, discouraged, tended, alsos, organised, coloration,\n",
      "\tNearest to these: farley, exclaimed, needlessly, wine, dorsal, ornament, levellers, mpr,\n",
      "\tNearest to but: circumcising, galaxies, kinship, valentinus, kimmel, looping, conferencing, tuscan,\n",
      "\tNearest to at: altarpiece, blend, gielgud, intellectualism, jaffe, engrailed, enumerative, beggars,\n",
      "\tNearest to for: loneliness, electing, barrows, lodgings, unceasing, capacitor, mersenne, urls,\n",
      "\tNearest to it: gambeson, chamber, audubon, chew, isometry, annotations, rector, khrushchev,\n",
      "\tNearest to nine: reverted, conciliar, paulette, mentat, hieroglyph, mona, reciprocate, joking,\n",
      "step 2000\t8s\tAverage loss: 111.050396\n",
      "step 4000\t16s\tAverage loss: 51.275638\n",
      "step 6000\t23s\tAverage loss: 32.420320\n",
      "step 8000\t31s\tAverage loss: 23.255244\n",
      "step 10000\t38s\tAverage loss: 17.531285\n",
      "\tNearest to no: and, who, reviewing, lecturers, expropriation, prohibition, forcible, gimme,\n",
      "\tNearest to more: hl, uke, licensing, linkages, snowfalls, slump, ratification, svenska,\n",
      "\tNearest to the: a, its, his, this, an, their, some, any,\n",
      "\tNearest to their: his, its, the, s, this, portsmouth, a, kerouac,\n",
      "\tNearest to that: which, this, who, it, excepted, however, there, repairs,\n",
      "\tNearest to also: which, not, who, been, it, and, now, that,\n",
      "\tNearest to than: heresies, separatist, vrije, satirizes, cornerback, zar, photosynthetic, daytime,\n",
      "\tNearest to other: many, palliative, marguerite, expressway, verse, deposition, bckgr, athens,\n",
      "\tNearest to world: hitting, ppm, neq, db, bargaining, differentiation, blackface, pl,\n",
      "\tNearest to this: any, a, its, the, which, it, that, his,\n",
      "\tNearest to these: their, are, many, chords, yankovic, chubut, were, marr,\n",
      "\tNearest to but: is, while, candidate, are, abner, bequest, was, elect,\n",
      "\tNearest to at: and, in, for, with, from, by, on, of,\n",
      "\tNearest to for: with, of, from, and, at, in, to, as,\n",
      "\tNearest to it: he, there, not, this, they, that, who, a,\n",
      "\tNearest to nine: eight, seven, five, six, four, two, three, zero,\n",
      "step 12000\t46s\tAverage loss: 13.845319\n",
      "step 14000\t54s\tAverage loss: 11.729144\n",
      "step 16000\t62s\tAverage loss: 9.662403\n",
      "step 18000\t69s\tAverage loss: 8.584011\n",
      "step 20000\t77s\tAverage loss: 7.872825\n",
      "\tNearest to no: it, and, a, he, which, this, there, but,\n",
      "\tNearest to more: less, hl, spontaneity, lapland, snowfalls, so, beauvoir, lund,\n",
      "\tNearest to the: its, their, a, this, his, any, some, an,\n",
      "\tNearest to their: its, his, her, the, any, some, a, these,\n",
      "\tNearest to that: which, when, however, but, it, this, also, then,\n",
      "\tNearest to also: now, which, often, not, who, been, sometimes, still,\n",
      "\tNearest to than: or, with, over, for, while, firms, and, vrije,\n",
      "\tNearest to other: many, these, some, such, bellum, various, officeholders, gemological,\n",
      "\tNearest to world: pune, millionaires, ppm, ftc, bataan, gainsborough, deepwater, neq,\n",
      "\tNearest to this: it, the, a, which, any, its, some, that,\n",
      "\tNearest to these: some, many, all, such, several, which, the, other,\n",
      "\tNearest to but: however, and, while, if, which, was, although, is,\n",
      "\tNearest to at: in, from, with, and, between, during, on, including,\n",
      "\tNearest to for: in, with, against, of, and, during, from, under,\n",
      "\tNearest to it: he, there, this, which, they, but, no, who,\n",
      "\tNearest to nine: eight, seven, six, four, five, three, zero, one,\n",
      "step 22000\t85s\tAverage loss: 7.186727\n",
      "step 24000\t93s\tAverage loss: 6.835308\n",
      "step 26000\t100s\tAverage loss: 6.803787\n",
      "step 28000\t107s\tAverage loss: 6.134130\n",
      "step 30000\t115s\tAverage loss: 6.329924\n",
      "\tNearest to no: it, any, still, a, this, and, another, each,\n",
      "\tNearest to more: less, most, rather, so, circuses, used, very, hinder,\n",
      "\tNearest to the: its, their, his, this, any, a, another, her,\n",
      "\tNearest to their: its, his, the, her, some, any, each, these,\n",
      "\tNearest to that: which, however, but, what, when, this, because, although,\n",
      "\tNearest to also: now, often, sometimes, still, which, usually, been, therefore,\n",
      "\tNearest to than: while, but, much, with, vrije, for, or, over,\n",
      "\tNearest to other: various, some, these, many, such, different, shahi, including,\n",
      "\tNearest to world: millionaires, ppm, pune, bataan, yamato, neq, snowfalls, abakan,\n",
      "\tNearest to this: it, which, any, the, a, some, its, another,\n",
      "\tNearest to these: some, many, several, other, such, various, all, there,\n",
      "\tNearest to but: however, although, while, when, and, which, if, that,\n",
      "\tNearest to at: in, on, from, and, during, when, under, for,\n",
      "\tNearest to for: in, with, of, at, and, against, without, through,\n",
      "\tNearest to it: he, there, they, she, this, not, which, no,\n",
      "\tNearest to nine: eight, seven, six, five, four, three, zero, one,\n",
      "step 32000\t123s\tAverage loss: 5.921430\n",
      "step 34000\t130s\tAverage loss: 5.874442\n",
      "step 36000\t138s\tAverage loss: 5.815895\n",
      "step 38000\t146s\tAverage loss: 5.318385\n",
      "step 40000\t153s\tAverage loss: 5.537354\n",
      "\tNearest to no: any, a, another, still, or, it, this, the,\n",
      "\tNearest to more: less, most, so, rather, very, circuses, kushan, oplus,\n",
      "\tNearest to the: its, a, their, any, this, his, each, her,\n",
      "\tNearest to their: its, his, her, the, any, some, each, these,\n",
      "\tNearest to that: which, what, however, this, when, but, because, now,\n",
      "\tNearest to also: now, often, sometimes, still, generally, usually, which, therefore,\n",
      "\tNearest to than: or, but, while, abv, vrije, much, no, hiroshima,\n",
      "\tNearest to other: various, some, many, including, different, subscripts, these, human,\n",
      "\tNearest to world: abakan, yamato, propounded, solent, endomorphisms, fluffy, pune, plaza,\n",
      "\tNearest to this: the, which, any, it, that, its, some, another,\n",
      "\tNearest to these: some, many, several, both, such, all, various, which,\n",
      "\tNearest to but: however, and, although, while, when, where, only, though,\n",
      "\tNearest to at: during, in, on, under, for, when, through, from,\n",
      "\tNearest to for: of, in, against, on, without, at, with, during,\n",
      "\tNearest to it: he, she, there, they, this, which, still, however,\n",
      "\tNearest to nine: eight, six, seven, five, four, zero, three, two,\n",
      "step 42000\t161s\tAverage loss: 5.374537\n",
      "step 44000\t169s\tAverage loss: 5.308727\n",
      "step 46000\t177s\tAverage loss: 5.353649\n",
      "step 48000\t184s\tAverage loss: 5.037149\n",
      "step 50000\t192s\tAverage loss: 5.220352\n",
      "\tNearest to no: another, any, a, still, it, asymptotes, or, procurator,\n",
      "\tNearest to more: less, most, very, too, rather, so, oplus, kushan,\n",
      "\tNearest to the: its, their, a, his, this, any, each, some,\n",
      "\tNearest to their: its, his, her, the, any, some, both, several,\n",
      "\tNearest to that: which, however, what, where, when, but, because, this,\n",
      "\tNearest to also: now, often, sometimes, still, generally, usually, which, therefore,\n",
      "\tNearest to than: or, much, and, but, while, dhamma, vrije, hiroshima,\n",
      "\tNearest to other: various, different, some, many, these, including, subscripts, like,\n",
      "\tNearest to world: endomorphisms, yamato, gisela, abakan, uat, plaza, goo, pune,\n",
      "\tNearest to this: which, it, the, another, some, itself, any, that,\n",
      "\tNearest to these: some, various, many, several, both, such, different, those,\n",
      "\tNearest to but: however, when, although, though, while, and, if, where,\n",
      "\tNearest to at: in, during, for, on, within, under, from, through,\n",
      "\tNearest to for: at, of, and, against, including, without, during, through,\n",
      "\tNearest to it: he, she, there, they, this, still, now, not,\n",
      "\tNearest to nine: six, seven, eight, zero, three, four, five, one,\n",
      "step 52000\t200s\tAverage loss: 5.267979\n",
      "step 54000\t208s\tAverage loss: 5.170384\n",
      "step 56000\t215s\tAverage loss: 5.127162\n",
      "step 58000\t223s\tAverage loss: 5.207370\n",
      "step 60000\t230s\tAverage loss: 5.083515\n",
      "\tNearest to no: any, another, a, and, baralong, this, there, it,\n",
      "\tNearest to more: less, most, rather, very, too, bak, circuses, so,\n",
      "\tNearest to the: its, their, any, a, his, this, each, another,\n",
      "\tNearest to their: its, his, her, the, whose, your, several, some,\n",
      "\tNearest to that: which, what, this, however, where, but, usually, when,\n",
      "\tNearest to also: now, sometimes, often, still, usually, generally, therefore, never,\n",
      "\tNearest to than: or, and, but, much, since, over, gopher, dhamma,\n",
      "\tNearest to other: various, different, many, some, physical, like, subscripts, others,\n",
      "\tNearest to world: goo, yamato, abakan, mccay, gisela, endomorphisms, post, plaza,\n",
      "\tNearest to this: it, which, the, what, that, another, some, any,\n",
      "\tNearest to these: some, many, several, both, various, all, such, those,\n",
      "\tNearest to but: however, although, and, when, while, like, though, if,\n",
      "\tNearest to at: in, during, within, near, for, on, through, after,\n",
      "\tNearest to for: including, without, of, in, and, against, or, at,\n",
      "\tNearest to it: he, she, there, this, still, they, now, usually,\n",
      "\tNearest to nine: eight, six, seven, four, five, zero, three, one,\n",
      "step 62000\t238s\tAverage loss: 4.841391\n",
      "step 64000\t246s\tAverage loss: 4.796774\n",
      "step 66000\t253s\tAverage loss: 5.112652\n",
      "step 68000\t260s\tAverage loss: 4.948737\n",
      "step 70000\t268s\tAverage loss: 4.825269\n",
      "\tNearest to no: any, another, and, a, little, there, baralong, or,\n",
      "\tNearest to more: less, most, rather, too, very, bak, smaller, spontaneity,\n",
      "\tNearest to the: its, their, any, a, this, each, another, his,\n",
      "\tNearest to their: its, his, her, the, my, any, our, your,\n",
      "\tNearest to that: which, what, however, this, actually, where, usually, but,\n",
      "\tNearest to also: now, sometimes, often, still, generally, therefore, usually, never,\n",
      "\tNearest to than: or, but, and, while, since, dhamma, vrije, baralong,\n",
      "\tNearest to other: various, different, many, including, subscripts, individual, some, others,\n",
      "\tNearest to world: post, gisela, vos, however, foolish, yamato, savanna, u,\n",
      "\tNearest to this: which, it, another, the, what, that, itself, any,\n",
      "\tNearest to these: many, some, such, several, various, different, those, are,\n",
      "\tNearest to but: however, although, and, while, when, though, which, since,\n",
      "\tNearest to at: during, within, near, in, through, on, for, after,\n",
      "\tNearest to for: including, against, without, of, in, and, on, while,\n",
      "\tNearest to it: he, she, there, they, this, still, which, we,\n",
      "\tNearest to nine: eight, six, seven, five, four, zero, three, two,\n",
      "step 72000\t275s\tAverage loss: 4.854622\n",
      "step 74000\t283s\tAverage loss: 4.831809\n",
      "step 76000\t291s\tAverage loss: 5.054570\n",
      "step 78000\t298s\tAverage loss: 4.862725\n",
      "step 80000\t306s\tAverage loss: 4.924915\n",
      "\tNearest to no: any, another, baralong, little, still, this, it, there,\n",
      "\tNearest to more: less, most, rather, very, too, smaller, even, larger,\n",
      "\tNearest to the: their, its, a, this, another, any, each, his,\n",
      "\tNearest to their: its, his, her, the, our, my, your, several,\n",
      "\tNearest to that: which, however, what, where, when, this, instead, actually,\n",
      "\tNearest to also: now, sometimes, often, still, therefore, usually, which, thus,\n",
      "\tNearest to than: while, or, and, but, much, since, boney, even,\n",
      "\tNearest to other: various, different, many, individual, others, local, subscripts, bak,\n",
      "\tNearest to world: time, gisela, endomorphisms, yamato, foolish, ballpark, post, abakan,\n",
      "\tNearest to this: it, itself, which, another, the, what, any, some,\n",
      "\tNearest to these: many, several, some, various, such, those, both, all,\n",
      "\tNearest to but: however, although, while, and, though, since, when, has,\n",
      "\tNearest to at: during, in, within, on, under, through, for, with,\n",
      "\tNearest to for: against, including, without, in, at, of, on, during,\n",
      "\tNearest to it: he, she, there, this, they, itself, we, thus,\n",
      "\tNearest to nine: eight, seven, five, six, four, zero, three, two,\n",
      "step 82000\t313s\tAverage loss: 4.890750\n",
      "step 84000\t320s\tAverage loss: 4.855169\n",
      "step 86000\t328s\tAverage loss: 4.797755\n",
      "step 88000\t335s\tAverage loss: 4.722224\n",
      "step 90000\t342s\tAverage loss: 4.823693\n",
      "\tNearest to no: any, another, little, it, a, there, only, baralong,\n",
      "\tNearest to more: less, most, very, too, rather, particularly, smaller, extremely,\n",
      "\tNearest to the: its, their, any, each, a, this, another, his,\n",
      "\tNearest to their: its, his, her, our, my, the, your, whose,\n",
      "\tNearest to that: which, however, what, actually, instead, therefore, because, usually,\n",
      "\tNearest to also: now, often, sometimes, still, therefore, generally, usually, thus,\n",
      "\tNearest to than: or, and, much, while, but, since, less, from,\n",
      "\tNearest to other: various, different, individual, local, traditional, many, physical, others,\n",
      "\tNearest to world: yamato, time, gisela, endomorphisms, goo, biplane, abakan, axles,\n",
      "\tNearest to this: it, itself, another, which, the, any, what, some,\n",
      "\tNearest to these: many, some, several, instead, both, various, certain, such,\n",
      "\tNearest to but: however, although, and, while, since, though, which, until,\n",
      "\tNearest to at: during, in, near, under, through, on, within, with,\n",
      "\tNearest to for: against, of, including, without, in, with, when, during,\n",
      "\tNearest to it: he, she, there, this, they, itself, which, then,\n",
      "\tNearest to nine: eight, seven, six, five, four, zero, three, two,\n",
      "step 92000\t350s\tAverage loss: 4.775305\n",
      "step 94000\t357s\tAverage loss: 4.661494\n",
      "step 96000\t364s\tAverage loss: 4.778921\n",
      "step 98000\t371s\tAverage loss: 4.656288\n",
      "step 100000\t378s\tAverage loss: 4.736856\n",
      "\tNearest to no: another, any, little, only, every, baralong, accountant, or,\n",
      "\tNearest to more: less, most, very, too, particularly, rather, so, larger,\n",
      "\tNearest to the: its, their, his, a, each, any, this, whose,\n",
      "\tNearest to their: his, its, her, our, the, your, my, whose,\n",
      "\tNearest to that: which, however, what, actually, when, itself, because, where,\n",
      "\tNearest to also: now, still, sometimes, often, generally, therefore, usually, never,\n",
      "\tNearest to than: or, while, but, and, since, way, dhamma, much,\n",
      "\tNearest to other: various, individual, different, others, traditional, including, many, local,\n",
      "\tNearest to world: yamato, gisela, however, abakan, time, u, kaufmann, ballpark,\n",
      "\tNearest to this: itself, which, it, another, every, the, what, each,\n",
      "\tNearest to these: many, some, several, various, certain, such, instead, both,\n",
      "\tNearest to but: however, and, although, while, though, when, since, did,\n",
      "\tNearest to at: during, in, on, within, under, with, near, through,\n",
      "\tNearest to for: without, of, including, when, against, on, while, with,\n",
      "\tNearest to it: he, she, this, there, they, itself, what, usually,\n",
      "\tNearest to nine: eight, seven, six, four, five, zero, three, one,\n",
      "End.\n"
     ]
    }
   ],
   "source": [
    "##################\n",
    "# EJECUCION SKIP-GRAM\n",
    "##################\n",
    "\n",
    "num_steps = 100001\n",
    "loss_report_interval = 2000\n",
    "similarity_report_interval = 10000\n",
    "top_k = 8 # number of nearest neighbors a mostrar en el informe de similitud\n",
    "\n",
    "t1 = time.time()\n",
    "\n",
    "with tf.Session(graph=graphSG_NCE) as session:\n",
    "  tf.global_variables_initializer().run()\n",
    "  print('Initialized')\n",
    "  average_loss = 0\n",
    "\n",
    "  # iterar\n",
    "  for step in range(num_steps):\n",
    "    batch_data, batch_labels = generate_batch_skipgram(batch_size, num_skips, skip_window)\n",
    "    feed_dict = {train_dataset : batch_data, train_labels : batch_labels}\n",
    "    _, L = session.run([optimizer, loss], feed_dict=feed_dict)\n",
    "    average_loss += L\n",
    "\n",
    "    # mostar la perdida media de un intervalo\n",
    "    if step % loss_report_interval == 0:\n",
    "      t2 = time.time()\n",
    "      if step > 0:\n",
    "        average_loss = average_loss / loss_report_interval\n",
    "      # The average loss is an estimate of the loss over the last loss_report_interval batches.\n",
    "      print('step %d\\t%ds\\tAverage loss: %f' % (step,t2-t1, average_loss))\n",
    "      average_loss = 0\n",
    "    \n",
    "    # mostrar la similitud alcanzada en un intervalo\n",
    "    # note that this is expensive (~20% slowdown if computed every 500 steps)\n",
    "    if step % similarity_report_interval == 0:\n",
    "      sim = similarity.eval() #tomar la variable calculada de similitud\n",
    "      for i in range(valid_size):\n",
    "        valid_word = reverse_dictionary[valid_examples[i]]\n",
    "        nearest = (-sim[i, :]).argsort()[1:top_k+1] # del vector de probabilidades de vecindad toma los 8 mayores\n",
    "        log = '\\tNearest to %s:' % valid_word\n",
    "        for k in range(top_k):\n",
    "          close_word = reverse_dictionary[nearest[k]]\n",
    "          log = '%s %s,' % (log, close_word)\n",
    "        print(log)\n",
    "        \n",
    "  #final_n = norm.eval() #tomar el denominador de normalizacion a ver si tiene ceros\n",
    "  final_skipgram_embeddings = normalized_embeddings.eval() \n",
    "    #me quedo con las features finales que definen cada concepto de palabra\n",
    "  print('End.')"
   ]
  },
  {
   "cell_type": "markdown",
   "metadata": {},
   "source": [
    "###### Vamos a dibujar "
   ]
  },
  {
   "cell_type": "code",
   "execution_count": 12,
   "metadata": {
    "collapsed": false
   },
   "outputs": [
    {
     "name": "stdout",
     "output_type": "stream",
     "text": [
      "ID for \"but\" is 42\n",
      "computing neighbors...\n",
      "\tNearest 8 to \"but\": however, and, although, while, though, when, since, did,\n",
      "projecting and plotting...\n",
      "\tPCA variance ratio [ 0.22748293  0.18809644]\n"
     ]
    },
    {
     "data": {
      "image/png": "[encoded data removed]",
      "text/plain": [
       "<matplotlib.figure.Figure at 0x11f9d7d90>"
      ]
     },
     "metadata": {},
     "output_type": "display_data"
    }
   ],
   "source": [
    "#SKIPGRAM\n",
    "show_nearest_embeddings_PCA('but',final_skipgram_embeddings,area=8)"
   ]
  },
  {
   "cell_type": "code",
   "execution_count": 13,
   "metadata": {
    "collapsed": false
   },
   "outputs": [
    {
     "name": "stdout",
     "output_type": "stream",
     "text": [
      "ID for \"woman\" is 1014\n",
      "computing neighbors...\n",
      "\tNearest 8 to \"woman\": man, person, character, men, dolphin, score, stapleton, people,\n",
      "projecting and plotting...\n",
      "\tPCA variance ratio [ 0.20863956  0.17336025]\n"
     ]
    },
    {
     "data": {
      "image/png": "[encoded data removed]",
      "text/plain": [
       "<matplotlib.figure.Figure at 0x11fe43810>"
      ]
     },
     "metadata": {},
     "output_type": "display_data"
    }
   ],
   "source": [
    "#SKIPGRAM\n",
    "show_nearest_embeddings_PCA('woman',final_skipgram_embeddings,area=8)"
   ]
  },
  {
   "cell_type": "markdown",
   "metadata": {
    "colab_type": "text",
    "id": "QB5EFrBnpNnc"
   },
   "source": [
    "---\n",
    "\n",
    "CBOW\n",
    "-------\n",
    "\n",
    "An alternative to skip-gram is another Word2Vec model called [CBOW](http://arxiv.org/abs/1301.3781) (Continuous Bag of Words). In the CBOW model, instead of predicting a context word from a word vector, you predict a word from the sum of all the word vectors in its context. Implement and evaluate a CBOW model trained on the text8 dataset.\n",
    "\n",
    "---"
   ]
  },
  {
   "cell_type": "markdown",
   "metadata": {
    "collapsed": true
   },
   "source": [
    "###### NOTA: me apoyo en su generate_batch de base pero quizás debería hacerme el mío que en lugar de poner como objetivo la palabra de en medio ponga la del final de cada ventana (aunque en su artículo dicen que quieren buscar el de enmedio)"
   ]
  },
  {
   "cell_type": "code",
   "execution_count": 14,
   "metadata": {
    "collapsed": false
   },
   "outputs": [
    {
     "name": "stdout",
     "output_type": "stream",
     "text": [
      "data: ['anarchism', 'originated', 'as', 'a', 'term', 'of', 'abuse', 'first', 'used', 'against', 'early', 'working', 'class', 'radicals', 'including', 'the']\n",
      "\n",
      "with num_skips = 2 and skip_window = 1:\n",
      "    IDs:\n",
      "['anarchism', 'as']\n",
      "['originated', 'a']\n",
      "['term', 'as']\n",
      "['of', 'a']\n",
      "['term', 'abuse']\n",
      "['first', 'of']\n",
      "['used', 'abuse']\n",
      "['against', 'first']\n",
      "    IDlabels: ['originated', 'as', 'a', 'term', 'of', 'abuse', 'first', 'used']\n",
      "\n",
      "with num_skips = 4 and skip_window = 2:\n",
      "    IDs:\n",
      "['originated', 'anarchism', 'term', 'a']\n",
      "['originated', 'as', 'of', 'term']\n",
      "['of', 'a', 'as', 'abuse']\n",
      "['first', 'abuse', 'term', 'a']\n",
      "['first', 'term', 'used', 'of']\n",
      "['against', 'used', 'of', 'abuse']\n",
      "['early', 'first', 'against', 'abuse']\n",
      "['used', 'working', 'early', 'first']\n",
      "    IDlabels: ['as', 'a', 'term', 'of', 'abuse', 'first', 'used', 'against']\n"
     ]
    }
   ],
   "source": [
    "data_index = 0\n",
    "\n",
    "#batch_size, tamaño del lote a meter en la red neural para aprender\n",
    "#skip_window, tamaño del lado derecho e izquierdo de la ventana alrededor de una palabra (es simétrica)\n",
    "#num_skips, distancia de palabra adyacente que va a tomar como etiqueta  (2 x skip_window)\n",
    "\n",
    "def generate_batch_cbow(batch_size, num_skips, skip_window):\n",
    "    ids, lids = generate_batch_skipgram(num_skips*batch_size, num_skips, skip_window)\n",
    "    batch = lids.reshape(batch_size,num_skips)\n",
    "    labels = ids[np.arange(0,num_skips*batch_size,num_skips)].reshape(batch_size,1)\n",
    "\n",
    "    return batch, labels\n",
    "    \n",
    "#Ejecucion de ejemplo para las primeras ocho palabras del diccionario (un lote de ocho)\n",
    "\n",
    "lote = 8\n",
    "print('data:', [reverse_dictionary[di] for di in data[:2*lote]])\n",
    "\n",
    "for num_skips, skip_window in [(2, 1), (4, 2)]:\n",
    "    print('\\nwith num_skips = %d and skip_window = %d:' % (num_skips, skip_window))\n",
    "\n",
    "    data_index = 0\n",
    "    batch, labels = generate_batch_cbow(batch_size=lote, num_skips=num_skips, skip_window=skip_window)\n",
    "    \n",
    "    def show2D(a):\n",
    "        for L in a:\n",
    "            print([reverse_dictionary[i] for i in L])\n",
    "    \n",
    "    print('    IDs:')\n",
    "    show2D(batch)\n",
    "    print('    IDlabels:', [reverse_dictionary[li] for li in labels.reshape(lote)])   \n"
   ]
  },
  {
   "cell_type": "code",
   "execution_count": 15,
   "metadata": {
    "cellView": "both",
    "colab": {
     "autoexec": {
      "startup": false,
      "wait_interval": 0
     }
    },
    "colab_type": "code",
    "collapsed": false,
    "id": "8pQKsV4Vwlzy"
   },
   "outputs": [],
   "source": [
    "##################\n",
    "# DECLARACION CBOW\n",
    "##################\n",
    "\n",
    "batch_size = 128 #Lotes de entrenamiento.\n",
    "\n",
    "embedding_size = 128 # Dimension of the embedding vector. Las features de cada palabra que la distinguen.\n",
    "skip_window = 1 # How many words to consider left and right. Semiventana, al final ventana de 3.\n",
    "                # Es poco debería ser mayor pero más procesamiento también.\n",
    "num_skips = 2 # How many times to reuse an input to generate a label. \n",
    "                #Normalmente ancho-ventana - 1 (3-1 = 2). O 2*skip_window\n",
    "\n",
    "# We pick a random validation set to sample nearest neighbors. here we limit the\n",
    "# validation samples to the words that have a low numeric ID, which by construction are also the most frequent. \n",
    "# Va a utilizar como validationSet las palabras más comunes del diccionario (las del principio)\n",
    "valid_size = 16 # Random set of words to evaluate similarity on. Escoge 16 para validacion.\n",
    "valid_window = 100 # Only pick dev samples in the head of the distribution. Las escoge de entre las 100 primeras.\n",
    "valid_examples = np.array(random.sample(range(valid_window), valid_size))\n",
    "\n",
    "num_sampled = 64 # Number of negative examples to sample. Muestras aleatorias de entre el lote que sirven para calcular LOSS.\n",
    "\n",
    "learning_rate = 1.0\n",
    "\n",
    "graphCB_NCE = tf.Graph()\n",
    "\n",
    "with graphCB_NCE.as_default(), tf.device('/cpu:0'):\n",
    "\n",
    "  # Input data.\n",
    "  train_dataset = tf.placeholder(tf.int32, shape=[batch_size, num_skips])\n",
    "  train_labels = tf.placeholder(tf.int32, shape=[batch_size, 1])\n",
    "  valid_dataset = tf.constant(valid_examples, dtype=tf.int32)\n",
    "  \n",
    "  # Variables y su inicializacion.\n",
    "      #RELACION CON OTROS CONCEPTOS (primer layer):\n",
    "  softmax_weights = tf.Variable(tf.truncated_normal([vocabulary_size, embedding_size],stddev=1.0 / math.sqrt(embedding_size)))\n",
    "  softmax_biases = tf.Variable(tf.zeros([vocabulary_size]))\n",
    "       #CONCEPTO-FEATURES DE UNA PALABRA (segundo layer):\n",
    "  embeddings = tf.Variable(tf.random_uniform([vocabulary_size, embedding_size], -1.0, 1.0)) \n",
    "    \n",
    "  # Model.\n",
    "  # Look up embeddings for outputs.\n",
    "  embed = tf.zeros([batch_size, embedding_size])\n",
    "  for j in range(num_skips): #El embedding objetivo es la suma de los embeddings de la bolsa de palabras correspondiente\n",
    "        embed += tf.nn.embedding_lookup(embeddings, train_dataset[:, j])\n",
    "\n",
    "  # Compute the softmax loss, using a sample of the negative train data each time.\n",
    "  loss = tf.reduce_mean(\n",
    "           tf.nn.nce_loss(softmax_weights, softmax_biases, embed, train_labels, num_sampled, vocabulary_size))\n",
    "      \n",
    "  # Optimizer.\n",
    "  optimizer = tf.train.AdagradOptimizer(learning_rate).minimize(loss)\n",
    "  \n",
    "  # Compute the similarity between minibatch examples and all embeddings.\n",
    "  # We use the cosine distance:\n",
    "  norm = tf.sqrt(tf.reduce_sum(tf.square(embeddings), 1, keep_dims=True))\n",
    "  normalized_embeddings = embeddings / norm\n",
    "  valid_embeddings = tf.nn.embedding_lookup(normalized_embeddings, valid_dataset)\n",
    "  similarity = tf.matmul(valid_embeddings, tf.transpose(normalized_embeddings))"
   ]
  },
  {
   "cell_type": "code",
   "execution_count": 16,
   "metadata": {
    "collapsed": false,
    "scrolled": false
   },
   "outputs": [
    {
     "name": "stdout",
     "output_type": "stream",
     "text": [
      "Initialized\n",
      "step 0\t0s\tAverage loss: 285.754028\n",
      "\tNearest to no: gibraltarians, prom, nara, upstate, campuses, petition, paused, marginal,\n",
      "\tNearest to so: boards, military, cummings, regolith, aquarium, receiving, hingis, haldane,\n",
      "\tNearest to the: rosicrucians, layouts, naka, beti, silly, fandango, acutely, departed,\n",
      "\tNearest to in: nontraditional, cling, timecode, beckett, hyde, milton, astatine, linebarger,\n",
      "\tNearest to into: rationing, importantly, steep, bronzes, cartographic, psychedelic, selma, como,\n",
      "\tNearest to their: lambert, superficial, parametric, hitchens, blackadder, hasidim, leper, thackeray,\n",
      "\tNearest to only: steffens, sanity, metastability, afoul, differences, lucius, replied, taunted,\n",
      "\tNearest to its: appearance, transference, deterred, saxophonist, oshii, phase, aim, syncopation,\n",
      "\tNearest to three: roster, elisabetta, linnaeus, bruges, greenstone, lawless, cerrado, remit,\n",
      "\tNearest to had: academic, ambassador, computability, maitreya, missile, cord, casale, puberty,\n",
      "\tNearest to united: xserve, compliance, portable, financed, yosef, berliner, tease, formalisms,\n",
      "\tNearest to his: hustler, et, deconstruction, endothermic, darling, poachers, elsinore, icrc,\n",
      "\tNearest to often: hesitation, choreographer, serpento, trondheim, flawless, drinks, crossovers, analogy,\n",
      "\tNearest to five: softer, belonged, tenet, filing, operating, tnf, overthrow, indochina,\n",
      "\tNearest to up: jeffery, bears, martyrs, invasions, criteria, bugs, bash, aspire,\n",
      "\tNearest to most: rendering, hemiparesis, silent, meter, looters, freeware, dysentery, linebackers,\n",
      "step 2000\t11s\tAverage loss: 121.202426\n",
      "step 4000\t22s\tAverage loss: 52.453746\n",
      "step 6000\t33s\tAverage loss: 32.362335\n",
      "step 8000\t43s\tAverage loss: 21.843881\n",
      "step 10000\t53s\tAverage loss: 15.466744\n",
      "\tNearest to no: earthworm, a, another, prom, preferential, azimuth, chimneys, semicircular,\n",
      "\tNearest to so: ligament, jeremiah, tyne, cytokines, cours, radiating, threads, cloister,\n",
      "\tNearest to the: their, its, a, his, macrophages, this, determinant, each,\n",
      "\tNearest to in: and, between, at, on, of, from, during, with,\n",
      "\tNearest to into: from, since, neutralize, when, by, reconciling, postponed, via,\n",
      "\tNearest to their: his, its, the, her, tl, swivel, reductionist, swordsman,\n",
      "\tNearest to only: measles, imran, andrey, bckgr, lusignan, abbots, macs, acapulco,\n",
      "\tNearest to its: their, his, shapiro, the, each, likeness, her, cid,\n",
      "\tNearest to three: five, four, zero, nine, six, two, eight, seven,\n",
      "\tNearest to had: has, was, were, have, are, will, forbids, etiquette,\n",
      "\tNearest to united: curries, divers, zum, demonstrating, derive, lowering, quickdraw, trypanosomiasis,\n",
      "\tNearest to his: their, its, her, the, smyrna, s, cid, each,\n",
      "\tNearest to often: still, being, choreographer, also, not, generally, assassins, duly,\n",
      "\tNearest to five: nine, six, zero, three, four, seven, eight, two,\n",
      "\tNearest to up: hacking, overheating, grounding, resemble, foul, tm, points, overlay,\n",
      "\tNearest to most: more, critics, counterproductive, classical, interestingly, booth, stretches, masurian,\n",
      "step 12000\t64s\tAverage loss: 12.602464\n",
      "step 14000\t75s\tAverage loss: 10.179381\n",
      "step 16000\t85s\tAverage loss: 8.826843\n",
      "step 18000\t96s\tAverage loss: 7.690220\n",
      "step 20000\t107s\tAverage loss: 6.664198\n",
      "\tNearest to no: a, juicy, another, earthworm, any, equipment, provoked, petition,\n",
      "\tNearest to so: gildas, frs, entre, straps, thea, lightest, stand, cowdery,\n",
      "\tNearest to the: its, their, his, this, a, each, some, our,\n",
      "\tNearest to in: at, on, and, during, between, within, of, although,\n",
      "\tNearest to into: from, between, for, via, after, within, with, to,\n",
      "\tNearest to their: his, its, the, her, any, reaffirmed, many, a,\n",
      "\tNearest to only: nephews, still, teamsters, bombers, erectile, unitas, lodger, oct,\n",
      "\tNearest to its: their, his, the, her, each, alabaster, shapiro, our,\n",
      "\tNearest to three: four, six, five, eight, seven, two, nine, zero,\n",
      "\tNearest to had: has, have, was, were, having, skeleton, never, unidentified,\n",
      "\tNearest to united: galician, derive, zum, guderian, tease, boutique, mitanni, pore,\n",
      "\tNearest to his: their, its, her, the, my, s, each, your,\n",
      "\tNearest to often: usually, generally, still, sometimes, being, not, commonly, also,\n",
      "\tNearest to five: four, six, three, eight, seven, nine, two, zero,\n",
      "\tNearest to up: out, them, subject, back, resemble, curfew, hacking, overheating,\n",
      "\tNearest to most: more, counterproductive, wipe, critics, catapults, coppola, looted, dtp,\n",
      "step 22000\t117s\tAverage loss: 6.438354\n",
      "step 24000\t128s\tAverage loss: 6.038579\n",
      "step 26000\t138s\tAverage loss: 5.559343\n",
      "step 28000\t149s\tAverage loss: 5.481087\n",
      "step 30000\t160s\tAverage loss: 5.256147\n",
      "\tNearest to no: another, a, any, little, azimuth, officiate, satr, gone,\n",
      "\tNearest to so: device, frs, allotrope, believed, subgenres, something, entre, thea,\n",
      "\tNearest to the: their, its, his, a, this, each, our, some,\n",
      "\tNearest to in: during, within, at, between, on, around, and, throughout,\n",
      "\tNearest to into: from, through, within, via, with, after, between, around,\n",
      "\tNearest to their: its, his, her, the, your, our, whose, many,\n",
      "\tNearest to only: lodger, nephews, substitutes, lumi, cordite, procedures, still, dieu,\n",
      "\tNearest to its: their, his, her, the, our, hamming, your, my,\n",
      "\tNearest to three: four, five, six, eight, seven, two, nine, zero,\n",
      "\tNearest to had: has, have, were, was, having, will, never, became,\n",
      "\tNearest to united: galician, zum, tease, british, zinoviev, girdle, bitola, pore,\n",
      "\tNearest to his: their, her, its, the, your, my, s, whose,\n",
      "\tNearest to often: usually, still, generally, sometimes, commonly, being, frequently, widely,\n",
      "\tNearest to five: four, six, three, eight, seven, two, nine, zero,\n",
      "\tNearest to up: out, back, deep, them, off, down, away, disconnect,\n",
      "\tNearest to most: more, less, counterproductive, both, many, some, booth, engaged,\n",
      "step 32000\t171s\tAverage loss: 4.951744\n",
      "step 34000\t181s\tAverage loss: 5.082243\n",
      "step 36000\t191s\tAverage loss: 4.887568\n",
      "step 38000\t201s\tAverage loss: 4.863081\n",
      "step 40000\t212s\tAverage loss: 5.465642\n",
      "\tNearest to no: another, little, a, any, attested, said, this, officiate,\n",
      "\tNearest to so: medulla, ectopic, sip, liao, belladonna, allotrope, azathoth, multivibrator,\n",
      "\tNearest to the: their, its, his, a, our, each, this, your,\n",
      "\tNearest to in: during, within, throughout, between, despite, among, at, although,\n",
      "\tNearest to into: from, through, within, via, with, after, towards, under,\n",
      "\tNearest to their: its, his, her, the, your, our, whose, my,\n",
      "\tNearest to only: lodger, slurry, person, lumi, mnemonics, substitutes, taino, humans,\n",
      "\tNearest to its: their, his, her, the, our, your, hamming, my,\n",
      "\tNearest to three: six, four, five, two, seven, eight, nine, zero,\n",
      "\tNearest to had: has, have, were, having, was, during, when, never,\n",
      "\tNearest to united: british, galician, hawk, stomachs, zum, uk, reductionism, mailing,\n",
      "\tNearest to his: their, her, its, your, my, the, s, another,\n",
      "\tNearest to often: usually, generally, sometimes, still, commonly, now, typically, frequently,\n",
      "\tNearest to five: four, six, eight, seven, three, two, nine, zero,\n",
      "\tNearest to up: out, back, off, them, away, down, him, date,\n",
      "\tNearest to most: more, less, many, both, some, especially, use, very,\n",
      "step 42000\t222s\tAverage loss: 4.877806\n",
      "step 44000\t233s\tAverage loss: 4.864820\n",
      "step 46000\t243s\tAverage loss: 4.760992\n",
      "step 48000\t254s\tAverage loss: 4.636497\n",
      "step 50000\t265s\tAverage loss: 4.606251\n",
      "\tNearest to no: another, any, little, a, attested, this, teal, only,\n",
      "\tNearest to so: thus, patass, believed, if, sushi, device, thea, entre,\n",
      "\tNearest to the: their, its, his, our, a, your, any, this,\n",
      "\tNearest to in: during, within, at, throughout, between, although, on, despite,\n",
      "\tNearest to into: from, through, within, via, towards, around, with, back,\n",
      "\tNearest to their: its, his, her, our, your, the, whose, my,\n",
      "\tNearest to only: articulations, taino, both, even, still, lodger, cordite, karaca,\n",
      "\tNearest to its: their, his, her, the, our, your, whose, my,\n",
      "\tNearest to three: four, five, six, two, seven, eight, nine, zero,\n",
      "\tNearest to had: has, have, were, was, having, would, never, ever,\n",
      "\tNearest to united: galician, caribbean, stomachs, hyperfocal, wavell, lovelock, southern, british,\n",
      "\tNearest to his: her, their, its, your, my, the, our, s,\n",
      "\tNearest to often: usually, generally, sometimes, still, commonly, frequently, typically, now,\n",
      "\tNearest to five: six, four, eight, seven, three, nine, zero, two,\n",
      "\tNearest to up: out, back, off, down, them, away, him, lindisfarne,\n",
      "\tNearest to most: more, less, especially, both, many, some, use, particularly,\n",
      "step 52000\t276s\tAverage loss: 4.655197\n",
      "step 54000\t286s\tAverage loss: 4.561872\n",
      "step 56000\t297s\tAverage loss: 4.514009\n",
      "step 58000\t308s\tAverage loss: 5.177643\n",
      "step 60000\t319s\tAverage loss: 4.591501\n",
      "\tNearest to no: another, any, little, a, this, attested, criss, teal,\n",
      "\tNearest to so: thus, psi, grossing, f, sometimes, while, people, entre,\n",
      "\tNearest to the: its, their, his, our, this, each, a, any,\n",
      "\tNearest to in: during, within, throughout, under, at, despite, among, on,\n",
      "\tNearest to into: from, through, within, via, towards, under, between, around,\n",
      "\tNearest to their: its, his, her, the, many, our, my, your,\n",
      "\tNearest to only: both, still, actually, taino, lodger, even, frequently, lumi,\n",
      "\tNearest to its: their, his, her, the, our, your, whose, my,\n",
      "\tNearest to three: four, six, five, two, seven, eight, nine, one,\n",
      "\tNearest to had: has, have, was, having, were, ever, never, during,\n",
      "\tNearest to united: british, wavell, stomachs, galician, sovereign, andersson, hawk, sectional,\n",
      "\tNearest to his: her, its, their, your, my, the, our, whose,\n",
      "\tNearest to often: usually, generally, sometimes, still, commonly, frequently, typically, also,\n",
      "\tNearest to five: four, six, seven, eight, three, nine, zero, two,\n",
      "\tNearest to up: out, back, off, down, him, them, away, efforts,\n",
      "\tNearest to most: more, less, especially, use, mostly, particularly, some, both,\n",
      "step 62000\t331s\tAverage loss: 4.756212\n",
      "step 64000\t342s\tAverage loss: 4.605905\n",
      "step 66000\t352s\tAverage loss: 4.535759\n",
      "step 68000\t362s\tAverage loss: 4.411155\n",
      "step 70000\t373s\tAverage loss: 4.852087\n",
      "\tNearest to no: another, any, tech, a, this, per, gaye, strong,\n",
      "\tNearest to so: thus, sometimes, entre, grossing, too, something, miami, quite,\n",
      "\tNearest to the: their, its, his, our, whose, a, this, any,\n",
      "\tNearest to in: during, within, throughout, under, at, on, despite, between,\n",
      "\tNearest to into: via, from, through, within, towards, under, back, around,\n",
      "\tNearest to their: his, its, her, our, whose, your, the, my,\n",
      "\tNearest to only: both, therefore, otherwise, just, simply, actually, best, degenerative,\n",
      "\tNearest to its: their, his, her, the, our, whose, your, my,\n",
      "\tNearest to three: five, four, six, seven, eight, two, nine, zero,\n",
      "\tNearest to had: has, have, having, was, were, never, ever, since,\n",
      "\tNearest to united: british, wavell, stomachs, sovereign, preceding, specifically, cuisine, following,\n",
      "\tNearest to his: their, her, its, my, your, whose, our, the,\n",
      "\tNearest to often: usually, sometimes, generally, commonly, typically, still, frequently, now,\n",
      "\tNearest to five: four, six, seven, eight, three, nine, two, zero,\n",
      "\tNearest to up: out, off, back, down, him, them, away, behind,\n",
      "\tNearest to most: more, less, especially, particularly, quite, some, many, extremely,\n",
      "step 72000\t384s\tAverage loss: 4.403117\n",
      "step 74000\t395s\tAverage loss: 4.198362\n",
      "step 76000\t405s\tAverage loss: 4.415664\n",
      "step 78000\t416s\tAverage loss: 4.489708\n",
      "step 80000\t429s\tAverage loss: 4.317066\n",
      "\tNearest to no: another, any, little, a, strong, this, nine, some,\n",
      "\tNearest to so: thus, too, entre, sometimes, sushi, grossing, quite, therefore,\n",
      "\tNearest to the: their, its, his, our, whose, this, some, any,\n",
      "\tNearest to in: during, within, throughout, at, near, on, between, despite,\n",
      "\tNearest to into: through, from, via, within, around, under, across, back,\n",
      "\tNearest to their: its, his, her, our, whose, the, your, my,\n",
      "\tNearest to only: just, approximately, earliest, articulations, late, either, both, consubstantiation,\n",
      "\tNearest to its: their, his, her, our, the, whose, your, my,\n",
      "\tNearest to three: four, five, six, seven, two, eight, nine, one,\n",
      "\tNearest to had: has, have, having, were, was, never, gets, ever,\n",
      "\tNearest to united: british, specifically, stomachs, german, wavell, hawk, sovereign, both,\n",
      "\tNearest to his: her, their, its, my, your, whose, our, the,\n",
      "\tNearest to often: usually, sometimes, generally, commonly, typically, frequently, still, now,\n",
      "\tNearest to five: six, four, eight, seven, three, nine, two, zero,\n",
      "\tNearest to up: back, out, off, down, him, away, vagus, protect,\n",
      "\tNearest to most: less, more, many, especially, particularly, both, use, very,\n",
      "step 82000\t443s\tAverage loss: 4.103883\n",
      "step 84000\t458s\tAverage loss: 4.250638\n",
      "step 86000\t472s\tAverage loss: 4.255129\n",
      "step 88000\t485s\tAverage loss: 4.396056\n",
      "step 90000\t498s\tAverage loss: 4.255320\n",
      "\tNearest to no: another, any, little, strong, this, a, lombardo, juicy,\n",
      "\tNearest to so: sometimes, too, thus, therefore, something, perhaps, if, quite,\n",
      "\tNearest to the: their, its, his, our, whose, a, this, any,\n",
      "\tNearest to in: during, within, throughout, near, at, on, among, despite,\n",
      "\tNearest to into: through, via, from, within, towards, across, under, during,\n",
      "\tNearest to their: its, his, her, our, your, whose, my, the,\n",
      "\tNearest to only: just, approximately, earliest, late, last, roughly, therefore, meditations,\n",
      "\tNearest to its: their, his, her, our, the, whose, your, my,\n",
      "\tNearest to three: four, five, six, two, seven, eight, nine, zero,\n",
      "\tNearest to had: has, have, having, was, were, ever, never, gets,\n",
      "\tNearest to united: specifically, british, wavell, sovereign, hawk, zum, florida, financed,\n",
      "\tNearest to his: her, their, its, my, your, our, whose, the,\n",
      "\tNearest to often: usually, sometimes, generally, typically, commonly, frequently, still, now,\n",
      "\tNearest to five: six, four, seven, three, eight, nine, two, zero,\n",
      "\tNearest to up: off, back, out, down, them, together, him, away,\n",
      "\tNearest to most: more, less, many, especially, particularly, both, some, several,\n",
      "step 92000\t512s\tAverage loss: 4.169178\n",
      "step 94000\t526s\tAverage loss: 4.187094\n",
      "step 96000\t541s\tAverage loss: 4.161120\n",
      "step 98000\t556s\tAverage loss: 3.936359\n",
      "step 100000\t570s\tAverage loss: 3.920772\n",
      "\tNearest to no: another, any, little, this, additional, a, azimuth, nine,\n",
      "\tNearest to so: too, something, thus, sometimes, therefore, indeed, entre, perhaps,\n",
      "\tNearest to the: its, their, his, our, this, whose, your, any,\n",
      "\tNearest to in: during, within, near, throughout, at, despite, around, on,\n",
      "\tNearest to into: through, from, via, within, towards, across, during, under,\n",
      "\tNearest to their: his, its, her, our, your, whose, my, the,\n",
      "\tNearest to only: last, roughly, earliest, approximately, just, first, late, issue,\n",
      "\tNearest to its: their, his, her, our, the, whose, your, my,\n",
      "\tNearest to three: four, five, six, seven, eight, two, nine, zero,\n",
      "\tNearest to had: has, have, having, was, were, ever, never, enjoyed,\n",
      "\tNearest to united: meet, specifically, andersson, both, mjf, sovereign, osr, stomachs,\n",
      "\tNearest to his: her, their, its, my, your, our, whose, the,\n",
      "\tNearest to often: usually, sometimes, typically, generally, frequently, commonly, still, now,\n",
      "\tNearest to five: four, six, seven, eight, three, nine, two, zero,\n",
      "\tNearest to up: off, out, back, down, together, away, them, him,\n",
      "\tNearest to most: more, less, especially, particularly, many, both, some, quite,\n",
      "End.\n"
     ]
    }
   ],
   "source": [
    "##################\n",
    "# EJECUCION CBOW\n",
    "##################\n",
    "\n",
    "num_steps = 100001\n",
    "loss_report_interval = 2000\n",
    "similarity_report_interval = 10000\n",
    "top_k = 8 # number of nearest neighbors a mostrar en el informe de similitud\n",
    "\n",
    "t1 = time.time()\n",
    "\n",
    "sessCB = tf.Session(graph=graphCB_NCE)\n",
    "with sessCB as session:\n",
    "  tf.global_variables_initializer().run()\n",
    "  print('Initialized')\n",
    "  average_loss = 0\n",
    "\n",
    "  # iterar\n",
    "  for step in range(num_steps):\n",
    "    batch_data, batch_labels = generate_batch_cbow(batch_size, num_skips, skip_window)\n",
    "    feed_dict = {train_dataset : batch_data, train_labels : batch_labels}\n",
    "    _, L = session.run([optimizer, loss], feed_dict=feed_dict)\n",
    "    average_loss += L\n",
    "\n",
    "    # mostar la perdida media de un intervalo\n",
    "    if step % loss_report_interval == 0:\n",
    "      t2 = time.time()\n",
    "      if step > 0:\n",
    "        average_loss = average_loss / loss_report_interval\n",
    "      # The average loss is an estimate of the loss over the last loss_report_interval batches.\n",
    "      print('step %d\\t%ds\\tAverage loss: %f' % (step,t2-t1, average_loss))\n",
    "      average_loss = 0\n",
    "    \n",
    "    # mostrar la similitud alcanzada en un intervalo\n",
    "    # note that this is expensive (~20% slowdown if computed every 500 steps)\n",
    "    if step % similarity_report_interval == 0:\n",
    "      sim = similarity.eval() #tomar la variable calculada de similitud\n",
    "      for i in range(valid_size):\n",
    "        valid_word = reverse_dictionary[valid_examples[i]]\n",
    "        nearest = (-sim[i, :]).argsort()[1:top_k+1] # del vector de probabilidades de vecindad toma los 8 mayores\n",
    "        log = '\\tNearest to %s:' % valid_word\n",
    "        for k in range(top_k):\n",
    "          close_word = reverse_dictionary[nearest[k]]\n",
    "          log = '%s %s,' % (log, close_word)\n",
    "        print(log)\n",
    "        \n",
    "  final_cbow_embeddings = normalized_embeddings.eval() \n",
    "        #me quedo con las features finales que definen cada concepto de palabra\n",
    "  print(\"End.\")"
   ]
  },
  {
   "cell_type": "markdown",
   "metadata": {},
   "source": [
    "##### Vamos a dibujar cosas"
   ]
  },
  {
   "cell_type": "code",
   "execution_count": 17,
   "metadata": {
    "collapsed": false
   },
   "outputs": [
    {
     "name": "stdout",
     "output_type": "stream",
     "text": [
      "ID for \"but\" is 42\n",
      "computing neighbors...\n",
      "\tNearest 8 to \"but\": however, although, and, while, though, since, nevertheless, see,\n",
      "projecting and plotting...\n",
      "\tPCA variance ratio [ 0.25149943  0.1901748 ]\n"
     ]
    },
    {
     "data": {
      "image/png": "[encoded data removed]",
      "text/plain": [
       "<matplotlib.figure.Figure at 0x120a1bc10>"
      ]
     },
     "metadata": {},
     "output_type": "display_data"
    },
    {
     "name": "stdout",
     "output_type": "stream",
     "text": [
      "ID for \"woman\" is 1014\n",
      "computing neighbors...\n",
      "\tNearest 8 to \"woman\": man, person, people, son, female, speech, women, children,\n",
      "projecting and plotting...\n",
      "\tPCA variance ratio [ 0.23833531  0.205032  ]\n"
     ]
    },
    {
     "data": {
      "image/png": "[encoded data removed]",
      "text/plain": [
       "<matplotlib.figure.Figure at 0x1208332d0>"
      ]
     },
     "metadata": {},
     "output_type": "display_data"
    }
   ],
   "source": [
    "#CBOW\n",
    "show_nearest_embeddings_PCA('but',final_cbow_embeddings,area=8)\n",
    "show_nearest_embeddings_PCA('woman',final_cbow_embeddings,area=8)"
   ]
  },
  {
   "cell_type": "code",
   "execution_count": null,
   "metadata": {
    "collapsed": true
   },
   "outputs": [],
   "source": []
  }
 ],
 "metadata": {
  "colab": {
   "default_view": {},
   "name": "5_word2vec.ipynb",
   "provenance": [],
   "version": "0.3.2",
   "views": {}
  },
  "kernelspec": {
   "display_name": "Python 2",
   "language": "python",
   "name": "python2"
  },
  "language_info": {
   "codemirror_mode": {
    "name": "ipython",
    "version": 2
   },
   "file_extension": ".py",
   "mimetype": "text/x-python",
   "name": "python",
   "nbconvert_exporter": "python",
   "pygments_lexer": "ipython2",
   "version": "2.7.12"
  }
 },
 "nbformat": 4,
 "nbformat_minor": 0
}
