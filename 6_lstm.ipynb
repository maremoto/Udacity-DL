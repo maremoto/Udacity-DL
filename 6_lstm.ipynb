{
 "cells": [
  {
   "cell_type": "markdown",
   "metadata": {
    "colab_type": "text",
    "id": "8tQJd2YSCfWR"
   },
   "source": []
  },
  {
   "cell_type": "markdown",
   "metadata": {
    "colab_type": "text",
    "id": "D7tqLMoKF6uq"
   },
   "source": [
    "Deep Learning\n",
    "=============\n",
    "\n",
    "Assignment 6\n",
    "------------\n",
    "\n",
    "After training a skip-gram model in `5_word2vec.ipynb`, the goal of this notebook is to train a LSTM character model over [Text8](http://mattmahoney.net/dc/textdata) data."
   ]
  },
  {
   "cell_type": "code",
   "execution_count": 1,
   "metadata": {
    "cellView": "both",
    "colab": {
     "autoexec": {
      "startup": false,
      "wait_interval": 0
     }
    },
    "colab_type": "code",
    "collapsed": true,
    "id": "MvEblsgEXxrd"
   },
   "outputs": [],
   "source": [
    "# These are all the modules we'll be using later. Make sure you can import them\n",
    "# before proceeding further.\n",
    "from __future__ import print_function\n",
    "import os\n",
    "import numpy as np\n",
    "import random\n",
    "import string\n",
    "import tensorflow as tf\n",
    "import zipfile\n",
    "from six.moves import range\n",
    "from six.moves.urllib.request import urlretrieve"
   ]
  },
  {
   "cell_type": "code",
   "execution_count": 51,
   "metadata": {
    "collapsed": true
   },
   "outputs": [],
   "source": [
    "import time\n",
    "def how_long(f, *args):\n",
    "    #medir el tiempo que tarda f\n",
    "    t1 = time.time()\n",
    "    res = f(*args)\n",
    "    t2 = time.time()\n",
    "    print (\"tiempo utilizado = \",t2-t1)\n",
    "    #return res, t2-t1\n",
    "    return res"
   ]
  },
  {
   "cell_type": "code",
   "execution_count": 2,
   "metadata": {
    "cellView": "both",
    "colab": {
     "autoexec": {
      "startup": false,
      "wait_interval": 0
     },
     "output_extras": [
      {
       "item_id": 1
      }
     ]
    },
    "colab_type": "code",
    "collapsed": false,
    "executionInfo": {
     "elapsed": 5993,
     "status": "ok",
     "timestamp": 1445965582896,
     "user": {
      "color": "#1FA15D",
      "displayName": "Vincent Vanhoucke",
      "isAnonymous": false,
      "isMe": true,
      "permissionId": "05076109866853157986",
      "photoUrl": "//lh6.googleusercontent.com/-cCJa7dTDcgQ/AAAAAAAAAAI/AAAAAAAACgw/r2EZ_8oYer4/s50-c-k-no/photo.jpg",
      "sessionId": "6f6f07b359200c46",
      "userId": "102167687554210253930"
     },
     "user_tz": 420
    },
    "id": "RJ-o3UBUFtCw",
    "outputId": "d530534e-0791-4a94-ca6d-1c8f1b908a9e"
   },
   "outputs": [
    {
     "name": "stdout",
     "output_type": "stream",
     "text": [
      "Found and verified text8.zip\n"
     ]
    }
   ],
   "source": [
    "url = 'http://mattmahoney.net/dc/'\n",
    "\n",
    "def maybe_download(filename, expected_bytes):\n",
    "  \"\"\"Download a file if not present, and make sure it's the right size.\"\"\"\n",
    "  if not os.path.exists(filename):\n",
    "    filename, _ = urlretrieve(url + filename, filename)\n",
    "  statinfo = os.stat(filename)\n",
    "  if statinfo.st_size == expected_bytes:\n",
    "    print('Found and verified %s' % filename)\n",
    "  else:\n",
    "    print(statinfo.st_size)\n",
    "    raise Exception(\n",
    "      'Failed to verify ' + filename + '. Can you get to it with a browser?')\n",
    "  return filename\n",
    "\n",
    "filename = maybe_download('text8.zip', 31344016)"
   ]
  },
  {
   "cell_type": "code",
   "execution_count": 3,
   "metadata": {
    "cellView": "both",
    "colab": {
     "autoexec": {
      "startup": false,
      "wait_interval": 0
     },
     "output_extras": [
      {
       "item_id": 1
      }
     ]
    },
    "colab_type": "code",
    "collapsed": false,
    "executionInfo": {
     "elapsed": 5982,
     "status": "ok",
     "timestamp": 1445965582916,
     "user": {
      "color": "#1FA15D",
      "displayName": "Vincent Vanhoucke",
      "isAnonymous": false,
      "isMe": true,
      "permissionId": "05076109866853157986",
      "photoUrl": "//lh6.googleusercontent.com/-cCJa7dTDcgQ/AAAAAAAAAAI/AAAAAAAACgw/r2EZ_8oYer4/s50-c-k-no/photo.jpg",
      "sessionId": "6f6f07b359200c46",
      "userId": "102167687554210253930"
     },
     "user_tz": 420
    },
    "id": "Mvf09fjugFU_",
    "outputId": "8f75db58-3862-404b-a0c3-799380597390"
   },
   "outputs": [
    {
     "name": "stdout",
     "output_type": "stream",
     "text": [
      "Data size 100000000\n"
     ]
    }
   ],
   "source": [
    "def read_data(filename):\n",
    "  with zipfile.ZipFile(filename) as f:\n",
    "    name = f.namelist()[0]\n",
    "    data = tf.compat.as_str(f.read(name))\n",
    "  return data\n",
    "  \n",
    "text = read_data(filename)\n",
    "print('Data size %d' % len(text))"
   ]
  },
  {
   "cell_type": "markdown",
   "metadata": {
    "colab_type": "text",
    "id": "ga2CYACE-ghb"
   },
   "source": [
    "Create a small validation set."
   ]
  },
  {
   "cell_type": "code",
   "execution_count": 7,
   "metadata": {
    "cellView": "both",
    "colab": {
     "autoexec": {
      "startup": false,
      "wait_interval": 0
     },
     "output_extras": [
      {
       "item_id": 1
      }
     ]
    },
    "colab_type": "code",
    "collapsed": false,
    "executionInfo": {
     "elapsed": 6184,
     "status": "ok",
     "timestamp": 1445965583138,
     "user": {
      "color": "#1FA15D",
      "displayName": "Vincent Vanhoucke",
      "isAnonymous": false,
      "isMe": true,
      "permissionId": "05076109866853157986",
      "photoUrl": "//lh6.googleusercontent.com/-cCJa7dTDcgQ/AAAAAAAAAAI/AAAAAAAACgw/r2EZ_8oYer4/s50-c-k-no/photo.jpg",
      "sessionId": "6f6f07b359200c46",
      "userId": "102167687554210253930"
     },
     "user_tz": 420
    },
    "id": "w-oBpfFG-j43",
    "outputId": "bdb96002-d021-4379-f6de-a977924f0d02"
   },
   "outputs": [
    {
     "name": "stdout",
     "output_type": "stream",
     "text": [
      "99999000 ons anarchists advocate social relations based upon voluntary as\n",
      "1000  anarchism originated as a term of abuse first used against earl\n"
     ]
    }
   ],
   "source": [
    "valid_size = 1000 #Los mil primeros chars son de validación\n",
    "valid_text = text[:valid_size]\n",
    "train_text = text[valid_size:]\n",
    "train_size = len(train_text)\n",
    "print(train_size, train_text[:64])\n",
    "print(valid_size, valid_text[:64])"
   ]
  },
  {
   "cell_type": "markdown",
   "metadata": {
    "colab_type": "text",
    "id": "Zdw6i4F8glpp"
   },
   "source": [
    "Utility functions to map characters to vocabulary IDs and back."
   ]
  },
  {
   "cell_type": "code",
   "execution_count": 11,
   "metadata": {
    "cellView": "both",
    "colab": {
     "autoexec": {
      "startup": false,
      "wait_interval": 0
     },
     "output_extras": [
      {
       "item_id": 1
      }
     ]
    },
    "colab_type": "code",
    "collapsed": false,
    "executionInfo": {
     "elapsed": 6276,
     "status": "ok",
     "timestamp": 1445965583249,
     "user": {
      "color": "#1FA15D",
      "displayName": "Vincent Vanhoucke",
      "isAnonymous": false,
      "isMe": true,
      "permissionId": "05076109866853157986",
      "photoUrl": "//lh6.googleusercontent.com/-cCJa7dTDcgQ/AAAAAAAAAAI/AAAAAAAACgw/r2EZ_8oYer4/s50-c-k-no/photo.jpg",
      "sessionId": "6f6f07b359200c46",
      "userId": "102167687554210253930"
     },
     "user_tz": 420
    },
    "id": "gAL1EECXeZsD",
    "outputId": "88fc9032-feb9-45ff-a9a0-a26759cc1f2e"
   },
   "outputs": [
    {
     "name": "stdout",
     "output_type": "stream",
     "text": [
      "Unexpected character: ï\n",
      "1 26 0 0\n",
      "a z  \n"
     ]
    }
   ],
   "source": [
    "vocabulary_size = len(string.ascii_lowercase) + 1 # [a-z] + ' '\n",
    "first_letter = ord(string.ascii_lowercase[0])\n",
    "\n",
    "def char2id(char):\n",
    "  if char in string.ascii_lowercase:\n",
    "    return ord(char) - first_letter + 1\n",
    "  elif char == ' ':\n",
    "    return 0\n",
    "  else:\n",
    "    print('Unexpected character: %s' % char)\n",
    "    return 0\n",
    "  \n",
    "def id2char(dictid):\n",
    "  if dictid > 0:\n",
    "    return chr(dictid + first_letter - 1)\n",
    "  else:\n",
    "    return ' '\n",
    "\n",
    "print(char2id('a'), char2id('z'), char2id(' '), char2id('ï'))\n",
    "print(id2char(1), id2char(26), id2char(0))"
   ]
  },
  {
   "cell_type": "markdown",
   "metadata": {
    "colab_type": "text",
    "id": "lFwoyygOmWsL"
   },
   "source": [
    "Function to generate a training batch for the LSTM model."
   ]
  },
  {
   "cell_type": "code",
   "execution_count": 46,
   "metadata": {
    "cellView": "both",
    "colab": {
     "autoexec": {
      "startup": false,
      "wait_interval": 0
     },
     "output_extras": [
      {
       "item_id": 1
      }
     ]
    },
    "colab_type": "code",
    "collapsed": false,
    "executionInfo": {
     "elapsed": 6473,
     "status": "ok",
     "timestamp": 1445965583467,
     "user": {
      "color": "#1FA15D",
      "displayName": "Vincent Vanhoucke",
      "isAnonymous": false,
      "isMe": true,
      "permissionId": "05076109866853157986",
      "photoUrl": "//lh6.googleusercontent.com/-cCJa7dTDcgQ/AAAAAAAAAAI/AAAAAAAACgw/r2EZ_8oYer4/s50-c-k-no/photo.jpg",
      "sessionId": "6f6f07b359200c46",
      "userId": "102167687554210253930"
     },
     "user_tz": 420
    },
    "id": "d9wMtjy5hCj9",
    "outputId": "3dd79c80-454a-4be0-8b71-4a4a357b3367",
    "scrolled": true
   },
   "outputs": [
    {
     "name": "stdout",
     "output_type": "stream",
     "text": [
      "train\n",
      "['ons anarchi', 'when milita', 'lleria arch', ' abbeys and', 'married urr', 'hel and ric', 'y and litur', 'ay opened f', 'tion from t', 'migration t', 'new york ot', 'he boeing s', 'e listed wi', 'eber has pr', 'o be made t', 'yer who rec', 'ore signifi', 'a fierce cr', ' two six ei', 'aristotle s', 'ity can be ', ' and intrac', 'tion of the', 'dy to pass ', 'f certain d', 'at it will ', 'e convince ', 'ent told hi', 'ampaign and', 'rver side s', 'ious texts ', 'o capitaliz', 'a duplicate', 'gh ann es d', 'ine january', 'ross zero t', 'cal theorie', 'ast instanc', ' dimensiona', 'most holy m', 't s support', 'u is still ', 'e oscillati', 'o eight sub', 'of italy la', 's the tower', 'klahoma pre', 'erprise lin', 'ws becomes ', 'et in a naz', 'the fabian ', 'etchy to re', ' sharman ne', 'ised empero', 'ting in pol', 'd neo latin', 'th risky ri', 'encyclopedi', 'fense the a', 'duating fro', 'treet grid ', 'ations more', 'appeal of d', 'si have mad']\n",
      "11\n",
      "(64, 27)\n",
      "['ists advoca', 'ary governm', 'hes nationa', 'd monasteri', 'raca prince', 'chard baer ', 'rgical lang', 'for passeng', 'the nationa', 'took place ', 'ther well k', 'seven six s', 'ith a gloss', 'robably bee', 'to recogniz', 'ceived the ', 'icant than ', 'ritic of th', 'ight in sig', 's uncaused ', ' lost as in', 'cellular ic', 'e size of t', ' him a stic', 'drugs confu', ' take to co', ' the priest', 'im to name ', 'd barred at', 'standard fo', ' such as es', 'ze on the g', 'e of the or', 'd hiver one', 'y eight mar', 'the lead ch', 'es classica', 'ce the non ', 'al analysis', 'mormons bel', 't or at lea', ' disagreed ', 'ing system ', 'btypes base', 'anguages th', 'r commissio', 'ess one nin', 'nux suse li', ' the first ', 'zi concentr', ' society ne', 'elatively s', 'etworks sha', 'or hirohito', 'litical ini', 'n most of t', 'iskerdoo ri', 'ic overview', 'air compone', 'om acnm acc', ' centerline', 'e than any ', 'devotional ', 'de such dev']\n",
      "\n",
      "valid\n",
      "[' a']\n",
      "['an']\n"
     ]
    }
   ],
   "source": [
    "batch_size=64 #trocitos de frases en un lote\n",
    "num_unrollings=10 #caracteres-1 en cada trocito (hay uno más de solapamiento)\n",
    "\n",
    "class BatchGenerator(object):\n",
    "  def __init__(self, text, batch_size, num_unrollings):\n",
    "    self._text = text\n",
    "    self._text_size = len(text)\n",
    "    self._batch_size = batch_size\n",
    "    self._num_unrollings = num_unrollings\n",
    "    segment = self._text_size // batch_size #reparte el texto en N caminos de predicion (N=batch_size)\n",
    "                                            #y cada una la va encadenando por separado\n",
    "        \n",
    "    self._cursor = [ offset * segment for offset in range(batch_size)] #lleva un array de N cursores (N=batch_size)\n",
    "                                                                        #para cada camino de prediccion\n",
    "    self._last_batch = self._next_batch() #fija el último lote al primero de todos\n",
    "  \n",
    "  def _next_batch(self):\n",
    "    \"\"\"Generate a single batch from the current cursor position in the data.\"\"\"\n",
    "    batch = np.zeros(shape=(self._batch_size, vocabulary_size), dtype=np.float)\n",
    "    for b in range(self._batch_size):\n",
    "      batch[b, char2id(self._text[self._cursor[b]])] = 1.0 #1-hot-encoded array\n",
    "      self._cursor[b] = (self._cursor[b] + 1) % self._text_size #incrementa el puntero en modo circular por el texto\n",
    "    return batch\n",
    "  \n",
    "  def next(self):\n",
    "    \"\"\"Generate the next array of batches from the data. The array consists of\n",
    "    the last batch of the previous array, followed by num_unrollings new ones.\n",
    "    \"\"\"\n",
    "    batches = [self._last_batch] #cada trocito de frase del lote se solapa en el último caracter \n",
    "                                    #del trocito de frase de la misma posicion en el lote anterior\n",
    "    for step in range(self._num_unrollings): #va añadiendo chars a cada trocito de texto del lote hasta llegar a num_unrollings+1\n",
    "      batches.append(self._next_batch())\n",
    "    self._last_batch = batches[-1]\n",
    "    return batches\n",
    "\n",
    "def characters(probabilities):\n",
    "  \"\"\"Turn a 1-hot encoding or a probability distribution over the possible\n",
    "  characters back into its (most likely) character representation.\"\"\"\n",
    "  return [id2char(c) for c in np.argmax(probabilities, 1)] #Toma el mayor valor (o valores si hay varios iguales)\n",
    "                                                            #del vector de probabilidades y devuelve la lista de caracteres\n",
    "\n",
    "def batches2string(batches):\n",
    "  \"\"\"Convert a sequence of batches back into their (most likely) string\n",
    "  representation.\"\"\"\n",
    "  s = [''] * batches[0].shape[0] #reserva una cadena vacía para N caminos de predicción (N=batch_size)\n",
    "  for b in batches:\n",
    "    s = [''.join(x) for x in zip(s, characters(b))] #va pegando la cadena predicha en cada batch, o bien el hot-encoded literal\n",
    "  return s\n",
    "\n",
    "train_batches = BatchGenerator(train_text, batch_size, num_unrollings)\n",
    "valid_batches = BatchGenerator(valid_text, 1, 1)\n",
    "\n",
    "print(\"train\")\n",
    "t1=train_batches.next()\n",
    "print(batches2string(t1))\n",
    "print(len(t1))\n",
    "print(t1[0].shape)\n",
    "print(batches2string(train_batches.next()))\n",
    "print(\"\\nvalid\")\n",
    "print(batches2string(valid_batches.next()))\n",
    "print(batches2string(valid_batches.next()))\n",
    "#print(batches2string(valid_batches.next()))\n",
    "#print(batches2string(valid_batches.next()))\n",
    "#print(batches2string(valid_batches.next()))"
   ]
  },
  {
   "cell_type": "code",
   "execution_count": 47,
   "metadata": {
    "cellView": "both",
    "colab": {
     "autoexec": {
      "startup": false,
      "wait_interval": 0
     }
    },
    "colab_type": "code",
    "collapsed": true,
    "id": "KyVd8FxT5QBc"
   },
   "outputs": [],
   "source": [
    "def logprob(predictions, labels):\n",
    "  \"\"\"Log-probability of the true labels in a predicted batch.\"\"\"\n",
    "  predictions[predictions < 1e-10] = 1e-10\n",
    "  return np.sum(np.multiply(labels, -np.log(predictions))) / labels.shape[0]\n",
    "\n",
    "def sample_distribution(distribution):\n",
    "  \"\"\"Sample one element from a distribution assumed to be an array of normalized probabilities.\"\"\"\n",
    "  r = random.uniform(0, 1)\n",
    "  s = 0\n",
    "  for i in range(len(distribution)):\n",
    "    s += distribution[i]\n",
    "    if s >= r:\n",
    "      return i\n",
    "  return len(distribution) - 1\n",
    "\n",
    "def sample(prediction):\n",
    "  \"\"\"Turn a (column) prediction into 1-hot encoded samples.\"\"\"\n",
    "  p = np.zeros(shape=[1, vocabulary_size], dtype=np.float)\n",
    "  p[0, sample_distribution(prediction[0])] = 1.0\n",
    "  return p\n",
    "\n",
    "def random_distribution():\n",
    "  \"\"\"Generate a random column of probabilities.\"\"\"\n",
    "  b = np.random.uniform(0.0, 1.0, size=[1, vocabulary_size])\n",
    "  return b/np.sum(b, 1)[:,None]"
   ]
  },
  {
   "cell_type": "markdown",
   "metadata": {
    "colab_type": "text",
    "id": "K8f67YXaDr4C"
   },
   "source": [
    "Simple LSTM Model."
   ]
  },
  {
   "cell_type": "markdown",
   "metadata": {},
   "source": [
    "[documento] (http://arxiv.org/pdf/1402.1128v1.pdf)"
   ]
  },
  {
   "cell_type": "code",
   "execution_count": 74,
   "metadata": {
    "cellView": "both",
    "colab": {
     "autoexec": {
      "startup": false,
      "wait_interval": 0
     }
    },
    "colab_type": "code",
    "collapsed": false,
    "id": "Q5rxZK6RDuGe"
   },
   "outputs": [
    {
     "name": "stdout",
     "output_type": "stream",
     "text": [
      "(27,)\n"
     ]
    }
   ],
   "source": [
    "##################\n",
    "# DECLARACION LSTM\n",
    "##################\n",
    "\n",
    "num_nodes = 64 #Tantas células en la memoria como líneas de entrenamiento va a seguir en un lote, que casualidad\n",
    "starter_learning_rate = 10.0\n",
    "learning_decay_steps = 5000\n",
    "learning_decay_rate = 0.1\n",
    "clip_limit = 1.25\n",
    "\n",
    "graphLSTM = tf.Graph()\n",
    "with graphLSTM.as_default():\n",
    "  \n",
    "  # Parameters:\n",
    "  # Input gate: input, previous output, and bias.\n",
    "  ix = tf.Variable(tf.truncated_normal([vocabulary_size, num_nodes], -0.1, 0.1))\n",
    "  im = tf.Variable(tf.truncated_normal([num_nodes, num_nodes], -0.1, 0.1))\n",
    "  ib = tf.Variable(tf.zeros([1, num_nodes]))\n",
    "  # Forget gate: input, previous output, and bias.\n",
    "  fx = tf.Variable(tf.truncated_normal([vocabulary_size, num_nodes], -0.1, 0.1))\n",
    "  fm = tf.Variable(tf.truncated_normal([num_nodes, num_nodes], -0.1, 0.1))\n",
    "  fb = tf.Variable(tf.zeros([1, num_nodes]))\n",
    "  # Memory cell: input, state and bias.                             \n",
    "  cx = tf.Variable(tf.truncated_normal([vocabulary_size, num_nodes], -0.1, 0.1))\n",
    "  cm = tf.Variable(tf.truncated_normal([num_nodes, num_nodes], -0.1, 0.1))\n",
    "  cb = tf.Variable(tf.zeros([1, num_nodes]))\n",
    "  # Output gate: input, previous output, and bias.\n",
    "  ox = tf.Variable(tf.truncated_normal([vocabulary_size, num_nodes], -0.1, 0.1))\n",
    "  om = tf.Variable(tf.truncated_normal([num_nodes, num_nodes], -0.1, 0.1))\n",
    "  ob = tf.Variable(tf.zeros([1, num_nodes]))\n",
    "  # Variables saving state across unrollings.\n",
    "  saved_output = tf.Variable(tf.zeros([batch_size, num_nodes]), trainable=False)\n",
    "  saved_state = tf.Variable(tf.zeros([batch_size, num_nodes]), trainable=False)\n",
    "  # Classifier weights and biases.\n",
    "  w = tf.Variable(tf.truncated_normal([num_nodes, vocabulary_size], -0.1, 0.1))\n",
    "  b = tf.Variable(tf.zeros([vocabulary_size]))\n",
    "  \n",
    "  # Definition of the cell computation.\n",
    "  def lstm_cell(i, o, state):\n",
    "    \"\"\"Create a LSTM cell. See e.g.: http://arxiv.org/pdf/1402.1128v1.pdf\n",
    "    Note that in this formulation, we omit the various connections between the previous state and the gates.\"\"\"\n",
    "    input_gate = tf.sigmoid(tf.matmul(i, ix) + tf.matmul(o, im) + ib)\n",
    "    forget_gate = tf.sigmoid(tf.matmul(i, fx) + tf.matmul(o, fm) + fb)\n",
    "    update = tf.matmul(i, cx) + tf.matmul(o, cm) + cb\n",
    "    state = forget_gate * state + input_gate * tf.tanh(update)\n",
    "    output_gate = tf.sigmoid(tf.matmul(i, ox) + tf.matmul(o, om) + ob)\n",
    "    return output_gate * tf.tanh(state), state\n",
    "\n",
    "  # Input data.\n",
    "  train_data = list()\n",
    "  for _ in range(num_unrollings + 1):\n",
    "    train_data.append(\n",
    "      tf.placeholder(tf.float32, shape=[batch_size,vocabulary_size]))\n",
    "  train_inputs = train_data[:num_unrollings] #mira que listos, para esto quiere que se solape el último char de cada ráfaga\n",
    "                                            #para poder quedarse con los num_unrollings primeros\n",
    "                                            #y luego tener las etiquetas con los num_unrollings últimos\n",
    "  train_labels = train_data[1:]  # labels are inputs shifted by one time step.\n",
    "\n",
    "  # Unrolled LSTM loop.\n",
    "  outputs = list()\n",
    "  output = saved_output\n",
    "  state = saved_state\n",
    "  for i in train_inputs:\n",
    "    output, state = lstm_cell(i, output, state)\n",
    "    outputs.append(output)\n",
    "\n",
    "  # State saving across unrollings.\n",
    "  with tf.control_dependencies([saved_output.assign(output),saved_state.assign(state)]):\n",
    "    # Classifier.\n",
    "    logits = tf.nn.xw_plus_b(tf.concat_v2(outputs, 0), w, b)\n",
    "    loss = tf.reduce_mean(tf.nn.softmax_cross_entropy_with_logits(logits, tf.concat_v2(train_labels, 0)))\n",
    "                #Evalúa la salida de cada ráfaga con un logistic classifier normal\n",
    "\n",
    "  # Optimizer.\n",
    "  global_step = tf.Variable(0)\n",
    "  learning_rate = tf.train.exponential_decay(starter_learning_rate, global_step, learning_decay_steps, learning_decay_rate, staircase=True)\n",
    "  optimizer = tf.train.GradientDescentOptimizer(learning_rate)\n",
    "  gradients, v = zip(*optimizer.compute_gradients(loss))\n",
    "  gradients, _ = tf.clip_by_global_norm(gradients, clip_limit) #Limitar los pesos para que no se disparen y quitar el exploding\n",
    "  optimizer = optimizer.apply_gradients(zip(gradients, v), global_step=global_step)\n",
    "\n",
    "  # Predictions.\n",
    "  train_prediction = tf.nn.softmax(logits)\n",
    "  \n",
    "  # Sampling and validation eval: batch size = 1, no unrolling.\n",
    "  sample_input = tf.placeholder(tf.float32, shape=[1, vocabulary_size])\n",
    "  saved_sample_output = tf.Variable(tf.zeros([1, num_nodes]))\n",
    "  saved_sample_state = tf.Variable(tf.zeros([1, num_nodes]))\n",
    "  reset_sample_state = tf.group(saved_sample_output.assign(tf.zeros([1, num_nodes])),saved_sample_state.assign(tf.zeros([1, num_nodes])))\n",
    "  sample_output, sample_state = lstm_cell(sample_input, saved_sample_output, saved_sample_state)\n",
    "  with tf.control_dependencies([saved_sample_output.assign(sample_output),saved_sample_state.assign(sample_state)]):\n",
    "    sample_prediction = tf.nn.softmax(tf.nn.xw_plus_b(sample_output, w, b))\n",
    "    \n",
    "    #Para verificar, toma nuestro texto de validación y ve si se predice bien aplicando X'*W+b = Y, \n",
    "    #donde X' es la salida de la MEMORIA después de meterle X de entrada y el estado anterior guardado S (HISTORIA)\n",
    "    #El texto de validación se alimenta letra a letra, no por ráfagas como el entrenamiento"
   ]
  },
  {
   "cell_type": "code",
   "execution_count": 71,
   "metadata": {
    "cellView": "both",
    "colab": {
     "autoexec": {
      "startup": false,
      "wait_interval": 0
     },
     "output_extras": [
      {
       "item_id": 41
      },
      {
       "item_id": 80
      },
      {
       "item_id": 126
      },
      {
       "item_id": 144
      }
     ]
    },
    "colab_type": "code",
    "collapsed": false,
    "executionInfo": {
     "elapsed": 199909,
     "status": "ok",
     "timestamp": 1445965877333,
     "user": {
      "color": "#1FA15D",
      "displayName": "Vincent Vanhoucke",
      "isAnonymous": false,
      "isMe": true,
      "permissionId": "05076109866853157986",
      "photoUrl": "//lh6.googleusercontent.com/-cCJa7dTDcgQ/AAAAAAAAAAI/AAAAAAAACgw/r2EZ_8oYer4/s50-c-k-no/photo.jpg",
      "sessionId": "6f6f07b359200c46",
      "userId": "102167687554210253930"
     },
     "user_tz": 420
    },
    "id": "RD9zQCZTEaEm",
    "outputId": "5e868466-2532-4545-ce35-b403cf5d9de6",
    "scrolled": true
   },
   "outputs": [
    {
     "name": "stdout",
     "output_type": "stream",
     "text": [
      "Initialized\n",
      "Step\t0\t1s: AvgLoss 3.295013\tLRate 10.000000\tMBperplex 26.98\tVSperplex 20.15\n",
      "================================================================================\n",
      "plr arilptsn i  t ert inan vir zbnm mmfimwrn   afhinisfslxg g tsregp mxlojajgl  \n",
      "wwdktntr wnta    ideqnsytr euffdh   swenebiyxazeokqnxrecnga ioei r lwrwab onols \n",
      "y  qat g   nf mpy h  ipxezkesbesty hr g  svro qccnxv  ntfo z e enybbcyiatxgyzeex\n",
      "zcisjheocgv xgawc rw wnqilnauwcupji vqc mevetao el wyo erq zg  bzenmlk nlo pgmt \n",
      "tag ahb kcnvm uc ewgeheazyuxxterxpevcwnniit f sensucueu gohvnoktblwgwtghydmkr ey\n",
      "================================================================================\n",
      "Step\t100\t4s: AvgLoss 2.578933\tLRate 10.000000\tMBperplex 10.87\tVSperplex 10.42\n",
      "Step\t200\t7s: AvgLoss 2.261541\tLRate 10.000000\tMBperplex 8.61\tVSperplex 8.99\n",
      "Step\t300\t9s: AvgLoss 2.131524\tLRate 10.000000\tMBperplex 7.77\tVSperplex 8.11\n",
      "Step\t400\t12s: AvgLoss 2.020978\tLRate 10.000000\tMBperplex 7.34\tVSperplex 8.16\n",
      "Step\t500\t15s: AvgLoss 1.955561\tLRate 10.000000\tMBperplex 6.72\tVSperplex 7.29\n",
      "Step\t600\t18s: AvgLoss 1.931772\tLRate 10.000000\tMBperplex 6.68\tVSperplex 7.35\n",
      "Step\t700\t20s: AvgLoss 1.866653\tLRate 10.000000\tMBperplex 7.81\tVSperplex 7.15\n",
      "Step\t800\t23s: AvgLoss 1.858216\tLRate 10.000000\tMBperplex 5.17\tVSperplex 6.49\n",
      "Step\t900\t26s: AvgLoss 1.832129\tLRate 10.000000\tMBperplex 6.13\tVSperplex 6.43\n",
      "Step\t1000\t29s: AvgLoss 1.802273\tLRate 10.000000\tMBperplex 5.72\tVSperplex 6.32\n",
      "================================================================================\n",
      "edgy poeft of a micalbgel leeser of is rescard he brimaplauser prines that nine \n",
      "whened elboroweds when leduasmument hathesed he jeanann wistzanne for a larpel t\n",
      "x mackente elfound begaria suppsing releated wiple sistion whicated se op tieste\n",
      "uss fore nine estrequef meter trash oc abporing one nine three ond melectyver of\n",
      "mativi a parest yogring it delvord sersoned and hestafiskust severor a mirova lo\n",
      "================================================================================\n",
      "Step\t1100\t32s: AvgLoss 1.797003\tLRate 10.000000\tMBperplex 6.26\tVSperplex 5.97\n",
      "Step\t1200\t34s: AvgLoss 1.760497\tLRate 10.000000\tMBperplex 5.04\tVSperplex 6.03\n",
      "Step\t1300\t37s: AvgLoss 1.770054\tLRate 10.000000\tMBperplex 5.61\tVSperplex 5.99\n",
      "Step\t1400\t40s: AvgLoss 1.778228\tLRate 10.000000\tMBperplex 6.56\tVSperplex 6.02\n",
      "Step\t1500\t43s: AvgLoss 1.765813\tLRate 10.000000\tMBperplex 5.12\tVSperplex 5.85\n",
      "Step\t1600\t46s: AvgLoss 1.739023\tLRate 10.000000\tMBperplex 5.32\tVSperplex 5.59\n",
      "Step\t1700\t48s: AvgLoss 1.758023\tLRate 10.000000\tMBperplex 5.46\tVSperplex 5.46\n",
      "Step\t1800\t51s: AvgLoss 1.742066\tLRate 10.000000\tMBperplex 5.01\tVSperplex 5.42\n",
      "Step\t1900\t54s: AvgLoss 1.717109\tLRate 10.000000\tMBperplex 4.83\tVSperplex 5.53\n",
      "Step\t2000\t57s: AvgLoss 1.693855\tLRate 10.000000\tMBperplex 5.75\tVSperplex 5.51\n",
      "================================================================================\n",
      "ints athers and luster matrrion and miteralty in chors imbelatyous p peac blord \n",
      "xer of shrop the boops and exweterney facilation his american where of metroxic \n",
      "k inclided byppinary by firan net meks asress the nitle one nine aireations to v\n",
      "e electmoncrussetural the sigred oreson andrity is glear forced wet sen as a hes\n",
      "y resuved one eight one nine eight eight nine one dis towlity comparts one she m\n",
      "================================================================================\n",
      "Step\t2100\t60s: AvgLoss 1.693481\tLRate 10.000000\tMBperplex 5.52\tVSperplex 5.41\n",
      "Step\t2200\t63s: AvgLoss 1.718459\tLRate 10.000000\tMBperplex 5.77\tVSperplex 5.44\n",
      "Step\t2300\t66s: AvgLoss 1.691049\tLRate 10.000000\tMBperplex 5.46\tVSperplex 5.40\n",
      "Step\t2400\t68s: AvgLoss 1.673023\tLRate 10.000000\tMBperplex 5.10\tVSperplex 5.37\n",
      "Step\t2500\t71s: AvgLoss 1.663871\tLRate 10.000000\tMBperplex 5.08\tVSperplex 5.32\n",
      "Step\t2600\t74s: AvgLoss 1.668698\tLRate 10.000000\tMBperplex 5.86\tVSperplex 5.41\n",
      "Step\t2700\t77s: AvgLoss 1.668924\tLRate 10.000000\tMBperplex 5.37\tVSperplex 5.17\n",
      "Step\t2800\t80s: AvgLoss 1.633420\tLRate 10.000000\tMBperplex 4.91\tVSperplex 5.38\n",
      "Step\t2900\t83s: AvgLoss 1.650004\tLRate 10.000000\tMBperplex 5.38\tVSperplex 5.32\n",
      "Step\t3000\t85s: AvgLoss 1.674399\tLRate 10.000000\tMBperplex 6.13\tVSperplex 5.41\n",
      "================================================================================\n",
      "x salls nonatic those was relly one five of the five officbin of the survest tim\n",
      "w neak two two one five over twe frowe the may to called alm one neastingl final\n",
      "rimble one ginal incondind wove tos suporce algolitok anothish mabe on elecre mo\n",
      "mbomed gersed as for saretased and nobether is bis rind its one right of the man\n",
      "bern de recalount ong the proled by sinch of the his marcon as by amage fon as t\n",
      "================================================================================\n",
      "Step\t3100\t89s: AvgLoss 1.658947\tLRate 10.000000\tMBperplex 5.70\tVSperplex 5.17\n",
      "Step\t3200\t91s: AvgLoss 1.640395\tLRate 10.000000\tMBperplex 5.54\tVSperplex 5.05\n",
      "Step\t3300\t94s: AvgLoss 1.648302\tLRate 10.000000\tMBperplex 5.11\tVSperplex 5.01\n",
      "Step\t3400\t97s: AvgLoss 1.626565\tLRate 10.000000\tMBperplex 4.55\tVSperplex 5.02\n",
      "Step\t3500\t100s: AvgLoss 1.606735\tLRate 10.000000\tMBperplex 5.03\tVSperplex 4.89\n",
      "Step\t3600\t103s: AvgLoss 1.630669\tLRate 10.000000\tMBperplex 5.54\tVSperplex 5.09\n",
      "Step\t3700\t106s: AvgLoss 1.641600\tLRate 10.000000\tMBperplex 4.90\tVSperplex 4.97\n",
      "Step\t3800\t109s: AvgLoss 1.645930\tLRate 10.000000\tMBperplex 5.23\tVSperplex 5.04\n",
      "Step\t3900\t112s: AvgLoss 1.614168\tLRate 10.000000\tMBperplex 4.93\tVSperplex 4.99\n",
      "Step\t4000\t114s: AvgLoss 1.624884\tLRate 10.000000\tMBperplex 5.25\tVSperplex 4.93\n",
      "================================================================================\n",
      "x of eturyous the in europicted that is to as into two one nine do minate access\n",
      "dery in the diom seniov jovemb comron wide requiration of the crowers almulity m\n",
      "redy bemise with was it is cop love compunization of parrasm five five zero zero\n",
      "y five this sufficial parilueal a since invisit builan bur feater the by as a ap\n",
      "w y forfictionation the in one one eight two three six all of crodetibu phieh te\n",
      "================================================================================\n",
      "Step\t4100\t118s: AvgLoss 1.616738\tLRate 10.000000\tMBperplex 4.89\tVSperplex 4.88\n",
      "Step\t4200\t120s: AvgLoss 1.601409\tLRate 10.000000\tMBperplex 4.40\tVSperplex 4.82\n",
      "Step\t4300\t123s: AvgLoss 1.618881\tLRate 10.000000\tMBperplex 4.84\tVSperplex 4.90\n",
      "Step\t4400\t126s: AvgLoss 1.618554\tLRate 10.000000\tMBperplex 4.81\tVSperplex 4.95\n",
      "Step\t4500\t129s: AvgLoss 1.586975\tLRate 10.000000\tMBperplex 5.03\tVSperplex 4.92\n",
      "Step\t4600\t131s: AvgLoss 1.615988\tLRate 10.000000\tMBperplex 4.84\tVSperplex 4.96\n",
      "Step\t4700\t134s: AvgLoss 1.611767\tLRate 10.000000\tMBperplex 4.87\tVSperplex 4.88\n",
      "Step\t4800\t137s: AvgLoss 1.604591\tLRate 10.000000\tMBperplex 4.66\tVSperplex 5.02\n",
      "Step\t4900\t140s: AvgLoss 1.620701\tLRate 10.000000\tMBperplex 5.16\tVSperplex 4.98\n",
      "Step\t5000\t142s: AvgLoss 1.605145\tLRate 1.000000\tMBperplex 4.62\tVSperplex 4.94\n",
      "================================================================================\n",
      "vern the one seven zero two wwus india macamical borr bith watwert sincor infild\n",
      "lify pricked countrily with one one two nine onempen divinging vellar and was bu\n",
      "raise language to the firled differens of the experials and cified bitees dus cy\n",
      "s as eughroheed america though rabai speechtunsura ii spiev claunter irage numbl\n",
      "ther dis while largel and but they fraddieve advencas and men works poolither ma\n",
      "================================================================================\n",
      "Step\t5100\t145s: AvgLoss 1.605967\tLRate 1.000000\tMBperplex 5.24\tVSperplex 4.77\n",
      "Step\t5200\t148s: AvgLoss 1.585764\tLRate 1.000000\tMBperplex 5.05\tVSperplex 4.73\n",
      "Step\t5300\t151s: AvgLoss 1.573703\tLRate 1.000000\tMBperplex 4.90\tVSperplex 4.70\n",
      "Step\t5400\t154s: AvgLoss 1.579722\tLRate 1.000000\tMBperplex 5.16\tVSperplex 4.67\n",
      "Step\t5500\t156s: AvgLoss 1.595740\tLRate 1.000000\tMBperplex 4.83\tVSperplex 4.66\n",
      "Step\t5600\t159s: AvgLoss 1.578290\tLRate 1.000000\tMBperplex 5.11\tVSperplex 4.67\n",
      "Step\t5700\t162s: AvgLoss 1.573644\tLRate 1.000000\tMBperplex 5.52\tVSperplex 4.64\n",
      "Step\t5800\t165s: AvgLoss 1.581542\tLRate 1.000000\tMBperplex 4.94\tVSperplex 4.62\n",
      "Step\t5900\t168s: AvgLoss 1.599738\tLRate 1.000000\tMBperplex 4.50\tVSperplex 4.61\n",
      "Step\t6000\t171s: AvgLoss 1.604855\tLRate 1.000000\tMBperplex 5.22\tVSperplex 4.62\n",
      "================================================================================\n",
      "ter and whictoward consulted touruse and x comparaely and for did two la dirtion\n",
      "k fairships and ilyokes of one nine zero two one two feer cormation and volus wr\n",
      "ism the and thuscome days swritits numbern coric of some the d who country de wi\n",
      "k unther his later d ottomine continees edcimbtary and was casost jallism ding u\n",
      "ous one nine nine eight seven nine degis cauined vision later is three seven fou\n",
      "================================================================================\n",
      "Step\t6100\t174s: AvgLoss 1.578585\tLRate 1.000000\tMBperplex 5.14\tVSperplex 4.59\n",
      "Step\t6200\t177s: AvgLoss 1.617241\tLRate 1.000000\tMBperplex 5.20\tVSperplex 4.57\n",
      "Step\t6300\t179s: AvgLoss 1.593478\tLRate 1.000000\tMBperplex 4.92\tVSperplex 4.57\n",
      "Step\t6400\t182s: AvgLoss 1.633217\tLRate 1.000000\tMBperplex 4.51\tVSperplex 4.62\n",
      "Step\t6500\t185s: AvgLoss 1.592943\tLRate 1.000000\tMBperplex 5.19\tVSperplex 4.60\n",
      "Step\t6600\t188s: AvgLoss 1.594527\tLRate 1.000000\tMBperplex 5.00\tVSperplex 4.62\n",
      "Step\t6700\t191s: AvgLoss 1.574981\tLRate 1.000000\tMBperplex 5.22\tVSperplex 4.59\n",
      "Step\t6800\t194s: AvgLoss 1.550664\tLRate 1.000000\tMBperplex 4.95\tVSperplex 4.55\n",
      "Step\t6900\t197s: AvgLoss 1.598362\tLRate 1.000000\tMBperplex 5.62\tVSperplex 4.50\n",
      "Step\t7000\t199s: AvgLoss 1.585834\tLRate 1.000000\tMBperplex 5.01\tVSperplex 4.52\n",
      "================================================================================\n",
      "k chanactor state of rivery phosicholder the communesicilly sic four two over pr\n",
      "ing lant vialancy of the nine one eight nine the nifleck projects increaily elia\n",
      "muning baiker in na destress its replystly lore city resulain or ann dit and sto\n",
      "quanttob as space qualgs greated with the kunking uithou two zero one five two z\n",
      "ment one nine four one five knyormen vears and birpolems shelony primana sernmer\n",
      "================================================================================\n"
     ]
    }
   ],
   "source": [
    "##################\n",
    "# EJECUCION LTSM\n",
    "##################\n",
    "t1 = time.time()\n",
    "\n",
    "num_steps = 7001\n",
    "summary_frequency = 100\n",
    "\n",
    "with tf.Session(graph=graphLSTM) as session:\n",
    "  tf.global_variables_initializer().run()\n",
    "  print('Initialized')\n",
    "  mean_loss = 0\n",
    "  for step in range(num_steps):\n",
    "    batches = train_batches.next()\n",
    "    feed_dict = dict()\n",
    "    for i in range(num_unrollings + 1):\n",
    "      feed_dict[train_data[i]] = batches[i]\n",
    "    _, l, predictions, lr = session.run([optimizer, loss, train_prediction, learning_rate], feed_dict=feed_dict)\n",
    "    mean_loss += l\n",
    "    if step % summary_frequency == 0:\n",
    "      t2 = time.time()\n",
    "      # The mean loss is an estimate of the loss over the last few batches.\n",
    "      if step > 0:\n",
    "        mean_loss = mean_loss / summary_frequency\n",
    "      # Minibatch perplexity\n",
    "      labels = np.concatenate(list(batches)[1:])\n",
    "      mbpx = float(np.exp(logprob(predictions, labels)))\n",
    "      # Measure validation set perplexity.\n",
    "      reset_sample_state.run()\n",
    "      valid_logprob = 0\n",
    "      for _ in range(valid_size):\n",
    "        b = valid_batches.next()\n",
    "        predictions = sample_prediction.eval({sample_input: b[0]})\n",
    "        valid_logprob = valid_logprob + logprob(predictions, b[1])\n",
    "      vspx = float(np.exp(valid_logprob / valid_size))\n",
    "      #Report\n",
    "      print('Step\\t%d\\t%ds: AvgLoss %f\\tLRate %f\\tMBperplex %.2f\\tVSperplex %.2f' % (step, t2-t1, mean_loss, lr, mbpx, vspx))\n",
    "      mean_loss = 0\n",
    "\n",
    "      #Extra report\n",
    "      if step % (summary_frequency * 10) == 0:\n",
    "        # Generate some samples.\n",
    "        print('=' * 80)\n",
    "        for _ in range(5):\n",
    "          feed = sample(random_distribution())\n",
    "          sentence = characters(feed)[0]\n",
    "          reset_sample_state.run()\n",
    "          for _ in range(79):\n",
    "            prediction = sample_prediction.eval({sample_input: feed})\n",
    "            feed = sample(prediction)\n",
    "            sentence += characters(feed)[0]\n",
    "          print(sentence)\n",
    "        print('=' * 80)\n",
    "  print('End.')"
   ]
  },
  {
   "cell_type": "markdown",
   "metadata": {
    "colab_type": "text",
    "id": "pl4vtmFfa5nn"
   },
   "source": [
    "---\n",
    "Problem 1\n",
    "---------\n",
    "\n",
    "You might have noticed that the definition of the LSTM cell involves 4 matrix multiplications with the input, and 4 matrix multiplications with the output. Simplify the expression by using a single matrix multiply for each, and variables that are 4 times larger.\n",
    "\n",
    "---"
   ]
  },
  {
   "cell_type": "markdown",
   "metadata": {
    "colab_type": "text",
    "id": "4eErTCTybtph"
   },
   "source": [
    "---\n",
    "Problem 2\n",
    "---------\n",
    "\n",
    "We want to train a LSTM over bigrams, that is pairs of consecutive characters like 'ab' instead of single characters like 'a'. Since the number of possible bigrams is large, feeding them directly to the LSTM using 1-hot encodings will lead to a very sparse representation that is very wasteful computationally.\n",
    "\n",
    "a- Introduce an embedding lookup on the inputs, and feed the embeddings to the LSTM cell instead of the inputs themselves.\n",
    "\n",
    "b- Write a bigram-based LSTM, modeled on the character LSTM above.\n",
    "\n",
    "c- Introduce Dropout. For best practices on how to use Dropout in LSTMs, refer to this [article](http://arxiv.org/abs/1409.2329).\n",
    "\n",
    "---"
   ]
  },
  {
   "cell_type": "markdown",
   "metadata": {
    "colab_type": "text",
    "id": "Y5tapX3kpcqZ"
   },
   "source": [
    "---\n",
    "Problem 3\n",
    "---------\n",
    "\n",
    "(difficult!)\n",
    "\n",
    "Write a sequence-to-sequence LSTM which mirrors all the words in a sentence. For example, if your input is:\n",
    "\n",
    "    the quick brown fox\n",
    "    \n",
    "the model should attempt to output:\n",
    "\n",
    "    eht kciuq nworb xof\n",
    "    \n",
    "Refer to the lecture on how to put together a sequence-to-sequence model, as well as [this article](http://arxiv.org/abs/1409.3215) for best practices.\n",
    "\n",
    "---"
   ]
  }
 ],
 "metadata": {
  "colab": {
   "default_view": {},
   "name": "6_lstm.ipynb",
   "provenance": [],
   "version": "0.3.2",
   "views": {}
  },
  "kernelspec": {
   "display_name": "Python 2",
   "language": "python",
   "name": "python2"
  },
  "language_info": {
   "codemirror_mode": {
    "name": "ipython",
    "version": 2
   },
   "file_extension": ".py",
   "mimetype": "text/x-python",
   "name": "python",
   "nbconvert_exporter": "python",
   "pygments_lexer": "ipython2",
   "version": "2.7.12"
  }
 },
 "nbformat": 4,
 "nbformat_minor": 0
}
