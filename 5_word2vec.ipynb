{
 "cells": [
  {
   "cell_type": "markdown",
   "metadata": {
    "colab_type": "text",
    "id": "D7tqLMoKF6uq"
   },
   "source": [
    "Deep Learning\n",
    "=============\n",
    "\n",
    "Assignment 5\n",
    "------------\n",
    "\n",
    "The goal of this assignment is to train a Word2Vec skip-gram model over [Text8](http://mattmahoney.net/dc/textdata) data."
   ]
  },
  {
   "cell_type": "markdown",
   "metadata": {},
   "source": [
    "##### Explicacion de un skip-gram: [Word2Vec-skipgram](http://mccormickml.com/2016/04/19/word2vec-tutorial-the-skip-gram-model/)\n",
    "consiste en crear un \"concepto\" de cada palabra basado en la relación con las demás palabras del vocabulario, y luego poder usar ese concepto posteriormente, dado que tratamos con un sistema no supervisado"
   ]
  },
  {
   "cell_type": "code",
   "execution_count": 1,
   "metadata": {
    "cellView": "both",
    "colab": {
     "autoexec": {
      "startup": false,
      "wait_interval": 0
     }
    },
    "colab_type": "code",
    "collapsed": true,
    "id": "0K1ZyLn04QZf"
   },
   "outputs": [],
   "source": [
    "# These are all the modules we'll be using later. Make sure you can import them\n",
    "# before proceeding further.\n",
    "%matplotlib inline\n",
    "from __future__ import print_function\n",
    "import collections\n",
    "import math\n",
    "import numpy as np\n",
    "import os\n",
    "import random\n",
    "import tensorflow as tf\n",
    "import zipfile\n",
    "from matplotlib import pylab\n",
    "from six.moves import range\n",
    "from six.moves.urllib.request import urlretrieve\n",
    "from sklearn.manifold import TSNE"
   ]
  },
  {
   "cell_type": "code",
   "execution_count": 4,
   "metadata": {
    "collapsed": true
   },
   "outputs": [],
   "source": [
    "import math\n",
    "import time\n",
    "def how_long(f, *args):\n",
    "    #medir el tiempo que tarda f\n",
    "    t1 = time.time()\n",
    "    res = f(*args)\n",
    "    t2 = time.time()\n",
    "    print (\"tiempo utilizado = \",t2-t1)\n",
    "    #return res, t2-t1\n",
    "    return res"
   ]
  },
  {
   "cell_type": "markdown",
   "metadata": {
    "colab_type": "text",
    "id": "aCjPJE944bkV"
   },
   "source": [
    "Download the data from the source website if necessary."
   ]
  },
  {
   "cell_type": "code",
   "execution_count": 2,
   "metadata": {
    "cellView": "both",
    "colab": {
     "autoexec": {
      "startup": false,
      "wait_interval": 0
     },
     "output_extras": [
      {
       "item_id": 1
      }
     ]
    },
    "colab_type": "code",
    "collapsed": false,
    "executionInfo": {
     "elapsed": 14640,
     "status": "ok",
     "timestamp": 1445964482948,
     "user": {
      "color": "#1FA15D",
      "displayName": "Vincent Vanhoucke",
      "isAnonymous": false,
      "isMe": true,
      "permissionId": "05076109866853157986",
      "photoUrl": "//lh6.googleusercontent.com/-cCJa7dTDcgQ/AAAAAAAAAAI/AAAAAAAACgw/r2EZ_8oYer4/s50-c-k-no/photo.jpg",
      "sessionId": "2f1ffade4c9f20de",
      "userId": "102167687554210253930"
     },
     "user_tz": 420
    },
    "id": "RJ-o3UBUFtCw",
    "outputId": "c4ec222c-80b5-4298-e635-93ca9f79c3b7"
   },
   "outputs": [
    {
     "name": "stdout",
     "output_type": "stream",
     "text": [
      "Found and verified text8.zip\n"
     ]
    }
   ],
   "source": [
    "url = 'http://mattmahoney.net/dc/'\n",
    "\n",
    "def maybe_download(filename, expected_bytes):\n",
    "  \"\"\"Download a file if not present, and make sure it's the right size.\"\"\"\n",
    "  if not os.path.exists(filename):\n",
    "    filename, _ = urlretrieve(url + filename, filename)\n",
    "  statinfo = os.stat(filename)\n",
    "  if statinfo.st_size == expected_bytes:\n",
    "    print('Found and verified %s' % filename)\n",
    "  else:\n",
    "    print(statinfo.st_size)\n",
    "    raise Exception(\n",
    "      'Failed to verify ' + filename + '. Can you get to it with a browser?')\n",
    "  return filename\n",
    "\n",
    "filename = maybe_download('text8.zip', 31344016)"
   ]
  },
  {
   "cell_type": "markdown",
   "metadata": {
    "colab_type": "text",
    "id": "Zqz3XiqI4mZT"
   },
   "source": [
    "Read the data into a string."
   ]
  },
  {
   "cell_type": "code",
   "execution_count": 3,
   "metadata": {
    "cellView": "both",
    "colab": {
     "autoexec": {
      "startup": false,
      "wait_interval": 0
     },
     "output_extras": [
      {
       "item_id": 1
      }
     ]
    },
    "colab_type": "code",
    "collapsed": false,
    "executionInfo": {
     "elapsed": 28844,
     "status": "ok",
     "timestamp": 1445964497165,
     "user": {
      "color": "#1FA15D",
      "displayName": "Vincent Vanhoucke",
      "isAnonymous": false,
      "isMe": true,
      "permissionId": "05076109866853157986",
      "photoUrl": "//lh6.googleusercontent.com/-cCJa7dTDcgQ/AAAAAAAAAAI/AAAAAAAACgw/r2EZ_8oYer4/s50-c-k-no/photo.jpg",
      "sessionId": "2f1ffade4c9f20de",
      "userId": "102167687554210253930"
     },
     "user_tz": 420
    },
    "id": "Mvf09fjugFU_",
    "outputId": "e3a928b4-1645-4fe8-be17-fcf47de5716d"
   },
   "outputs": [
    {
     "name": "stdout",
     "output_type": "stream",
     "text": [
      "Data size 17005207\n"
     ]
    }
   ],
   "source": [
    "def read_data(filename):\n",
    "  \"\"\"Extract the first file enclosed in a zip file as a list of words\"\"\"\n",
    "  with zipfile.ZipFile(filename) as f:\n",
    "    data = tf.compat.as_str(f.read(f.namelist()[0])).split()\n",
    "  return data\n",
    "  \n",
    "words = read_data(filename)\n",
    "print('Data size %d' % len(words))"
   ]
  },
  {
   "cell_type": "markdown",
   "metadata": {
    "colab_type": "text",
    "id": "Zdw6i4F8glpp"
   },
   "source": [
    "Build the dictionary and replace rare words with UNK token."
   ]
  },
  {
   "cell_type": "code",
   "execution_count": 5,
   "metadata": {
    "cellView": "both",
    "colab": {
     "autoexec": {
      "startup": false,
      "wait_interval": 0
     },
     "output_extras": [
      {
       "item_id": 1
      }
     ]
    },
    "colab_type": "code",
    "collapsed": false,
    "executionInfo": {
     "elapsed": 28849,
     "status": "ok",
     "timestamp": 1445964497178,
     "user": {
      "color": "#1FA15D",
      "displayName": "Vincent Vanhoucke",
      "isAnonymous": false,
      "isMe": true,
      "permissionId": "05076109866853157986",
      "photoUrl": "//lh6.googleusercontent.com/-cCJa7dTDcgQ/AAAAAAAAAAI/AAAAAAAACgw/r2EZ_8oYer4/s50-c-k-no/photo.jpg",
      "sessionId": "2f1ffade4c9f20de",
      "userId": "102167687554210253930"
     },
     "user_tz": 420
    },
    "id": "gAL1EECXeZsD",
    "outputId": "3fb4ecd1-df67-44b6-a2dc-2291730970b2"
   },
   "outputs": [
    {
     "name": "stdout",
     "output_type": "stream",
     "text": [
      "tiempo utilizado =  35.0641279221\n",
      "Most common words (+UNK) [['UNK', 418391], ('the', 1061396), ('of', 593677), ('and', 416629), ('one', 411764)]\n",
      "Sample data [5239, 3084, 12, 6, 195, 2, 3137, 46, 59, 156]\n"
     ]
    }
   ],
   "source": [
    "vocabulary_size = 50000\n",
    "\n",
    "def build_dataset(words):\n",
    "  #inicializa el array de contadores de palabras (frecuencias)\n",
    "  count = [['UNK', -1]]\n",
    "  #cuenta las 50000 palabras más comunes\n",
    "  count.extend(collections.Counter(words).most_common(vocabulary_size - 1))\n",
    "  #inicializa un diccionario del vocabulario, va a crear pares palabra - ID, para tratar con números\n",
    "  #y asigna los id por orden de frecuencia de más a menos\n",
    "  #RESERVA ID=0 para los \"OTROS POCO FRECUENTES\" que llama \"UNK\"\n",
    "  dictionary = dict()\n",
    "  for word, _ in count:\n",
    "    dictionary[word] = len(dictionary)\n",
    "  #inicializa y crea una lista de ID equivalente al dataset \"words\" reemplazando cada palabra por su ID\n",
    "  #y de paso va apuntando los UNK para rellenar la frecuencia\n",
    "  data = list()\n",
    "  unk_count = 0\n",
    "  for word in words:\n",
    "    if word in dictionary:\n",
    "      index = dictionary[word]\n",
    "    else:\n",
    "      index = 0  # dictionary['UNK']\n",
    "      unk_count = unk_count + 1\n",
    "    data.append(index)\n",
    "  #apunta el dato final de cuantas palabras raras hay (frecuencia de palabras raras)\n",
    "  count[0][1] = unk_count\n",
    "  #crea un diccionario al revés, es decir, donde el ID es la clave y la palabra es el valor\n",
    "  reverse_dictionary = dict(zip(dictionary.values(), dictionary.keys())) \n",
    "  return data, count, dictionary, reverse_dictionary\n",
    "\n",
    "data, count, dictionary, reverse_dictionary = how_long(build_dataset,words)\n",
    "print('Most common words (+UNK)', count[:5])\n",
    "print('Sample data', data[:10])\n",
    "del words  # Hint to reduce memory."
   ]
  },
  {
   "cell_type": "markdown",
   "metadata": {
    "colab_type": "text",
    "id": "lFwoyygOmWsL"
   },
   "source": [
    "Function to generate a training batch for the skip-gram model."
   ]
  },
  {
   "cell_type": "code",
   "execution_count": 6,
   "metadata": {
    "cellView": "both",
    "colab": {
     "autoexec": {
      "startup": false,
      "wait_interval": 0
     },
     "output_extras": [
      {
       "item_id": 1
      }
     ]
    },
    "colab_type": "code",
    "collapsed": false,
    "executionInfo": {
     "elapsed": 113,
     "status": "ok",
     "timestamp": 1445964901989,
     "user": {
      "color": "#1FA15D",
      "displayName": "Vincent Vanhoucke",
      "isAnonymous": false,
      "isMe": true,
      "permissionId": "05076109866853157986",
      "photoUrl": "//lh6.googleusercontent.com/-cCJa7dTDcgQ/AAAAAAAAAAI/AAAAAAAACgw/r2EZ_8oYer4/s50-c-k-no/photo.jpg",
      "sessionId": "2f1ffade4c9f20de",
      "userId": "102167687554210253930"
     },
     "user_tz": 420
    },
    "id": "w9APjA-zmfjV",
    "outputId": "67cccb02-cdaf-4e47-d489-43bcc8d57bb8"
   },
   "outputs": [
    {
     "name": "stdout",
     "output_type": "stream",
     "text": [
      "data: ['anarchism', 'originated', 'as', 'a', 'term', 'of', 'abuse', 'first']\n",
      "\n",
      "with num_skips = 2 and skip_window = 1:\n",
      "    batch: ['originated', 'originated', 'as', 'as', 'a', 'a', 'term', 'term']\n",
      "    labels: ['anarchism', 'as', 'a', 'originated', 'as', 'term', 'a', 'of']\n",
      "\n",
      "with num_skips = 4 and skip_window = 2:\n",
      "    batch: ['as', 'as', 'as', 'as', 'a', 'a', 'a', 'a']\n",
      "    labels: ['term', 'anarchism', 'a', 'originated', 'originated', 'as', 'of', 'term']\n"
     ]
    }
   ],
   "source": [
    "data_index = 0\n",
    "\n",
    "#batch_size, tamaño del lote a meter en la red neural para aprender\n",
    "#skip_window, tamaño del lado derecho e izquierdo de la ventana alrededor de una palabra (es simétrica)\n",
    "#num_skips, distancia de palabra adyacente que va a tomar como etiqueta \n",
    "\n",
    "def generate_batch_skipgram(batch_size, num_skips, skip_window):\n",
    "  global data_index #indicador de por donde va recorriendo los datos de aprendizaje\n",
    "  \n",
    "  #comprobaciones\n",
    "  assert batch_size % num_skips == 0 #el tamaño del lote debe ser divisible por los descartes\n",
    "  assert num_skips <= 2 * skip_window\n",
    "\n",
    "  #variables a usar\n",
    "  batch = np.ndarray(shape=(batch_size), dtype=np.int32)\n",
    "  labels = np.ndarray(shape=(batch_size, 1), dtype=np.int32)\n",
    "  span = 2 * skip_window + 1 # [ skip_window target skip_window ] \n",
    "    #se mira alrededor de la palabra el ancho de ventana (2*ventana y +1 la palabra en medio)\n",
    "  buffer = collections.deque(maxlen=span) #reserva variable vacía tipo \"deque\" para almacenar \n",
    "                                            #una ventana que rodea una palabra\n",
    "  \n",
    "  #rellena una ventana inicial desde donde se quedo\n",
    "  for _ in range(span):\n",
    "    buffer.append(data[data_index])\n",
    "    data_index = (data_index + 1) % len(data) #circular\n",
    "\n",
    "  #rellena un lote y a cada palabra le pone de objetivo las palabras adyacentes a distancia \n",
    "    #num_skips o menor delante y detrás\n",
    "  #siempre por pares, pero tomando RANDOM de esa ventana, no en orden\n",
    "  for i in range(batch_size // num_skips):\n",
    "    target = skip_window  # target label at the center of the buffer\n",
    "    targets_to_avoid = [ skip_window ]\n",
    "    for j in range(num_skips):\n",
    "      #monta todo este lío para que no vayan en orden exacto las palabras...\n",
    "      while target in targets_to_avoid:\n",
    "        target = random.randint(0, span - 1)\n",
    "      targets_to_avoid.append(target)\n",
    "      batch[i * num_skips + j] = buffer[skip_window]\n",
    "      labels[i * num_skips + j, 0] = buffer[target]\n",
    "    \n",
    "    #pasa a la siguiente ventana\n",
    "    buffer.append(data[data_index])\n",
    "    data_index = (data_index + 1) % len(data)\n",
    "    \n",
    "  return batch, labels\n",
    "\n",
    "#Ejecucion de ejemplo para las primeras ocho palabras del diccionario (un lote de ocho)\n",
    "\n",
    "lote = 8\n",
    "print('data:', [reverse_dictionary[di] for di in data[:lote]])\n",
    "\n",
    "for num_skips, skip_window in [(2, 1), (4, 2)]:\n",
    "    data_index = 0\n",
    "    batch, labels = generate_batch_skipgram(batch_size=lote, num_skips=num_skips, skip_window=skip_window)\n",
    "    print('\\nwith num_skips = %d and skip_window = %d:' % (num_skips, skip_window))\n",
    "    print('    batch:', [reverse_dictionary[bi] for bi in batch])\n",
    "    print('    labels:', [reverse_dictionary[li] for li in labels.reshape(lote)])"
   ]
  },
  {
   "cell_type": "markdown",
   "metadata": {
    "colab_type": "text",
    "id": "Ofd1MbBuwiva"
   },
   "source": [
    "Train a skip-gram model."
   ]
  },
  {
   "cell_type": "code",
   "execution_count": 7,
   "metadata": {
    "cellView": "both",
    "colab": {
     "autoexec": {
      "startup": false,
      "wait_interval": 0
     }
    },
    "colab_type": "code",
    "collapsed": true,
    "id": "8pQKsV4Vwlzy"
   },
   "outputs": [],
   "source": [
    "##################\n",
    "# DECLARACION SKIP-GRAM\n",
    "##################\n",
    "\n",
    "batch_size = 128 #Lotes de entrenamiento.\n",
    "\n",
    "embedding_size = 128 # Dimension of the embedding vector. Las features de cada palabra que la distinguen.\n",
    "skip_window = 1 # How many words to consider left and right. Semiventana, al final ventana de 3.\n",
    "                # Es poco debería ser mayor pero más procesamiento también.\n",
    "num_skips = 2 # How many times to reuse an input to generate a label. \n",
    "                #Normalmente ancho-ventana - 1 (3-1 = 2). O 2*skip_window\n",
    "\n",
    "# We pick a random validation set to sample nearest neighbors. here we limit the\n",
    "# validation samples to the words that have a low numeric ID, which by construction are also the most frequent. \n",
    "# Va a utilizar como validationSet las palabras más comunes del diccionario (las del principio)\n",
    "valid_size = 16 # Random set of words to evaluate similarity on. Escoge 16 para validacion.\n",
    "valid_window = 100 # Only pick dev samples in the head of the distribution. Las escoge de entre las 100 primeras.\n",
    "valid_examples = np.array(random.sample(range(valid_window), valid_size))\n",
    "\n",
    "# CURIOSAMENTE NO TOMA UN TEST SET ESTA VEZ, LE DA IGUAL\n",
    "\n",
    "num_sampled = 64 # Number of negative examples to sample. Muestras aleatorias de entre el lote \n",
    "                                                        #que sirven para calcular LOSS.\n",
    "\n",
    "learning_rate = 1.0\n",
    "\n",
    "graphSG = tf.Graph()\n",
    "\n",
    "with graphSG.as_default(), tf.device('/cpu:0'):\n",
    "\n",
    "  # Input data.\n",
    "  train_dataset = tf.placeholder(tf.int32, shape=[batch_size])\n",
    "  train_labels = tf.placeholder(tf.int32, shape=[batch_size, 1])\n",
    "  valid_dataset = tf.constant(valid_examples, dtype=tf.int32)\n",
    "  \n",
    "  # Variables y su inicializacion.\n",
    "       #CONCEPTO-FEATURES DE UNA PALABRA (primer layer):\n",
    "  embeddings = tf.Variable(tf.random_uniform([vocabulary_size, embedding_size], -1.0, 1.0)) \n",
    "      #RELACION CON OTROS CONCEPTOS (segundo layer):\n",
    "  softmax_weights = tf.Variable(tf.truncated_normal([vocabulary_size, embedding_size],stddev=1.0 / math.sqrt(embedding_size)))\n",
    "  softmax_biases = tf.Variable(tf.zeros([vocabulary_size]))\n",
    "  \n",
    "  # Model.\n",
    "  # Look up embeddings for inputs.\n",
    "  embed = tf.nn.embedding_lookup(embeddings, train_dataset) #Toma de los conceptos las líneas que corresponden \n",
    "                                                            #al lote de turno (por ID)\n",
    "  # Compute the softmax loss, using a sample of the negative labels each time.\n",
    "  loss = tf.reduce_mean(\n",
    "    tf.nn.sampled_softmax_loss(softmax_weights, softmax_biases, embed, train_labels, num_sampled, vocabulary_size)) \n",
    "        #Combina cada conceptos con las relaciones y obtiene la probabilidad de vecindad de las demás palabras del diccionario\n",
    "        #luego compara esa vecindad probable con las etiquetas para num_sampled aleatorias y saca la pérdida\n",
    "\n",
    "  #At inference time, you can compute full softmax probabilities for each word (referred to one word) with the expression \n",
    "  #tf.nn.softmax(tf.matmul(one_embed, tf.transpose(softmax_weights)) + softmax_biases).\n",
    "        \n",
    "  # Optimizer.\n",
    "  # Note: The optimizer will optimize the softmax_weights AND the embeddings.\n",
    "  # This is because the embeddings are defined as a variable quantity and the\n",
    "  # optimizer's `minimize` method will by default modify all variable quantities \n",
    "  # that contribute to the tensor it is passed.\n",
    "  # See docs on `tf.train.Optimizer.minimize()` for more details.\n",
    "  optimizer = tf.train.AdagradOptimizer(learning_rate).minimize(loss)\n",
    "  \n",
    "  # Compute the similarity between minibatch examples and all embeddings.\n",
    "  # We use the cosine distance:\n",
    "  norm = tf.sqrt(tf.reduce_sum(tf.square(embeddings), 1, keep_dims=True))\n",
    "  normalized_embeddings = embeddings / norm\n",
    "  valid_embeddings = tf.nn.embedding_lookup(normalized_embeddings, valid_dataset)\n",
    "  similarity = tf.matmul(valid_embeddings, tf.transpose(normalized_embeddings))"
   ]
  },
  {
   "cell_type": "markdown",
   "metadata": {},
   "source": [
    "###### OJO Usa un optimizador de gradiente adaptativo:\n",
    "[Adagrad](http://www.jmlr.org/papers/volume12/duchi11a/duchi11a.pdf)"
   ]
  },
  {
   "cell_type": "code",
   "execution_count": 8,
   "metadata": {
    "cellView": "both",
    "colab": {
     "autoexec": {
      "startup": false,
      "wait_interval": 0
     },
     "output_extras": [
      {
       "item_id": 23
      },
      {
       "item_id": 48
      },
      {
       "item_id": 61
      }
     ]
    },
    "colab_type": "code",
    "collapsed": false,
    "executionInfo": {
     "elapsed": 436189,
     "status": "ok",
     "timestamp": 1445965429787,
     "user": {
      "color": "#1FA15D",
      "displayName": "Vincent Vanhoucke",
      "isAnonymous": false,
      "isMe": true,
      "permissionId": "05076109866853157986",
      "photoUrl": "//lh6.googleusercontent.com/-cCJa7dTDcgQ/AAAAAAAAAAI/AAAAAAAACgw/r2EZ_8oYer4/s50-c-k-no/photo.jpg",
      "sessionId": "2f1ffade4c9f20de",
      "userId": "102167687554210253930"
     },
     "user_tz": 420
    },
    "id": "1bQFGceBxrWW",
    "outputId": "5ebd6d9a-33c6-4bcd-bf6d-252b0b6055e4",
    "scrolled": false
   },
   "outputs": [
    {
     "name": "stdout",
     "output_type": "stream",
     "text": [
      "Initialized\n",
      "step 0\t1s\tAverage loss: 8.236175\n",
      "\tNearest to zero: allele, nicolay, crucial, dharmas, illusion, locator, speaker, iconostasis,\n",
      "\tNearest to will: tac, dubbing, cowan, weights, identifier, peacocks, olivia, shipwrecked,\n",
      "\tNearest to so: booths, modalities, lasker, nikolaevich, bolshevism, flasks, fell, austere,\n",
      "\tNearest to can: donuts, eratosthenes, carnal, advisors, hypocrites, damage, byrd, mario,\n",
      "\tNearest to are: words, goa, kinship, unplugged, erwin, rotation, chorus, proven,\n",
      "\tNearest to would: spitfire, morphemes, legionaries, suzuki, imr, urgency, anchorages, accelerating,\n",
      "\tNearest to time: presses, monotheist, exhortation, mtp, huey, abdicates, anjou, horseshoe,\n",
      "\tNearest to no: sars, cadillac, mod, leonhard, heiress, processing, spared, chilperic,\n",
      "\tNearest to people: nitrous, proverbs, cycling, emet, hyphens, dickie, celtiberian, honestly,\n",
      "\tNearest to united: amplifier, directx, objectively, beaten, geer, park, hummers, tanakh,\n",
      "\tNearest to in: pedestrians, copperfield, racers, trainee, occasion, pinning, showcases, informa,\n",
      "\tNearest to that: skull, ride, addressing, bern, limerick, epithelial, arms, publisher,\n",
      "\tNearest to also: hillbillies, repudiation, ket, ecoregion, herder, screening, melatonin, warner,\n",
      "\tNearest to about: conductivity, sand, list, transferable, insulating, fled, selects, amputees,\n",
      "\tNearest to some: tissues, counsel, nucleus, zubrin, csm, godf, mistresses, mats,\n",
      "\tNearest to over: coo, limbaugh, nintendo, daugava, popularization, stipend, banknote, vita,\n",
      "step 2000\t16s\tAverage loss: 4.359880\n",
      "step 4000\t31s\tAverage loss: 3.864348\n",
      "step 6000\t45s\tAverage loss: 3.786084\n",
      "step 8000\t60s\tAverage loss: 3.687193\n",
      "step 10000\t75s\tAverage loss: 3.610811\n",
      "\tNearest to zero: nine, seven, six, three, eight, five, four, two,\n",
      "\tNearest to will: would, may, weights, can, to, memex, mascarenes, olivia,\n",
      "\tNearest to so: fell, flasks, qualifying, arminians, owl, had, essendon, frontage,\n",
      "\tNearest to can: would, may, could, donuts, will, botc, might, should,\n",
      "\tNearest to are: were, is, have, was, be, hammond, parkes, monarchical,\n",
      "\tNearest to would: will, can, could, morphemes, spitfire, but, sanctioned, ranch,\n",
      "\tNearest to time: monotheist, presses, contradicted, treating, mtp, alexandria, cura, lycus,\n",
      "\tNearest to no: it, beast, sars, processing, semites, still, illyrians, sympathy,\n",
      "\tNearest to people: proverbs, nitrous, hyphens, stagnated, manhood, clips, monde, cycling,\n",
      "\tNearest to united: amplifier, directx, geer, impressed, argumentum, beaten, implantation, armies,\n",
      "\tNearest to in: on, at, by, from, of, with, degeneration, after,\n",
      "\tNearest to that: which, he, exile, concealing, domesticated, rust, this, they,\n",
      "\tNearest to also: which, generally, it, there, often, ket, gilt, zulu,\n",
      "\tNearest to about: insulating, transferable, list, jasper, tagus, selects, sand, conductivity,\n",
      "\tNearest to some: many, mats, most, owens, the, glc, blinding, belichick,\n",
      "\tNearest to over: coo, nagano, manipulation, trasimene, impasse, moles, stipend, suit,\n",
      "step 12000\t91s\tAverage loss: 3.605172\n",
      "step 14000\t106s\tAverage loss: 3.573993\n",
      "step 16000\t120s\tAverage loss: 3.412768\n",
      "step 18000\t135s\tAverage loss: 3.454906\n",
      "step 20000\t150s\tAverage loss: 3.540054\n",
      "\tNearest to zero: five, three, six, seven, eight, four, nine, two,\n",
      "\tNearest to will: would, may, can, could, to, should, weights, memex,\n",
      "\tNearest to so: arminians, fell, flasks, thucydides, uniformitarianism, she, rupees, usually,\n",
      "\tNearest to can: would, may, could, will, should, might, donuts, to,\n",
      "\tNearest to are: were, is, have, hammond, explication, was, reforms, unlawful,\n",
      "\tNearest to would: will, can, could, may, should, must, might, but,\n",
      "\tNearest to time: monotheist, contradicted, year, statement, emulators, mtp, treating, insisting,\n",
      "\tNearest to no: beast, it, malfunctions, semites, still, temp, processing, broader,\n",
      "\tNearest to people: areas, nitrous, clips, monde, stagnated, proverbs, blondes, harsh,\n",
      "\tNearest to united: amplifier, geer, directx, impressed, armies, pentecost, clef, implantation,\n",
      "\tNearest to in: at, on, from, within, with, affords, halas, between,\n",
      "\tNearest to that: which, however, nfl, this, plantarum, when, domesticated, batter,\n",
      "\tNearest to also: generally, which, now, often, not, then, there, who,\n",
      "\tNearest to about: transferable, selects, jasper, insulating, tagus, exclaims, confocal, sucrose,\n",
      "\tNearest to some: many, these, several, all, mats, most, their, dimethyl,\n",
      "\tNearest to over: nagano, moles, dissimilar, impasse, suit, manipulation, stipend, coo,\n",
      "step 22000\t164s\tAverage loss: 3.502928\n",
      "step 24000\t181s\tAverage loss: 3.490411\n",
      "step 26000\t195s\tAverage loss: 3.482552\n",
      "step 28000\t209s\tAverage loss: 3.480664\n",
      "step 30000\t223s\tAverage loss: 3.503596\n",
      "\tNearest to zero: five, seven, eight, four, six, three, nine, two,\n",
      "\tNearest to will: would, can, may, could, should, must, weights, memex,\n",
      "\tNearest to so: arminians, fell, thucydides, she, lasker, nevado, usually, qualifying,\n",
      "\tNearest to can: may, would, could, will, should, might, must, cannot,\n",
      "\tNearest to are: were, is, have, parkes, husbandry, be, these, include,\n",
      "\tNearest to would: could, will, can, may, should, must, might, does,\n",
      "\tNearest to time: year, statement, contradicted, emulators, monotheist, treating, value, anticipated,\n",
      "\tNearest to no: temp, still, a, beast, bugatti, malfunctions, any, balochistan,\n",
      "\tNearest to people: areas, harsh, proverbs, blondes, women, builds, blinding, monde,\n",
      "\tNearest to united: amplifier, armies, geer, directx, impressed, clef, lute, observational,\n",
      "\tNearest to in: on, at, during, of, within, with, under, upon,\n",
      "\tNearest to that: which, however, symbolising, but, this, nasrallah, what, gog,\n",
      "\tNearest to also: often, now, generally, which, sometimes, it, never, there,\n",
      "\tNearest to about: selects, transferable, regarding, insulating, tagus, confocal, jasper, cayuga,\n",
      "\tNearest to some: many, these, several, all, most, those, their, succeed,\n",
      "\tNearest to over: impasse, nagano, suit, dissimilar, moles, pandit, lattices, cop,\n",
      "step 32000\t238s\tAverage loss: 3.503119\n",
      "step 34000\t252s\tAverage loss: 3.495793\n",
      "step 36000\t266s\tAverage loss: 3.456593\n",
      "step 38000\t280s\tAverage loss: 3.301183\n",
      "step 40000\t294s\tAverage loss: 3.425235\n",
      "\tNearest to zero: five, seven, nine, eight, six, three, four, two,\n",
      "\tNearest to will: would, can, could, may, must, should, might, cannot,\n",
      "\tNearest to so: arminians, modalities, fell, nevado, thucydides, uniformitarianism, she, lasker,\n",
      "\tNearest to can: may, will, could, would, must, should, might, cannot,\n",
      "\tNearest to are: were, have, is, be, parkes, husbandry, although, these,\n",
      "\tNearest to would: could, will, can, may, might, must, should, does,\n",
      "\tNearest to time: year, way, statement, contradicted, emulators, refering, treating, anticipated,\n",
      "\tNearest to no: any, mach, contending, beast, informer, still, bugatti, objector,\n",
      "\tNearest to people: proverbs, areas, men, women, manhood, others, teased, aon,\n",
      "\tNearest to united: amplifier, geer, armies, argumentum, observational, teddy, impressed, directx,\n",
      "\tNearest to in: on, within, nicomachean, and, reels, during, at, from,\n",
      "\tNearest to that: which, this, what, however, because, symbolising, plantarum, who,\n",
      "\tNearest to also: often, which, generally, now, still, usually, never, sometimes,\n",
      "\tNearest to about: selects, actions, regarding, cayuga, confocal, rabbits, ausgleich, polymorphic,\n",
      "\tNearest to some: many, these, several, any, most, both, each, those,\n",
      "\tNearest to over: dissimilar, moles, suit, cigars, stipend, nagano, rowspan, impasse,\n",
      "step 42000\t308s\tAverage loss: 3.436842\n",
      "step 44000\t322s\tAverage loss: 3.454909\n",
      "step 46000\t336s\tAverage loss: 3.454862\n",
      "step 48000\t350s\tAverage loss: 3.349537\n",
      "step 50000\t364s\tAverage loss: 3.386717\n",
      "\tNearest to zero: seven, five, eight, nine, six, four, three, two,\n",
      "\tNearest to will: would, could, can, may, must, should, might, cannot,\n",
      "\tNearest to so: then, beyond, appreciation, uniformitarianism, if, fell, cytoplasmic, thucydides,\n",
      "\tNearest to can: may, could, would, will, should, must, might, cannot,\n",
      "\tNearest to are: were, is, have, parkes, these, was, be, husbandry,\n",
      "\tNearest to would: could, will, can, may, might, must, should, does,\n",
      "\tNearest to time: year, way, refering, emulators, purpose, statement, contradicted, value,\n",
      "\tNearest to no: any, calorie, pcb, jeroboam, temp, objector, another, already,\n",
      "\tNearest to people: men, jews, women, areas, proverbs, trojans, bc, subjects,\n",
      "\tNearest to united: tanakh, western, armies, amplifier, southern, geer, observational, teddy,\n",
      "\tNearest to in: during, of, within, on, from, throughout, halas, until,\n",
      "\tNearest to that: which, however, nasrallah, acf, theological, what, gog, nominates,\n",
      "\tNearest to also: often, which, now, still, generally, who, usually, never,\n",
      "\tNearest to about: selects, rabbits, regarding, actions, nonsensical, how, exclaims, nearly,\n",
      "\tNearest to some: many, several, these, most, any, both, all, those,\n",
      "\tNearest to over: dissimilar, suit, into, lattices, stipend, channel, nagano, beyond,\n",
      "step 52000\t378s\tAverage loss: 3.433078\n",
      "step 54000\t392s\tAverage loss: 3.426346\n",
      "step 56000\t406s\tAverage loss: 3.442148\n",
      "step 58000\t420s\tAverage loss: 3.399953\n",
      "step 60000\t433s\tAverage loss: 3.389374\n",
      "\tNearest to zero: five, seven, eight, four, six, nine, three, two,\n",
      "\tNearest to will: would, can, could, may, must, should, might, cannot,\n",
      "\tNearest to so: then, beyond, if, fell, enough, arminians, thucydides, even,\n",
      "\tNearest to can: may, would, could, will, might, must, cannot, should,\n",
      "\tNearest to are: were, is, have, these, although, include, outtakes, those,\n",
      "\tNearest to would: could, will, can, may, might, must, should, cannot,\n",
      "\tNearest to time: way, year, refering, purpose, season, value, emulators, contradicted,\n",
      "\tNearest to no: any, already, informer, dependency, mach, subscriptions, calorie, a,\n",
      "\tNearest to people: men, women, areas, others, children, omniscient, proverbs, players,\n",
      "\tNearest to united: constitution, southern, tanakh, confederate, argumentum, armies, aeacus, geer,\n",
      "\tNearest to in: within, during, of, between, at, until, reels, since,\n",
      "\tNearest to that: which, what, however, this, nasrallah, plantarum, sarasota, often,\n",
      "\tNearest to also: now, often, still, generally, usually, traditionally, never, below,\n",
      "\tNearest to about: selects, regarding, rabbits, how, nearly, exclaims, hksar, nonsensical,\n",
      "\tNearest to some: many, several, these, most, any, those, all, each,\n",
      "\tNearest to over: around, dissimilar, into, colts, pandit, nagano, beyond, apostates,\n",
      "step 62000\t448s\tAverage loss: 3.242861\n",
      "step 64000\t462s\tAverage loss: 3.255224\n",
      "step 66000\t475s\tAverage loss: 3.403763\n",
      "step 68000\t489s\tAverage loss: 3.394123\n",
      "step 70000\t503s\tAverage loss: 3.358839\n",
      "\tNearest to zero: five, eight, four, six, seven, nine, three, two,\n",
      "\tNearest to will: would, can, may, could, must, might, should, cannot,\n",
      "\tNearest to so: then, enough, if, beyond, fell, too, thus, thucydides,\n",
      "\tNearest to can: may, could, would, will, might, must, cannot, should,\n",
      "\tNearest to are: were, have, is, these, include, outtakes, including, be,\n",
      "\tNearest to would: will, could, can, may, might, must, should, does,\n",
      "\tNearest to time: year, season, way, period, emulators, refering, purpose, contradicted,\n",
      "\tNearest to no: any, already, konkan, vera, mach, little, clearly, always,\n",
      "\tNearest to people: men, women, children, others, those, players, writers, historians,\n",
      "\tNearest to united: confederate, tanakh, same, constitution, amplifier, negus, printing, directx,\n",
      "\tNearest to in: within, during, on, until, halas, between, among, for,\n",
      "\tNearest to that: which, however, but, what, this, nasrallah, often, generally,\n",
      "\tNearest to also: still, now, which, often, traditionally, usually, below, generally,\n",
      "\tNearest to about: regarding, selects, rabbits, over, nonsensical, nearly, hksar, permanganate,\n",
      "\tNearest to some: many, several, these, most, all, both, any, those,\n",
      "\tNearest to over: around, beyond, about, dissimilar, colts, pandit, lattices, suit,\n",
      "step 72000\t517s\tAverage loss: 3.370857\n",
      "step 74000\t531s\tAverage loss: 3.343729\n",
      "step 76000\t545s\tAverage loss: 3.315984\n",
      "step 78000\t559s\tAverage loss: 3.355344\n",
      "step 80000\t573s\tAverage loss: 3.377114\n",
      "\tNearest to zero: seven, five, eight, six, nine, four, three, u,\n",
      "\tNearest to will: would, could, can, may, must, might, should, cannot,\n",
      "\tNearest to so: too, fell, beyond, then, appreciation, appreciated, thucydides, watchmen,\n",
      "\tNearest to can: could, would, will, may, cannot, must, might, should,\n",
      "\tNearest to are: were, include, have, is, although, contain, these, parkes,\n",
      "\tNearest to would: will, could, can, may, might, must, should, cannot,\n",
      "\tNearest to time: year, emulators, season, refering, years, purpose, unbeatable, contradicted,\n",
      "\tNearest to no: any, vera, little, already, clapping, calorie, lineker, it,\n",
      "\tNearest to people: men, women, children, students, players, those, historians, others,\n",
      "\tNearest to united: confederate, tanakh, constitution, amplifier, same, suffragan, census, serrano,\n",
      "\tNearest to in: during, on, until, within, at, of, between, despite,\n",
      "\tNearest to that: which, however, this, nasrallah, what, why, rust, arameans,\n",
      "\tNearest to also: still, now, often, which, sometimes, traditionally, usually, hco,\n",
      "\tNearest to about: regarding, selects, rabbits, over, nonsensical, hksar, sabah, permanganate,\n",
      "\tNearest to some: many, several, most, various, all, any, these, both,\n",
      "\tNearest to over: around, about, beyond, within, dissimilar, colts, nearly, into,\n",
      "step 82000\t587s\tAverage loss: 3.407618\n",
      "step 84000\t602s\tAverage loss: 3.410363\n",
      "step 86000\t617s\tAverage loss: 3.385879\n",
      "step 88000\t629s\tAverage loss: 3.350869\n",
      "step 90000\t639s\tAverage loss: 3.365812\n",
      "\tNearest to zero: seven, five, eight, six, four, nine, three, u,\n",
      "\tNearest to will: would, could, can, may, might, must, should, cannot,\n",
      "\tNearest to so: too, fell, appreciated, beyond, thucydides, cytoplasmic, arminians, if,\n",
      "\tNearest to can: may, could, would, will, might, cannot, should, must,\n",
      "\tNearest to are: were, is, include, have, contain, these, although, those,\n",
      "\tNearest to would: could, will, might, can, may, should, must, cannot,\n",
      "\tNearest to time: year, emulators, season, refering, premature, contradicted, purpose, stage,\n",
      "\tNearest to no: any, little, always, only, already, another, pcb, lineker,\n",
      "\tNearest to people: men, women, children, players, writers, those, students, subjects,\n",
      "\tNearest to united: confederate, constitution, same, sovereign, tanakh, suffragan, procure, negus,\n",
      "\tNearest to in: within, during, between, of, with, at, under, until,\n",
      "\tNearest to that: which, however, what, plantarum, why, but, concealing, mcclelland,\n",
      "\tNearest to also: now, still, often, which, traditionally, usually, generally, historically,\n",
      "\tNearest to about: regarding, selects, rabbits, permanganate, following, nonsensical, over, vacancy,\n",
      "\tNearest to some: many, several, these, any, most, all, this, various,\n",
      "\tNearest to over: around, within, nearly, through, lattices, moles, beyond, dissimilar,\n",
      "step 92000\t649s\tAverage loss: 3.396895\n",
      "step 94000\t659s\tAverage loss: 3.249053\n",
      "step 96000\t668s\tAverage loss: 3.359697\n",
      "step 98000\t679s\tAverage loss: 3.239808\n",
      "step 100000\t689s\tAverage loss: 3.357216\n",
      "\tNearest to zero: five, six, seven, eight, four, nine, three, u,\n",
      "\tNearest to will: would, could, can, may, must, should, might, cannot,\n",
      "\tNearest to so: then, too, thus, beyond, criticizing, therefore, lasker, appreciated,\n",
      "\tNearest to can: may, could, will, would, should, cannot, must, might,\n",
      "\tNearest to are: were, have, include, although, is, contain, these, be,\n",
      "\tNearest to would: could, will, might, may, can, should, must, cannot,\n",
      "\tNearest to time: season, year, refering, emulators, periods, contradicted, way, premature,\n",
      "\tNearest to no: any, little, lineker, another, distinction, vera, clapping, calorie,\n",
      "\tNearest to people: men, women, children, players, students, writers, historians, someone,\n",
      "\tNearest to united: confederate, netherlands, tanakh, sovereign, negus, suffragan, constitution, southern,\n",
      "\tNearest to in: during, within, on, until, at, from, halas, under,\n",
      "\tNearest to that: which, however, what, why, but, sketchy, nominates, plantarum,\n",
      "\tNearest to also: still, now, often, traditionally, below, never, usually, sometimes,\n",
      "\tNearest to about: regarding, rabbits, selects, following, nonsensical, hksar, middleweight, permanganate,\n",
      "\tNearest to some: many, several, these, any, various, those, all, numerous,\n",
      "\tNearest to over: within, around, nearly, moles, splits, beyond, dei, dissimilar,\n"
     ]
    }
   ],
   "source": [
    "##################\n",
    "# EJECUCION SKIP-GRAM\n",
    "##################\n",
    "\n",
    "num_steps = 100001\n",
    "loss_report_interval = 2000\n",
    "similarity_report_interval = 10000\n",
    "top_k = 8 # number of nearest neighbors a mostrar en el informe de similitud\n",
    "\n",
    "t1 = time.time()\n",
    "\n",
    "with tf.Session(graph=graphSG) as session:\n",
    "  tf.global_variables_initializer().run()\n",
    "  print('Initialized')\n",
    "  average_loss = 0\n",
    "\n",
    "  # iterar\n",
    "  for step in range(num_steps):\n",
    "    batch_data, batch_labels = generate_batch_skipgram(batch_size, num_skips, skip_window)\n",
    "    feed_dict = {train_dataset : batch_data, train_labels : batch_labels}\n",
    "    _, L = session.run([optimizer, loss], feed_dict=feed_dict)\n",
    "    average_loss += L\n",
    "\n",
    "    # mostar la perdida media de un intervalo\n",
    "    if step % loss_report_interval == 0:\n",
    "      t2 = time.time()\n",
    "      if step > 0:\n",
    "        average_loss = average_loss / loss_report_interval\n",
    "      # The average loss is an estimate of the loss over the last loss_report_interval batches.\n",
    "      print('step %d\\t%ds\\tAverage loss: %f' % (step,t2-t1, average_loss))\n",
    "      average_loss = 0\n",
    "    \n",
    "    # mostrar la similitud alcanzada en un intervalo\n",
    "    # note that this is expensive (~20% slowdown if computed every 500 steps)\n",
    "    if step % similarity_report_interval == 0:\n",
    "      sim = similarity.eval() #tomar la variable calculada de similitud\n",
    "      for i in range(valid_size):\n",
    "        valid_word = reverse_dictionary[valid_examples[i]]\n",
    "        nearest = (-sim[i, :]).argsort()[1:top_k+1] # del vector de probabilidades de vecindad toma los 8 mayores\n",
    "        log = '\\tNearest to %s:' % valid_word\n",
    "        for k in range(top_k):\n",
    "          close_word = reverse_dictionary[nearest[k]]\n",
    "          log = '%s %s,' % (log, close_word)\n",
    "        print(log)\n",
    "        \n",
    "  #final_n = norm.eval() #tomar el denominador de normalizacion a ver si tiene ceros\n",
    "  final_skipgram_embeddings = normalized_embeddings.eval() \n",
    "    #me quedo con las features finales que definen cada concepto de palabra\n",
    "  print('End.')"
   ]
  },
  {
   "cell_type": "markdown",
   "metadata": {},
   "source": [
    "###### Vamos a dibujar usando herramienta de TensorFlow: \n",
    "[TNSE] (https://www.tensorflow.org/tutorials/word2vec/?authuser=2)\n"
   ]
  },
  {
   "cell_type": "code",
   "execution_count": 9,
   "metadata": {
    "collapsed": false
   },
   "outputs": [
    {
     "name": "stdout",
     "output_type": "stream",
     "text": [
      "(50000, 128)\n",
      "[-0.01716124 -0.20696527 -0.11946616 ..., -0.14512001  0.04967998\n",
      "  0.01002654]\n",
      "False\n",
      "False\n"
     ]
    }
   ],
   "source": [
    "#Me da error de que final_embeddings tiene un Nan o un Inf y no es así\n",
    "#kk = final_n.reshape(vocabulary_size)\n",
    "#print(np.isnan(kk).any())\n",
    "#print(np.isinf(kk).any())\n",
    "print(final_skipgram_embeddings.shape)\n",
    "kk = final_skipgram_embeddings.reshape(vocabulary_size*embedding_size)\n",
    "print(kk)\n",
    "print(np.isnan(kk).any())\n",
    "print(np.isinf(kk).any())"
   ]
  },
  {
   "cell_type": "markdown",
   "metadata": {},
   "source": [
    "Es un fallo de numpy o de sci-kit:\n",
    "    (https://github.com/amygdala/tensorflow-workshop/issues/12)\n",
    "TAMBIEN SE AREGLA USANDO MAS MUESTRAS PARA DIBUJAR, PERO LUEGO HAY QUE TOMAR UN SUBRANGO O EL GRAFICO QUEDA COMO UNA CACA, VAYA TELA"
   ]
  },
  {
   "cell_type": "code",
   "execution_count": 10,
   "metadata": {
    "cellView": "both",
    "colab": {
     "autoexec": {
      "startup": false,
      "wait_interval": 0
     }
    },
    "colab_type": "code",
    "collapsed": false,
    "id": "jjJXYA_XzV79"
   },
   "outputs": [],
   "source": [
    "#num_points = 400\n",
    "num_points = 3000 #por el bug\n",
    "tsneSG = TSNE(perplexity=30, n_components=2, init='pca', n_iter=5000)\n",
    "two_d_embeddings = tsneSG.fit_transform(final_skipgram_embeddings[1:num_points+1, :])"
   ]
  },
  {
   "cell_type": "code",
   "execution_count": 11,
   "metadata": {
    "cellView": "both",
    "colab": {
     "autoexec": {
      "startup": false,
      "wait_interval": 0
     },
     "output_extras": [
      {
       "item_id": 1
      }
     ]
    },
    "colab_type": "code",
    "collapsed": false,
    "executionInfo": {
     "elapsed": 4763,
     "status": "ok",
     "timestamp": 1445965465525,
     "user": {
      "color": "#1FA15D",
      "displayName": "Vincent Vanhoucke",
      "isAnonymous": false,
      "isMe": true,
      "permissionId": "05076109866853157986",
      "photoUrl": "//lh6.googleusercontent.com/-cCJa7dTDcgQ/AAAAAAAAAAI/AAAAAAAACgw/r2EZ_8oYer4/s50-c-k-no/photo.jpg",
      "sessionId": "2f1ffade4c9f20de",
      "userId": "102167687554210253930"
     },
     "user_tz": 420
    },
    "id": "o_e0D_UezcDe",
    "outputId": "df22e4a5-e8ec-4e5e-d384-c6cf37c68c34"
   },
   "outputs": [
    {
     "data": {
      "image/png": "[encoded data removed]",
      "text/plain": [
       "<matplotlib.figure.Figure at 0x121a40710>"
      ]
     },
     "metadata": {},
     "output_type": "display_data"
    }
   ],
   "source": [
    "def plot(embeddings, labels):\n",
    "  assert embeddings.shape[0] >= len(labels), 'More labels than embeddings'\n",
    "  pylab.figure(figsize=(15,15))  # in inches\n",
    "  for i, label in enumerate(labels):\n",
    "    x, y = embeddings[i,:]\n",
    "    pylab.scatter(x, y)\n",
    "    pylab.annotate(label, xy=(x, y), xytext=(5, 2), textcoords='offset points',\n",
    "                   ha='right', va='bottom')\n",
    "  pylab.show()\n",
    "\n",
    "\n",
    "#Vamos a dibujar un rango\n",
    "\n",
    "#plot_desde = 1\n",
    "plot_desde = 1000 #debe ser mayor o igual que 1\n",
    "#num_plot = 400\n",
    "num_plot = 10\n",
    "\n",
    "assert (plot_desde > 1), 'solo se puede pintar del 1 en adelante'\n",
    "assert (plot_desde+num_plot <= num_points), 'no se puede pintar más de lo calculado'\n",
    "\n",
    "words = [reverse_dictionary[i] for i in range(plot_desde, plot_desde+num_plot)]\n",
    "embeddings_subset = two_d_embeddings[plot_desde:plot_desde+num_plot, :]\n",
    "plot(embeddings_subset, words)"
   ]
  },
  {
   "cell_type": "markdown",
   "metadata": {
    "colab_type": "text",
    "id": "QB5EFrBnpNnc"
   },
   "source": [
    "---\n",
    "\n",
    "Problem\n",
    "-------\n",
    "\n",
    "An alternative to skip-gram is another Word2Vec model called [CBOW](http://arxiv.org/abs/1301.3781) (Continuous Bag of Words). In the CBOW model, instead of predicting a context word from a word vector, you predict a word from the sum of all the word vectors in its context. Implement and evaluate a CBOW model trained on the text8 dataset.\n",
    "\n",
    "---"
   ]
  },
  {
   "cell_type": "markdown",
   "metadata": {
    "collapsed": true
   },
   "source": [
    "###### NOTA: me apoyo en su generate_batch de base pero quizás debería hacerme el mío que en lugar de poner como objetivo la palabra de en medio ponga la del final de cada ventana (aunque en su artículo dicen que quieren buscar el de enmedio)"
   ]
  },
  {
   "cell_type": "code",
   "execution_count": 41,
   "metadata": {
    "collapsed": false
   },
   "outputs": [
    {
     "name": "stdout",
     "output_type": "stream",
     "text": [
      "data: ['anarchism', 'originated', 'as', 'a', 'term', 'of', 'abuse', 'first', 'used', 'against', 'early', 'working', 'class', 'radicals', 'including', 'the']\n",
      "\n",
      "with num_skips = 2 and skip_window = 1:\n",
      "    IDs:\n",
      "['as', 'anarchism']\n",
      "['a', 'originated']\n",
      "['as', 'term']\n",
      "['of', 'a']\n",
      "['abuse', 'term']\n",
      "['of', 'first']\n",
      "['abuse', 'used']\n",
      "['against', 'first']\n",
      "    IDlabels: ['originated', 'as', 'a', 'term', 'of', 'abuse', 'first', 'used']\n",
      "\n",
      "with num_skips = 4 and skip_window = 2:\n",
      "    IDs:\n",
      "['a', 'term', 'anarchism', 'originated']\n",
      "['as', 'originated', 'term', 'of']\n",
      "['as', 'of', 'a', 'abuse']\n",
      "['abuse', 'a', 'first', 'term']\n",
      "['used', 'first', 'term', 'of']\n",
      "['abuse', 'of', 'against', 'used']\n",
      "['early', 'against', 'abuse', 'first']\n",
      "['used', 'working', 'early', 'first']\n",
      "    IDlabels: ['as', 'a', 'term', 'of', 'abuse', 'first', 'used', 'against']\n"
     ]
    }
   ],
   "source": [
    "data_index = 0\n",
    "\n",
    "#batch_size, tamaño del lote a meter en la red neural para aprender\n",
    "#skip_window, tamaño del lado derecho e izquierdo de la ventana alrededor de una palabra (es simétrica)\n",
    "#num_skips, distancia de palabra adyacente que va a tomar como etiqueta  (2 x skip_window)\n",
    "\n",
    "def generate_batch_cbow(batch_size, num_skips, skip_window):\n",
    "    ids, lids = generate_batch_skipgram(num_skips*batch_size, num_skips, skip_window)\n",
    "    batch = lids.reshape(batch_size,num_skips)\n",
    "    labels = ids[np.arange(0,num_skips*batch_size,num_skips)].reshape(batch_size,1)\n",
    "\n",
    "    return batch, labels\n",
    "    \n",
    "#Ejecucion de ejemplo para las primeras ocho palabras del diccionario (un lote de ocho)\n",
    "\n",
    "lote = 8\n",
    "print('data:', [reverse_dictionary[di] for di in data[:2*lote]])\n",
    "\n",
    "for num_skips, skip_window in [(2, 1), (4, 2)]:\n",
    "    print('\\nwith num_skips = %d and skip_window = %d:' % (num_skips, skip_window))\n",
    "\n",
    "    data_index = 0\n",
    "    batch, labels = generate_batch_cbow(batch_size=lote, num_skips=num_skips, skip_window=skip_window)\n",
    "    \n",
    "    def show2D(a):\n",
    "        for L in a:\n",
    "            print([reverse_dictionary[i] for i in L])\n",
    "    \n",
    "    print('    IDs:')\n",
    "    show2D(batch)\n",
    "    print('    IDlabels:', [reverse_dictionary[li] for li in labels.reshape(lote)])   \n"
   ]
  },
  {
   "cell_type": "code",
   "execution_count": 42,
   "metadata": {
    "cellView": "both",
    "colab": {
     "autoexec": {
      "startup": false,
      "wait_interval": 0
     }
    },
    "colab_type": "code",
    "collapsed": false,
    "id": "8pQKsV4Vwlzy"
   },
   "outputs": [],
   "source": [
    "##################\n",
    "# DECLARACION CBOW\n",
    "##################\n",
    "\n",
    "batch_size = 128 #Lotes de entrenamiento.\n",
    "\n",
    "embedding_size = 128 # Dimension of the embedding vector. Las features de cada palabra que la distinguen.\n",
    "skip_window = 1 # How many words to consider left and right. Semiventana, al final ventana de 3.\n",
    "                # Es poco debería ser mayor pero más procesamiento también.\n",
    "num_skips = 2 # How many times to reuse an input to generate a label. \n",
    "                #Normalmente ancho-ventana - 1 (3-1 = 2). O 2*skip_window\n",
    "\n",
    "# We pick a random validation set to sample nearest neighbors. here we limit the\n",
    "# validation samples to the words that have a low numeric ID, which by construction are also the most frequent. \n",
    "# Va a utilizar como validationSet las palabras más comunes del diccionario (las del principio)\n",
    "valid_size = 16 # Random set of words to evaluate similarity on. Escoge 16 para validacion.\n",
    "valid_window = 100 # Only pick dev samples in the head of the distribution. Las escoge de entre las 100 primeras.\n",
    "valid_examples = np.array(random.sample(range(valid_window), valid_size))\n",
    "\n",
    "num_sampled = 64 # Number of negative examples to sample. Muestras aleatorias de entre el lote que sirven para calcular LOSS.\n",
    "\n",
    "learning_rate = 1.0\n",
    "\n",
    "graphCB = tf.Graph()\n",
    "\n",
    "with graphCB.as_default(), tf.device('/cpu:0'):\n",
    "\n",
    "  # Input data.\n",
    "  train_dataset = tf.placeholder(tf.int32, shape=[batch_size, num_skips])\n",
    "  train_labels = tf.placeholder(tf.int32, shape=[batch_size, 1])\n",
    "  valid_dataset = tf.constant(valid_examples, dtype=tf.int32)\n",
    "  \n",
    "  # Variables y su inicializacion.\n",
    "      #RELACION CON OTROS CONCEPTOS (primer layer):\n",
    "  softmax_weights = tf.Variable(tf.truncated_normal([vocabulary_size, embedding_size],stddev=1.0 / math.sqrt(embedding_size)))\n",
    "  softmax_biases = tf.Variable(tf.zeros([vocabulary_size]))\n",
    "       #CONCEPTO-FEATURES DE UNA PALABRA (segundo layer):\n",
    "  embeddings = tf.Variable(tf.random_uniform([vocabulary_size, embedding_size], -1.0, 1.0)) \n",
    "    \n",
    "  # Model.\n",
    "  # Look up embeddings for outputs.\n",
    "  embed = tf.zeros([batch_size, embedding_size])\n",
    "  for j in range(num_skips): #El embedding objetivo es la suma de los embeddings de la bolsa de palabras correspondiente\n",
    "        embed += tf.nn.embedding_lookup(embeddings, train_dataset[:, j])\n",
    "\n",
    "  # Compute the softmax loss, using a sample of the negative train data each time.\n",
    "  loss = tf.reduce_mean(\n",
    "    tf.nn.sampled_softmax_loss(softmax_weights, softmax_biases, embed, train_labels, num_sampled, vocabulary_size)) \n",
    "        \n",
    "  # Optimizer.\n",
    "  optimizer = tf.train.AdagradOptimizer(learning_rate).minimize(loss)\n",
    "  \n",
    "  # Compute the similarity between minibatch examples and all embeddings.\n",
    "  # We use the cosine distance:\n",
    "  norm = tf.sqrt(tf.reduce_sum(tf.square(embeddings), 1, keep_dims=True))\n",
    "  normalized_embeddings = embeddings / norm\n",
    "  valid_embeddings = tf.nn.embedding_lookup(normalized_embeddings, valid_dataset)\n",
    "  similarity = tf.matmul(valid_embeddings, tf.transpose(normalized_embeddings))"
   ]
  },
  {
   "cell_type": "code",
   "execution_count": 43,
   "metadata": {
    "collapsed": false,
    "scrolled": true
   },
   "outputs": [
    {
     "name": "stdout",
     "output_type": "stream",
     "text": [
      "Initialized\n",
      "step 0\t0s\tAverage loss: 8.415958\n",
      "\tNearest to when: farewell, vices, allegories, satie, retrieve, hatcher, pacino, fawlty,\n",
      "\tNearest to a: livingston, xxvii, pencils, parnassus, halfwidth, amraam, balloons, humble,\n",
      "\tNearest to first: bragi, dmitry, brigid, traditionalists, enumerated, underwent, cues, indulgences,\n",
      "\tNearest to time: shtml, hogeschool, loudspeakers, rterbuch, newell, lio, czechoslovakian, bowman,\n",
      "\tNearest to american: sag, archimedes, methylene, hutchison, boles, recumbent, secrecy, achievable,\n",
      "\tNearest to about: actions, abm, hale, terrence, data, asphyxia, airline, inscriptions,\n",
      "\tNearest to more: balked, assumptions, overwrite, comiskey, ruskin, voss, wuhan, simplex,\n",
      "\tNearest to its: arin, asw, complexes, pasta, enigma, nitroglycerin, juneau, ex,\n",
      "\tNearest to from: biographers, cesium, proportionate, nucleotide, forcefully, bridged, orwell, erasure,\n",
      "\tNearest to many: depths, hairpin, humorist, longest, kov, subconscious, taps, bo,\n",
      "\tNearest to by: judges, presbyter, ghanima, swung, pure, tee, enjoined, mortgages,\n",
      "\tNearest to these: fingered, roundel, dissociation, faction, isosceles, subverting, steyr, porsche,\n",
      "\tNearest to some: consist, masculism, wuxia, halftime, wiens, watercolors, toga, patronymic,\n",
      "\tNearest to had: compatible, woogie, austronesian, computationally, yo, homeworld, minbari, worshipping,\n",
      "\tNearest to and: thoroughfare, circumnavigated, beneath, disputes, renouncing, freely, hammered, crusoe,\n",
      "\tNearest to two: keyboard, hyena, perceptive, ranked, slip, revolution, alleles, ogle,\n",
      "step 2000\t12s\tAverage loss: 4.094018\n",
      "step 4000\t24s\tAverage loss: 3.564202\n",
      "step 6000\t36s\tAverage loss: 3.396880\n",
      "step 8000\t47s\tAverage loss: 3.252656\n",
      "step 10000\t59s\tAverage loss: 3.177150\n",
      "\tNearest to when: before, arctan, after, where, vices, woolen, that, clout,\n",
      "\tNearest to a: contestants, hbp, megabytes, fia, scarred, ira, appleseed, the,\n",
      "\tNearest to first: bragi, second, cocteau, last, genuineness, grohl, elin, attendance,\n",
      "\tNearest to time: shtml, loudspeakers, czechoslovakian, abitibi, ireann, resorting, biography, limit,\n",
      "\tNearest to american: shiraz, outline, german, cordless, jovian, lighted, retarded, awk,\n",
      "\tNearest to about: erv, inscriptions, data, daily, knitted, hyperthyroidism, synchronized, abm,\n",
      "\tNearest to more: less, most, overwrite, very, unincorporated, balked, mulberry, secret,\n",
      "\tNearest to its: their, his, the, stratocaster, complexes, castillo, semiconducting, untenable,\n",
      "\tNearest to from: in, through, erasure, lamb, activision, cathar, discoid, canonically,\n",
      "\tNearest to many: some, several, other, these, all, qh, multithreading, ramming,\n",
      "\tNearest to by: for, strange, into, jacobs, expressway, be, harpers, cuar,\n",
      "\tNearest to these: bahamian, some, many, addison, several, such, leyte, fingered,\n",
      "\tNearest to some: many, these, several, their, nisibis, pie, endosperm, most,\n",
      "\tNearest to had: has, have, were, was, standardisation, having, gave, papandreou,\n",
      "\tNearest to and: or, thoroughfare, rence, dorsal, pulleys, kettle, benefitting, samaria,\n",
      "\tNearest to two: eight, four, three, seven, five, six, nine, zero,\n",
      "step 12000\t71s\tAverage loss: 3.200219\n",
      "step 14000\t83s\tAverage loss: 3.156423\n",
      "step 16000\t94s\tAverage loss: 3.179104\n",
      "step 18000\t106s\tAverage loss: 3.124704\n",
      "step 20000\t117s\tAverage loss: 2.987976\n",
      "\tNearest to when: before, if, after, where, with, arctan, while, woolen,\n",
      "\tNearest to a: the, another, his, scarred, no, any, olney, danneskj,\n",
      "\tNearest to first: second, last, next, original, cocteau, attendance, luk, bragi,\n",
      "\tNearest to time: limit, year, shtml, alto, czechoslovakian, loudspeakers, day, astonished,\n",
      "\tNearest to american: australian, african, english, jovian, canadian, retrieving, buteo, vivekananda,\n",
      "\tNearest to about: erv, idealists, uphill, dtds, aasen, arndt, inscriptions, outwardly,\n",
      "\tNearest to more: less, most, very, margraves, forall, rather, billet, fait,\n",
      "\tNearest to its: their, his, the, volunteered, her, battuta, slovakian, verified,\n",
      "\tNearest to from: through, into, erasure, discoid, hydroelectric, pitot, canonically, dtds,\n",
      "\tNearest to many: some, several, these, all, hormone, most, such, historicism,\n",
      "\tNearest to by: through, concave, was, when, with, andes, cuar, adrift,\n",
      "\tNearest to these: some, many, such, they, several, those, there, ennedi,\n",
      "\tNearest to some: many, several, these, most, any, their, all, pie,\n",
      "\tNearest to had: has, have, was, having, standardisation, were, began, enthusiast,\n",
      "\tNearest to and: or, but, newsmagazine, inundated, miscellaneous, sweeping, like, while,\n",
      "\tNearest to two: seven, three, four, six, one, five, eight, nine,\n",
      "step 22000\t129s\tAverage loss: 3.075697\n",
      "step 24000\t141s\tAverage loss: 3.034760\n",
      "step 26000\t153s\tAverage loss: 3.002777\n",
      "step 28000\t164s\tAverage loss: 3.034107\n",
      "step 30000\t176s\tAverage loss: 3.009036\n",
      "\tNearest to when: before, if, after, where, while, since, although, during,\n",
      "\tNearest to a: the, scarred, cautiously, jest, any, capturing, unter, another,\n",
      "\tNearest to first: last, second, next, original, latter, cocteau, genuineness, attendance,\n",
      "\tNearest to time: year, day, hurdles, tewahedo, limit, astonished, alto, iso,\n",
      "\tNearest to american: australian, african, retrieving, canadian, jovian, buteo, british, german,\n",
      "\tNearest to about: erv, aasen, uphill, idealists, regarding, outwardly, petropavlovsk, bluntly,\n",
      "\tNearest to more: less, most, rather, very, too, greater, billet, fairly,\n",
      "\tNearest to its: their, his, her, the, volunteered, sargent, banisteriopsis, plasticity,\n",
      "\tNearest to from: into, through, erasure, discoid, dtds, in, activision, on,\n",
      "\tNearest to many: some, several, these, various, all, few, those, such,\n",
      "\tNearest to by: through, under, andes, had, alludes, excommunicate, in, dedekind,\n",
      "\tNearest to these: such, many, some, those, several, both, various, ennedi,\n",
      "\tNearest to some: many, several, these, most, any, all, certain, both,\n",
      "\tNearest to had: has, have, was, were, having, gave, standardisation, never,\n",
      "\tNearest to and: or, but, quinine, bullies, leetspeak, however, wexford, including,\n",
      "\tNearest to two: three, four, five, six, seven, one, nine, eight,\n",
      "step 32000\t188s\tAverage loss: 2.829884\n",
      "step 34000\t199s\tAverage loss: 2.955585\n",
      "step 36000\t211s\tAverage loss: 2.952324\n",
      "step 38000\t223s\tAverage loss: 2.942416\n",
      "step 40000\t234s\tAverage loss: 2.936959\n",
      "\tNearest to when: before, if, after, where, during, while, though, by,\n",
      "\tNearest to a: another, the, scarred, hbp, every, olney, verizon, any,\n",
      "\tNearest to first: last, second, next, original, best, final, same, latter,\n",
      "\tNearest to time: year, astonished, day, completeness, alto, position, limit, prohibiting,\n",
      "\tNearest to american: australian, african, british, german, indian, canadian, billed, buteo,\n",
      "\tNearest to about: regarding, on, aasen, idealists, around, petropavlovsk, erv, outwardly,\n",
      "\tNearest to more: less, most, very, rather, too, fairly, better, larger,\n",
      "\tNearest to its: their, his, her, the, verified, my, jscript, whose,\n",
      "\tNearest to from: through, into, erasure, within, discoid, during, in, between,\n",
      "\tNearest to many: some, several, various, most, these, both, qh, tonality,\n",
      "\tNearest to by: through, when, kees, symbolize, andes, delegate, redirect, using,\n",
      "\tNearest to these: several, those, some, such, various, many, which, both,\n",
      "\tNearest to some: many, several, these, most, various, any, all, certain,\n",
      "\tNearest to had: have, has, was, were, having, standardisation, gave, never,\n",
      "\tNearest to and: or, but, while, sustainable, hindemith, iea, kare, newsmagazine,\n",
      "\tNearest to two: three, five, six, four, seven, eight, zero, nine,\n",
      "step 42000\t246s\tAverage loss: 2.949265\n",
      "step 44000\t258s\tAverage loss: 2.959801\n",
      "step 46000\t270s\tAverage loss: 2.912480\n",
      "step 48000\t281s\tAverage loss: 2.871125\n",
      "step 50000\t293s\tAverage loss: 2.847094\n",
      "\tNearest to when: before, if, after, during, while, where, although, since,\n",
      "\tNearest to a: scarred, hbp, the, another, any, every, contestants, cautiously,\n",
      "\tNearest to first: last, next, second, original, final, best, cocteau, latter,\n",
      "\tNearest to time: year, completeness, astonished, prohibiting, diagram, inspect, surges, kinds,\n",
      "\tNearest to american: british, german, australian, billed, canadian, buteo, outline, shiraz,\n",
      "\tNearest to about: around, regarding, petropavlovsk, uphill, dispossessed, over, inconclusive, ticonderoga,\n",
      "\tNearest to more: less, most, very, fairly, rather, greater, too, smaller,\n",
      "\tNearest to its: their, his, her, the, my, our, fallen, whose,\n",
      "\tNearest to from: into, through, in, within, discoid, erasure, during, dispossessed,\n",
      "\tNearest to many: several, some, these, various, most, all, few, such,\n",
      "\tNearest to by: through, worsening, using, andes, against, alludes, during, falsificationism,\n",
      "\tNearest to these: several, many, those, some, various, such, their, both,\n",
      "\tNearest to some: many, several, any, most, these, various, certain, endosperm,\n",
      "\tNearest to had: has, have, were, having, was, gave, standardisation, since,\n",
      "\tNearest to and: or, but, totals, although, sustainable, while, including, comb,\n",
      "\tNearest to two: three, four, six, five, eight, seven, one, nine,\n",
      "step 52000\t305s\tAverage loss: 2.891583\n",
      "step 54000\t316s\tAverage loss: 2.864191\n",
      "step 56000\t328s\tAverage loss: 2.861243\n",
      "step 58000\t341s\tAverage loss: 2.750916\n",
      "step 60000\t354s\tAverage loss: 2.831311\n",
      "\tNearest to when: if, before, where, during, after, while, although, since,\n",
      "\tNearest to a: another, scarred, hbp, the, laterally, meps, any, roddick,\n",
      "\tNearest to first: last, second, next, original, third, cocteau, latter, final,\n",
      "\tNearest to time: year, day, diagram, astonished, solstices, kind, completeness, longsword,\n",
      "\tNearest to american: australian, british, canadian, english, german, italian, african, buteo,\n",
      "\tNearest to about: regarding, within, over, petropavlovsk, around, bitterness, keeps, uphill,\n",
      "\tNearest to more: less, most, very, fairly, rather, greater, better, smaller,\n",
      "\tNearest to its: their, his, her, the, whose, fallen, our, your,\n",
      "\tNearest to from: through, into, during, within, by, erasure, under, after,\n",
      "\tNearest to many: several, some, various, these, few, certain, all, those,\n",
      "\tNearest to by: through, from, alludes, excommunicate, during, worsening, expressway, scientologists,\n",
      "\tNearest to these: several, such, those, many, various, ennedi, all, they,\n",
      "\tNearest to some: many, several, any, most, each, various, certain, this,\n",
      "\tNearest to had: has, have, was, having, gave, were, never, standardisation,\n",
      "\tNearest to and: or, but, although, mailboxes, totals, kare, while, where,\n",
      "\tNearest to two: three, four, six, five, one, seven, eight, zero,\n",
      "step 62000\t367s\tAverage loss: 2.830411\n",
      "step 64000\t379s\tAverage loss: 2.776165\n",
      "step 66000\t391s\tAverage loss: 2.766892\n",
      "step 68000\t404s\tAverage loss: 2.713127\n",
      "step 70000\t416s\tAverage loss: 2.788051\n",
      "\tNearest to when: if, before, after, during, while, where, with, since,\n",
      "\tNearest to a: scarred, the, another, hbp, any, imperatoribus, cautiously, every,\n",
      "\tNearest to first: last, second, next, third, latter, cocteau, genuineness, previous,\n",
      "\tNearest to time: completeness, astonished, day, tewahedo, period, year, fmri, decade,\n",
      "\tNearest to american: australian, british, canadian, african, italian, english, german, chilean,\n",
      "\tNearest to about: regarding, petropavlovsk, over, what, around, inconclusive, idealists, wiping,\n",
      "\tNearest to more: less, most, very, greater, fairly, too, highly, better,\n",
      "\tNearest to its: their, his, the, her, whose, cinderella, jscript, andros,\n",
      "\tNearest to from: through, under, into, erasure, during, within, discoid, across,\n",
      "\tNearest to many: several, some, various, numerous, all, few, these, most,\n",
      "\tNearest to by: through, without, with, under, during, when, scientologists, ltc,\n",
      "\tNearest to these: those, several, some, various, many, they, certain, both,\n",
      "\tNearest to some: many, several, any, these, certain, various, most, numerous,\n",
      "\tNearest to had: has, have, was, having, were, showed, standardisation, since,\n",
      "\tNearest to and: or, but, although, while, donate, kare, totals, sustainable,\n",
      "\tNearest to two: four, three, five, seven, six, eight, one, nine,\n",
      "step 72000\t429s\tAverage loss: 2.799764\n",
      "step 74000\t442s\tAverage loss: 2.642389\n",
      "step 76000\t455s\tAverage loss: 2.804382\n",
      "step 78000\t466s\tAverage loss: 2.823772\n",
      "step 80000\t479s\tAverage loss: 2.778724\n",
      "\tNearest to when: if, before, after, while, during, although, though, where,\n",
      "\tNearest to a: scarred, another, hbp, the, neuropsychological, cautiously, dieppe, applescript,\n",
      "\tNearest to first: last, next, second, third, earliest, final, best, latter,\n",
      "\tNearest to time: day, year, astonished, kind, period, completeness, controversy, nostrand,\n",
      "\tNearest to american: australian, british, african, italian, canadian, english, jovian, irish,\n",
      "\tNearest to about: regarding, petropavlovsk, over, around, jaynes, best, dispossessed, what,\n",
      "\tNearest to more: less, very, most, greater, fairly, quite, highly, rather,\n",
      "\tNearest to its: their, his, her, the, whose, our, jscript, byrds,\n",
      "\tNearest to from: through, across, within, into, erasure, during, in, discoid,\n",
      "\tNearest to many: several, some, various, numerous, all, most, those, few,\n",
      "\tNearest to by: through, when, during, andes, without, for, using, from,\n",
      "\tNearest to these: several, some, those, such, both, many, certain, which,\n",
      "\tNearest to some: many, several, certain, these, any, most, various, both,\n",
      "\tNearest to had: has, have, was, were, having, standardisation, showed, wanted,\n",
      "\tNearest to and: or, including, but, although, totals, of, corrie, however,\n",
      "\tNearest to two: three, four, five, eight, six, seven, one, nine,\n",
      "step 82000\t492s\tAverage loss: 2.664798\n",
      "step 84000\t505s\tAverage loss: 2.768273\n",
      "step 86000\t518s\tAverage loss: 2.734654\n",
      "step 88000\t530s\tAverage loss: 2.756487\n",
      "step 90000\t542s\tAverage loss: 2.739314\n",
      "\tNearest to when: if, although, before, after, though, while, where, during,\n",
      "\tNearest to a: another, scarred, hbp, detonates, dieppe, the, chorales, every,\n",
      "\tNearest to first: last, next, second, earliest, latter, third, fourth, genuineness,\n",
      "\tNearest to time: year, day, period, manner, problem, completeness, withered, anus,\n",
      "\tNearest to american: australian, african, british, italian, english, nur, indian, french,\n",
      "\tNearest to about: around, regarding, over, jaynes, approximately, idealists, petropavlovsk, outwardly,\n",
      "\tNearest to more: less, most, greater, very, fairly, rather, quite, better,\n",
      "\tNearest to its: their, his, the, her, whose, our, cinderella, latitude,\n",
      "\tNearest to from: through, across, including, during, erasure, into, in, via,\n",
      "\tNearest to many: some, several, numerous, various, most, few, all, both,\n",
      "\tNearest to by: through, when, including, marianas, via, using, stephens, schoolteacher,\n",
      "\tNearest to these: those, some, such, ennedi, multiple, their, several, certain,\n",
      "\tNearest to some: many, several, certain, most, various, these, any, this,\n",
      "\tNearest to had: has, have, was, were, having, standardisation, showed, wanted,\n",
      "\tNearest to and: or, including, although, drang, but, barroso, on, donate,\n",
      "\tNearest to two: three, four, six, five, seven, eight, one, zero,\n",
      "step 92000\t555s\tAverage loss: 2.678391\n",
      "step 94000\t567s\tAverage loss: 2.728046\n",
      "step 96000\t579s\tAverage loss: 2.703232\n",
      "step 98000\t592s\tAverage loss: 2.366784\n",
      "step 100000\t604s\tAverage loss: 2.403637\n",
      "\tNearest to when: if, before, after, though, although, while, where, during,\n",
      "\tNearest to a: hbp, scarred, another, the, verizon, detonates, sorties, contestants,\n",
      "\tNearest to first: last, next, second, third, fourth, latter, earliest, original,\n",
      "\tNearest to time: screams, decade, kind, manner, period, astonished, year, debate,\n",
      "\tNearest to american: australian, english, canadian, british, german, italian, swiss, scottish,\n",
      "\tNearest to about: regarding, around, over, relentlessly, jaynes, on, ticonderoga, inconclusive,\n",
      "\tNearest to more: less, most, very, rather, fairly, better, too, quite,\n",
      "\tNearest to its: their, his, her, whose, our, the, plasticity, your,\n",
      "\tNearest to from: across, through, erasure, via, bondi, discoid, for, into,\n",
      "\tNearest to many: several, some, numerous, various, few, multiple, such, all,\n",
      "\tNearest to by: through, alludes, when, using, upside, for, via, blazing,\n",
      "\tNearest to these: those, several, some, such, ennedi, certain, many, drowns,\n",
      "\tNearest to some: many, several, any, certain, these, most, this, various,\n",
      "\tNearest to had: has, have, having, was, showed, standardisation, were, never,\n",
      "\tNearest to and: or, but, including, kare, mailboxes, towards, though, hopeless,\n",
      "\tNearest to two: three, six, four, five, eight, seven, zero, nine,\n"
     ]
    }
   ],
   "source": [
    "##################\n",
    "# EJECUCION CBOW\n",
    "##################\n",
    "\n",
    "num_steps = 100001\n",
    "loss_report_interval = 2000\n",
    "similarity_report_interval = 10000\n",
    "top_k = 8 # number of nearest neighbors a mostrar en el informe de similitud\n",
    "\n",
    "t1 = time.time()\n",
    "\n",
    "sessCB = tf.Session(graph=graphCB)\n",
    "with sessCB as session:\n",
    "  tf.global_variables_initializer().run()\n",
    "  print('Initialized')\n",
    "  average_loss = 0\n",
    "\n",
    "  # iterar\n",
    "  for step in range(num_steps):\n",
    "    batch_data, batch_labels = generate_batch_cbow(batch_size, num_skips, skip_window)\n",
    "    feed_dict = {train_dataset : batch_data, train_labels : batch_labels}\n",
    "    _, L = session.run([optimizer, loss], feed_dict=feed_dict)\n",
    "    average_loss += L\n",
    "\n",
    "    # mostar la perdida media de un intervalo\n",
    "    if step % loss_report_interval == 0:\n",
    "      t2 = time.time()\n",
    "      if step > 0:\n",
    "        average_loss = average_loss / loss_report_interval\n",
    "      # The average loss is an estimate of the loss over the last loss_report_interval batches.\n",
    "      print('step %d\\t%ds\\tAverage loss: %f' % (step,t2-t1, average_loss))\n",
    "      average_loss = 0\n",
    "    \n",
    "    # mostrar la similitud alcanzada en un intervalo\n",
    "    # note that this is expensive (~20% slowdown if computed every 500 steps)\n",
    "    if step % similarity_report_interval == 0:\n",
    "      sim = similarity.eval() #tomar la variable calculada de similitud\n",
    "      for i in range(valid_size):\n",
    "        valid_word = reverse_dictionary[valid_examples[i]]\n",
    "        nearest = (-sim[i, :]).argsort()[1:top_k+1] # del vector de probabilidades de vecindad toma los 8 mayores\n",
    "        log = '\\tNearest to %s:' % valid_word\n",
    "        for k in range(top_k):\n",
    "          close_word = reverse_dictionary[nearest[k]]\n",
    "          log = '%s %s,' % (log, close_word)\n",
    "        print(log)\n",
    "        \n",
    "  final_cbow_embeddings = normalized_embeddings.eval() \n",
    "        #me quedo con las features finales que definen cada concepto de palabra\n",
    "  print(\"End.\")"
   ]
  },
  {
   "cell_type": "markdown",
   "metadata": {},
   "source": [
    "##### Vamos a dibujar cosas"
   ]
  },
  {
   "cell_type": "code",
   "execution_count": 44,
   "metadata": {
    "collapsed": false
   },
   "outputs": [
    {
     "data": {
      "text/plain": [
       "\"\\nword = 'be'\\nword_id = data[dictionary[word]]\\n\\nwith graphCB.as_default(), tf.device('/cpu:0'):\\n      norm = tf.sqrt(tf.reduce_sum(tf.square(embeddings), 1, keep_dims=True))\\n      normalized_embeddings = embeddings / norm\\n      myembedding = tf.nn.embedding_lookup(normalized_embeddings, [word_id])\\n      OneSimilarity = tf.matmul(myembedding, tf.transpose(normalized_embeddings))\\n    \\nwith sessCB as session:\\n      n = norm.eval()\\n      print(n.shape)\\n      e = myembedding.eval()\\n      print(e.shape)\\n      sim = OneSimilarity.eval()\\n      print(sim.shape)\\n      nearest = (-sim[0, :]).argsort()[1:top_k+1] # del vector de probabilidades de vecindad toma los 8 mayores\\n      log = '\\tNearest to %s:' % word\\n      for k in range(top_k):\\n        close_word = reverse_dictionary[nearest[k]]\\n        log = '%s %s,' % (log, close_word)\\n      print(log)    \\n\""
      ]
     },
     "execution_count": 44,
     "metadata": {},
     "output_type": "execute_result"
    }
   ],
   "source": [
    "#Nearest to be: been, being, become, have, refer, is, ratifies, were,\n",
    "\"\"\"\n",
    "word = 'be'\n",
    "word_id = data[dictionary[word]]\n",
    "\n",
    "with graphCB.as_default(), tf.device('/cpu:0'):\n",
    "      norm = tf.sqrt(tf.reduce_sum(tf.square(embeddings), 1, keep_dims=True))\n",
    "      normalized_embeddings = embeddings / norm\n",
    "      myembedding = tf.nn.embedding_lookup(normalized_embeddings, [word_id])\n",
    "      OneSimilarity = tf.matmul(myembedding, tf.transpose(normalized_embeddings))\n",
    "    \n",
    "with sessCB as session:\n",
    "      n = norm.eval()\n",
    "      print(n.shape)\n",
    "      e = myembedding.eval()\n",
    "      print(e.shape)\n",
    "      sim = OneSimilarity.eval()\n",
    "      print(sim.shape)\n",
    "      nearest = (-sim[0, :]).argsort()[1:top_k+1] # del vector de probabilidades de vecindad toma los 8 mayores\n",
    "      log = '\\tNearest to %s:' % word\n",
    "      for k in range(top_k):\n",
    "        close_word = reverse_dictionary[nearest[k]]\n",
    "        log = '%s %s,' % (log, close_word)\n",
    "      print(log)    \n",
    "\"\"\""
   ]
  },
  {
   "cell_type": "code",
   "execution_count": 45,
   "metadata": {
    "collapsed": false
   },
   "outputs": [],
   "source": [
    "def show_nearest_embeddings_PCA(word,norm_embeddings,area=10):\n",
    "    \n",
    "    assert (word in dictionary), 'This word is not in the dictionary'\n",
    "    \n",
    "    word_id = dictionary[word]\n",
    "    print('ID for \"' + word +'\" is ' + str(word_id))\n",
    "\n",
    "    # Compute the similarity between selected word and all embeddings.\n",
    "    print('computing neighbors...')\n",
    "\n",
    "    # We use the cosine distance:\n",
    "    my_embedding = norm_embeddings[word_id]\n",
    "    S = np.matmul(my_embedding, np.transpose(norm_embeddings))\n",
    "    #np.reshape(tensor=similarity,shape=[vocabulary_size])  \n",
    "\n",
    "    words = []\n",
    "    nearest = (-S).argsort()[1:area+1] # del vector de probabilidades de vecindad toma los mayores MENOS ÉL MISMO\n",
    "    log = '\\tNearest %d to \"%s\":' % (area,word)\n",
    "    for k in range(area):\n",
    "        close_word = reverse_dictionary[nearest[k]]\n",
    "        words = words + [close_word]\n",
    "        log = '%s %s,' % (log, close_word)\n",
    "    print(log)\n",
    "    \n",
    "    #Incluyo la propia palabra para que se vea tambien en el dibujo\n",
    "    words = words + [word]\n",
    "    nearest = np.append(nearest,word_id)\n",
    "    #print(nearest)\n",
    "    #print(words)\n",
    "\n",
    "    #Funcion para pintar las proyecciones 2D\n",
    "    def plot2D(embeddings, labels):\n",
    "      assert embeddings.shape[0] >= len(labels), 'More labels than embeddings'\n",
    "      pylab.figure(figsize=(15,15))  # in inches\n",
    "      for i, label in enumerate(labels):\n",
    "        x, y = embeddings[i,:]\n",
    "        pylab.scatter(x, y)\n",
    "        pylab.annotate(label, xy=(x, y), xytext=(5, 2), textcoords='offset points',ha='right', va='bottom')\n",
    "      pylab.show()\n",
    "\n",
    "    print('projecting and plotting...')\n",
    "\n",
    "    #embeddings_subset = norm_embeddings[1:301, :] # da BUG\n",
    "    #embeddings_subset = norm_embeddings[initial_word:num_points+1, :]\n",
    "    #embeddings_subset = norm_embeddings #si calculo todos REVIENTA el ordenador el TSNE\n",
    "    embeddings_subset = norm_embeddings[nearest, :] #si calculo demasiado pocos REVIENTA también TSNE :-(\n",
    "    \n",
    "    #Calcular el TSNE (NO PORQUE FALLA)\n",
    "    #px = 30\n",
    "    #px = area\n",
    "    #tsne = TSNE(perplexity=px, n_components=2, init='pca', n_iter=5000)\n",
    "    #two_d_embeddings_tsne = tsne.fit_transform(embeddings_subset)\n",
    "    \n",
    "    #aplico PCA porque si funciona\n",
    "    from sklearn.decomposition import PCA\n",
    "    pca = PCA(n_components=2)\n",
    "    two_d_embeddings_pca = pca.fit_transform(embeddings_subset)\n",
    "    print(\"\\tPCA variance ratio\",pca.explained_variance_ratio_)\n",
    "    \n",
    "    #Vamos a dibujar un rango de número de elementos \"area\" alrededor de la palabra\n",
    "    plot2D(two_d_embeddings_pca, words)    "
   ]
  },
  {
   "cell_type": "code",
   "execution_count": 48,
   "metadata": {
    "collapsed": false
   },
   "outputs": [
    {
     "name": "stdout",
     "output_type": "stream",
     "text": [
      "(50000, 128)\n",
      "ID for \"some\" is 48\n",
      "computing neighbors...\n",
      "\tNearest 8 to \"some\": many, several, these, any, various, those, all, numerous,\n",
      "projecting and plotting...\n",
      "\tPCA variance ratio [ 0.2471493   0.18742071]\n"
     ]
    },
    {
     "data": {
      "image/png": "[encoded data removed]",
      "text/plain": [
       "<matplotlib.figure.Figure at 0x12048a8d0>"
      ]
     },
     "metadata": {},
     "output_type": "display_data"
    }
   ],
   "source": [
    "#SKIPGRAM\n",
    "#Nearest to some: many, several, these, any, various, those, all, numerous,\n",
    "print(final_skipgram_embeddings.shape)\n",
    "show_nearest_embeddings_PCA('some',final_skipgram_embeddings,area=8)"
   ]
  },
  {
   "cell_type": "code",
   "execution_count": 49,
   "metadata": {
    "collapsed": false
   },
   "outputs": [
    {
     "name": "stdout",
     "output_type": "stream",
     "text": [
      "ID for \"some\" is 48\n",
      "computing neighbors...\n",
      "\tNearest 8 to \"some\": many, several, any, certain, these, most, this, various,\n",
      "projecting and plotting...\n",
      "\tPCA variance ratio [ 0.22890547  0.19436271]\n"
     ]
    },
    {
     "data": {
      "image/png": "[encoded data removed]",
      "text/plain": [
       "<matplotlib.figure.Figure at 0x11f5db650>"
      ]
     },
     "metadata": {},
     "output_type": "display_data"
    }
   ],
   "source": [
    "#CBOW\n",
    "#Nearest to some: many, several, any, certain, these, most, this, various,\n",
    "print(final_cbow_embeddings.shape)\n",
    "show_nearest_embeddings_PCA('some',final_cbow_embeddings,area=8)"
   ]
  },
  {
   "cell_type": "code",
   "execution_count": null,
   "metadata": {
    "collapsed": true
   },
   "outputs": [],
   "source": []
  }
 ],
 "metadata": {
  "colab": {
   "default_view": {},
   "name": "5_word2vec.ipynb",
   "provenance": [],
   "version": "0.3.2",
   "views": {}
  },
  "kernelspec": {
   "display_name": "Python 2",
   "language": "python",
   "name": "python2"
  },
  "language_info": {
   "codemirror_mode": {
    "name": "ipython",
    "version": 2
   },
   "file_extension": ".py",
   "mimetype": "text/x-python",
   "name": "python",
   "nbconvert_exporter": "python",
   "pygments_lexer": "ipython2",
   "version": "2.7.12"
  }
 },
 "nbformat": 4,
 "nbformat_minor": 0
}
