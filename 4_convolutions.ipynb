{
 "cells": [
  {
   "cell_type": "markdown",
   "metadata": {
    "colab_type": "text",
    "id": "4embtkV0pNxM"
   },
   "source": [
    "Deep Learning\n",
    "=============\n",
    "\n",
    "Assignment 4\n",
    "------------\n",
    "\n",
    "Previously in `2_fullyconnected.ipynb` and `3_regularization.ipynb`, we trained fully connected networks to classify [notMNIST](http://yaroslavvb.blogspot.com/2011/09/notmnist-dataset.html) characters.\n",
    "\n",
    "The goal of this assignment is make the neural network convolutional."
   ]
  },
  {
   "cell_type": "code",
   "execution_count": 1,
   "metadata": {
    "cellView": "both",
    "colab": {
     "autoexec": {
      "startup": false,
      "wait_interval": 0
     }
    },
    "colab_type": "code",
    "collapsed": true,
    "id": "tm2CQN_Cpwj0"
   },
   "outputs": [],
   "source": [
    "# These are all the modules we'll be using later. Make sure you can import them\n",
    "# before proceeding further.\n",
    "from __future__ import print_function\n",
    "import numpy as np\n",
    "import tensorflow as tf\n",
    "from six.moves import cPickle as pickle\n",
    "from six.moves import range"
   ]
  },
  {
   "cell_type": "code",
   "execution_count": 2,
   "metadata": {
    "cellView": "both",
    "colab": {
     "autoexec": {
      "startup": false,
      "wait_interval": 0
     },
     "output_extras": [
      {
       "item_id": 1
      }
     ]
    },
    "colab_type": "code",
    "collapsed": false,
    "executionInfo": {
     "elapsed": 11948,
     "status": "ok",
     "timestamp": 1446658914837,
     "user": {
      "color": "",
      "displayName": "",
      "isAnonymous": false,
      "isMe": true,
      "permissionId": "",
      "photoUrl": "",
      "sessionId": "0",
      "userId": ""
     },
     "user_tz": 480
    },
    "id": "y3-cj1bpmuxc",
    "outputId": "016b1a51-0290-4b08-efdb-8c95ffc3cd01"
   },
   "outputs": [
    {
     "name": "stdout",
     "output_type": "stream",
     "text": [
      "Training set (200000, 28, 28) (200000,)\n",
      "Validation set (10000, 28, 28) (10000,)\n",
      "Test set (10000, 28, 28) (10000,)\n"
     ]
    }
   ],
   "source": [
    "pickle_file = 'notMNIST.pickle'\n",
    "\n",
    "with open(pickle_file, 'rb') as f:\n",
    "  save = pickle.load(f)\n",
    "  train_dataset = save['train_dataset']\n",
    "  train_labels = save['train_labels']\n",
    "  valid_dataset = save['valid_dataset']\n",
    "  valid_labels = save['valid_labels']\n",
    "  test_dataset = save['test_dataset']\n",
    "  test_labels = save['test_labels']\n",
    "  del save  # hint to help gc free up memory\n",
    "  print('Training set', train_dataset.shape, train_labels.shape)\n",
    "  print('Validation set', valid_dataset.shape, valid_labels.shape)\n",
    "  print('Test set', test_dataset.shape, test_labels.shape)"
   ]
  },
  {
   "cell_type": "markdown",
   "metadata": {
    "colab_type": "text",
    "id": "L7aHrm6nGDMB"
   },
   "source": [
    "Reformat into a TensorFlow-friendly shape:\n",
    "- convolutions need the image data formatted as a cube (width by height by #channels)\n",
    "- labels as float 1-hot encodings."
   ]
  },
  {
   "cell_type": "code",
   "execution_count": 3,
   "metadata": {
    "cellView": "both",
    "colab": {
     "autoexec": {
      "startup": false,
      "wait_interval": 0
     },
     "output_extras": [
      {
       "item_id": 1
      }
     ]
    },
    "colab_type": "code",
    "collapsed": false,
    "executionInfo": {
     "elapsed": 11952,
     "status": "ok",
     "timestamp": 1446658914857,
     "user": {
      "color": "",
      "displayName": "",
      "isAnonymous": false,
      "isMe": true,
      "permissionId": "",
      "photoUrl": "",
      "sessionId": "0",
      "userId": ""
     },
     "user_tz": 480
    },
    "id": "IRSyYiIIGIzS",
    "outputId": "650a208c-8359-4852-f4f5-8bf10e80ef6c"
   },
   "outputs": [
    {
     "name": "stdout",
     "output_type": "stream",
     "text": [
      "Training set (200000, 28, 28, 1) (200000, 10)\n",
      "Validation set (10000, 28, 28, 1) (10000, 10)\n",
      "Test set (10000, 28, 28, 1) (10000, 10)\n"
     ]
    }
   ],
   "source": [
    "image_size = 28\n",
    "num_labels = 10\n",
    "num_channels = 1 # grayscale\n",
    "\n",
    "import numpy as np\n",
    "\n",
    "def reformat(dataset, labels):\n",
    "  dataset = dataset.reshape(\n",
    "    (-1, image_size, image_size, num_channels)).astype(np.float32)\n",
    "  labels = (np.arange(num_labels) == labels[:,None]).astype(np.float32)\n",
    "  return dataset, labels\n",
    "train_dataset, train_labels = reformat(train_dataset, train_labels)\n",
    "valid_dataset, valid_labels = reformat(valid_dataset, valid_labels)\n",
    "test_dataset, test_labels = reformat(test_dataset, test_labels)\n",
    "print('Training set', train_dataset.shape, train_labels.shape)\n",
    "print('Validation set', valid_dataset.shape, valid_labels.shape)\n",
    "print('Test set', test_dataset.shape, test_labels.shape)"
   ]
  },
  {
   "cell_type": "code",
   "execution_count": 4,
   "metadata": {
    "cellView": "both",
    "colab": {
     "autoexec": {
      "startup": false,
      "wait_interval": 0
     }
    },
    "colab_type": "code",
    "collapsed": true,
    "id": "AgQDIREv02p1"
   },
   "outputs": [],
   "source": [
    "def accuracy(predictions, labels):\n",
    "  return (100.0 * np.sum(np.argmax(predictions, 1) == np.argmax(labels, 1))\n",
    "          / predictions.shape[0])"
   ]
  },
  {
   "cell_type": "code",
   "execution_count": 5,
   "metadata": {
    "collapsed": true
   },
   "outputs": [],
   "source": [
    "import math\n",
    "import time\n",
    "def how_long(f, *args):\n",
    "    #medir el tiempo que tarda f\n",
    "    t1 = time.time()\n",
    "    res = f(*args)\n",
    "    t2 = time.time()\n",
    "    print (\"tiempo utilizado = \",t2-t1)\n",
    "    #return res, t2-t1\n",
    "    return res"
   ]
  },
  {
   "cell_type": "markdown",
   "metadata": {
    "colab_type": "text",
    "id": "5rhgjmROXu2O"
   },
   "source": [
    "Let's build a small network with two convolutional layers, followed by one fully connected layer. Convolutional networks are more expensive computationally, so we'll limit its depth and number of fully connected nodes."
   ]
  },
  {
   "cell_type": "code",
   "execution_count": 6,
   "metadata": {
    "cellView": "both",
    "colab": {
     "autoexec": {
      "startup": false,
      "wait_interval": 0
     }
    },
    "colab_type": "code",
    "collapsed": true,
    "id": "IZYv70SvvOan"
   },
   "outputs": [],
   "source": [
    "##################\n",
    "# DECLARACION\n",
    "##################\n",
    "\n",
    "batch_size = 16\n",
    "patch_size = 5\n",
    "depth = 16\n",
    "num_hidden = 64\n",
    "conv_strides = [1, 2, 2, 1] # Must have strides[0] = strides[3] = 1. \n",
    "    #For the most common case of the same horizontal and vertices strides, strides = [1, stride, stride, 1].\n",
    "conv_out_size = image_size // 4 * image_size // 4 * depth\n",
    "starter_learning_rate = 0.05\n",
    "\n",
    "graph = tf.Graph()\n",
    "\n",
    "with graph.as_default():\n",
    "\n",
    "  # Input data.\n",
    "  tf_train_dataset = tf.placeholder(tf.float32, shape=(batch_size, image_size, image_size, num_channels))\n",
    "  tf_train_labels = tf.placeholder(tf.float32, shape=(batch_size, num_labels))\n",
    "  tf_valid_dataset = tf.constant(valid_dataset)\n",
    "  tf_test_dataset = tf.constant(test_dataset)\n",
    "  \n",
    "  # Variables.\n",
    "  layer1_weights = tf.Variable(tf.truncated_normal([patch_size, patch_size, num_channels, depth], stddev=0.1))\n",
    "  layer1_biases = tf.Variable(tf.zeros([depth]))\n",
    "  layer2_weights = tf.Variable(tf.truncated_normal([patch_size, patch_size, depth, depth], stddev=0.1))\n",
    "  layer2_biases = tf.Variable(tf.constant(1.0, shape=[depth]))\n",
    "  layer3_weights = tf.Variable(tf.truncated_normal([conv_out_size, num_hidden], stddev=0.1))\n",
    "  layer3_biases = tf.Variable(tf.constant(1.0, shape=[num_hidden]))\n",
    "  layer4_weights = tf.Variable(tf.truncated_normal([num_hidden, num_labels], stddev=0.1))\n",
    "  layer4_biases = tf.Variable(tf.constant(1.0, shape=[num_labels]))\n",
    "  \n",
    "  # Model.\n",
    "  def model(data):\n",
    "    #Convolution layer1\n",
    "    conv = tf.nn.conv2d(data, layer1_weights, conv_strides, padding='SAME')\n",
    "    hidden = tf.nn.relu(conv + layer1_biases)\n",
    "    #Convolution layer2\n",
    "    conv = tf.nn.conv2d(hidden, layer2_weights, conv_strides, padding='SAME')\n",
    "    hidden = tf.nn.relu(conv + layer2_biases)\n",
    "    #Fully connected layer\n",
    "    shape = hidden.get_shape().as_list()\n",
    "    reshape = tf.reshape(hidden, [shape[0], shape[1] * shape[2] * shape[3]])\n",
    "    hidden = tf.nn.relu(tf.matmul(reshape, layer3_weights) + layer3_biases)\n",
    "    #Output\n",
    "    return tf.matmul(hidden, layer4_weights) + layer4_biases\n",
    "  \n",
    "  # Training computation.\n",
    "  logits = model(tf_train_dataset)\n",
    "  loss = tf.reduce_mean(tf.nn.softmax_cross_entropy_with_logits(logits, tf_train_labels))\n",
    "    \n",
    "  # Optimizer.\n",
    "  optimizer = tf.train.GradientDescentOptimizer(starter_learning_rate).minimize(loss)\n",
    "  \n",
    "  # Predictions for the training, validation, and test data.\n",
    "  train_prediction = tf.nn.softmax(logits)\n",
    "  valid_prediction = tf.nn.softmax(model(tf_valid_dataset))\n",
    "  test_prediction = tf.nn.softmax(model(tf_test_dataset))"
   ]
  },
  {
   "cell_type": "code",
   "execution_count": 7,
   "metadata": {
    "cellView": "both",
    "colab": {
     "autoexec": {
      "startup": false,
      "wait_interval": 0
     },
     "output_extras": [
      {
       "item_id": 37
      }
     ]
    },
    "colab_type": "code",
    "collapsed": false,
    "executionInfo": {
     "elapsed": 63292,
     "status": "ok",
     "timestamp": 1446658966251,
     "user": {
      "color": "",
      "displayName": "",
      "isAnonymous": false,
      "isMe": true,
      "permissionId": "",
      "photoUrl": "",
      "sessionId": "0",
      "userId": ""
     },
     "user_tz": 480
    },
    "id": "noKFb2UovVFR",
    "outputId": "28941338-2ef9-4088-8bd1-44295661e628"
   },
   "outputs": [
    {
     "name": "stdout",
     "output_type": "stream",
     "text": [
      "Initialized\n",
      "step 0\t 0s\t Lr: 5.00e-02, Vacc: 10.0%, Tacc: 10.0%, Mbacc: 18.8%\n",
      "step 50\t 5s\t Lr: 5.00e-02, Vacc: 45.3%, Tacc: 50.7%, Mbacc: 25.0%\n",
      "step 100\t 8s\t Lr: 5.00e-02, Vacc: 66.8%, Tacc: 73.6%, Mbacc: 68.8%\n",
      "step 150\t 11s\t Lr: 5.00e-02, Vacc: 76.2%, Tacc: 84.0%, Mbacc: 81.2%\n",
      "step 200\t 14s\t Lr: 5.00e-02, Vacc: 78.4%, Tacc: 85.3%, Mbacc: 68.8%\n",
      "step 250\t 18s\t Lr: 5.00e-02, Vacc: 77.9%, Tacc: 85.3%, Mbacc: 68.8%\n",
      "step 300\t 21s\t Lr: 5.00e-02, Vacc: 77.5%, Tacc: 85.1%, Mbacc: 87.5%\n",
      "step 350\t 24s\t Lr: 5.00e-02, Vacc: 77.2%, Tacc: 84.3%, Mbacc: 87.5%\n",
      "step 400\t 27s\t Lr: 5.00e-02, Vacc: 79.6%, Tacc: 86.7%, Mbacc: 93.8%\n",
      "step 450\t 31s\t Lr: 5.00e-02, Vacc: 79.0%, Tacc: 86.4%, Mbacc: 75.0%\n",
      "step 500\t 34s\t Lr: 5.00e-02, Vacc: 81.0%, Tacc: 87.8%, Mbacc: 87.5%\n",
      "step 550\t 38s\t Lr: 5.00e-02, Vacc: 80.7%, Tacc: 87.9%, Mbacc: 75.0%\n",
      "step 600\t 41s\t Lr: 5.00e-02, Vacc: 81.3%, Tacc: 88.4%, Mbacc: 87.5%\n",
      "step 650\t 44s\t Lr: 5.00e-02, Vacc: 82.5%, Tacc: 89.1%, Mbacc: 81.2%\n",
      "step 700\t 47s\t Lr: 5.00e-02, Vacc: 82.3%, Tacc: 89.2%, Mbacc: 75.0%\n",
      "step 750\t 50s\t Lr: 5.00e-02, Vacc: 82.5%, Tacc: 89.2%, Mbacc: 100.0%\n",
      "step 800\t 53s\t Lr: 5.00e-02, Vacc: 82.5%, Tacc: 89.5%, Mbacc: 75.0%\n",
      "step 850\t 57s\t Lr: 5.00e-02, Vacc: 82.8%, Tacc: 89.5%, Mbacc: 75.0%\n",
      "step 900\t 60s\t Lr: 5.00e-02, Vacc: 83.4%, Tacc: 90.0%, Mbacc: 87.5%\n",
      "step 950\t 63s\t Lr: 5.00e-02, Vacc: 83.0%, Tacc: 89.9%, Mbacc: 75.0%\n",
      "step 1000\t 66s\t Lr: 5.00e-02, Vacc: 82.5%, Tacc: 89.4%, Mbacc: 93.8%\n",
      "End\n"
     ]
    }
   ],
   "source": [
    "##################\n",
    "# EJECUCION\n",
    "##################\n",
    "\n",
    "t1 = time.time()\n",
    "\n",
    "num_steps = 1001\n",
    "report_interval = 50\n",
    "silent = True\n",
    "\n",
    "with tf.Session(graph=graph) as session:\n",
    "  tf.global_variables_initializer().run()\n",
    "  print('Initialized')\n",
    "  for step in range(num_steps):\n",
    "    offset = (step * batch_size) % (train_labels.shape[0] - batch_size)\n",
    "    batch_data = train_dataset[offset:(offset + batch_size), :, :, :]\n",
    "    batch_labels = train_labels[offset:(offset + batch_size), :]\n",
    "    feed_dict = {tf_train_dataset : batch_data, tf_train_labels : batch_labels}\n",
    "    _, l, predictions = session.run([optimizer, loss, train_prediction], feed_dict=feed_dict)\n",
    "    lr = starter_learning_rate\n",
    "    \n",
    "    if (step % report_interval == 0):\n",
    "      t2 = time.time()\n",
    "      if(silent == False):\n",
    "          print('Minibatch loss at step %d: %f' % (step, l))\n",
    "          print('Minibatch accuracy: %.1f%%' % accuracy(predictions, batch_labels))\n",
    "          print('Validation accuracy: %.1f%%' % accuracy(valid_prediction.eval(), valid_labels))\n",
    "          print('Test accuracy: %.1f%%' % accuracy(test_prediction.eval(), test_labels))\n",
    "      else:\n",
    "          print(\"step %d\\t %ds\\t Lr: %.2e, Vacc: %.1f%%, Tacc: %.1f%%, Mbacc: %.1f%%\" % (step, t2-t1,lr,\n",
    "                                                  accuracy(valid_prediction.eval(), valid_labels),\n",
    "                                                  accuracy(test_prediction.eval(), test_labels),\n",
    "                                                accuracy(predictions, batch_labels)))\n",
    "      if(math.isnan(l) == True):\n",
    "          print(\"ERROR: los pesos se han desmadrado!!!\")\n",
    "          break\n",
    "          #return\n",
    "  print('End')\n",
    "    "
   ]
  },
  {
   "cell_type": "markdown",
   "metadata": {
    "cellView": "both",
    "colab": {
     "autoexec": {
      "startup": false,
      "wait_interval": 0
     },
     "output_extras": [
      {
       "item_id": 37
      }
     ]
    },
    "colab_type": "code",
    "collapsed": false,
    "executionInfo": {
     "elapsed": 63292,
     "status": "ok",
     "timestamp": 1446658966251,
     "user": {
      "color": "",
      "displayName": "",
      "isAnonymous": false,
      "isMe": true,
      "permissionId": "",
      "photoUrl": "",
      "sessionId": "0",
      "userId": ""
     },
     "user_tz": 480
    },
    "id": "noKFb2UovVFR",
    "outputId": "28941338-2ef9-4088-8bd1-44295661e628"
   },
   "source": [
    "---\n",
    "Lo que les sale a ellos (mejor que a mí con el mismo código... que raro):\n",
    "========================================================================\n",
    "Initialized\n",
    "Minibatch loss at step 0 : 3.51275\n",
    "Minibatch accuracy: 6.2%\n",
    "Validation accuracy: 12.8%\n",
    "Minibatch loss at step 50 : 1.48703\n",
    "Minibatch accuracy: 43.8%\n",
    "Validation accuracy: 50.4%\n",
    "Minibatch loss at step 100 : 1.04377\n",
    "Minibatch accuracy: 68.8%\n",
    "Validation accuracy: 67.4%\n",
    "Minibatch loss at step 150 : 0.601682\n",
    "Minibatch accuracy: 68.8%\n",
    "Validation accuracy: 73.0%\n",
    "Minibatch loss at step 200 : 0.898649\n",
    "Minibatch accuracy: 75.0%\n",
    "Validation accuracy: 77.8%\n",
    "Minibatch loss at step 250 : 1.3637\n",
    "Minibatch accuracy: 56.2%\n",
    "Validation accuracy: 75.4%\n",
    "Minibatch loss at step 300 : 1.41968\n",
    "Minibatch accuracy: 62.5%\n",
    "Validation accuracy: 76.0%\n",
    "Minibatch loss at step 350 : 0.300648\n",
    "Minibatch accuracy: 81.2%\n",
    "Validation accuracy: 80.2%\n",
    "Minibatch loss at step 400 : 1.32092\n",
    "Minibatch accuracy: 56.2%\n",
    "Validation accuracy: 80.4%\n",
    "Minibatch loss at step 450 : 0.556701\n",
    "Minibatch accuracy: 81.2%\n",
    "Validation accuracy: 79.4%\n",
    "Minibatch loss at step 500 : 1.65595\n",
    "Minibatch accuracy: 43.8%\n",
    "Validation accuracy: 79.6%\n",
    "Minibatch loss at step 550 : 1.06995\n",
    "Minibatch accuracy: 75.0%\n",
    "Validation accuracy: 81.2%\n",
    "Minibatch loss at step 600 : 0.223684\n",
    "Minibatch accuracy: 100.0%\n",
    "Validation accuracy: 82.3%\n",
    "Minibatch loss at step 650 : 0.619602\n",
    "Minibatch accuracy: 87.5%\n",
    "Validation accuracy: 81.8%\n",
    "Minibatch loss at step 700 : 0.812091\n",
    "Minibatch accuracy: 75.0%\n",
    "Validation accuracy: 82.4%\n",
    "Minibatch loss at step 750 : 0.276302\n",
    "Minibatch accuracy: 87.5%\n",
    "Validation accuracy: 82.3%\n",
    "Minibatch loss at step 800 : 0.450241\n",
    "Minibatch accuracy: 81.2%\n",
    "Validation accuracy: 82.3%\n",
    "Minibatch loss at step 850 : 0.137139\n",
    "Minibatch accuracy: 93.8%\n",
    "Validation accuracy: 82.3%\n",
    "Minibatch loss at step 900 : 0.52664\n",
    "Minibatch accuracy: 75.0%\n",
    "Validation accuracy: 82.2%\n",
    "Minibatch loss at step 950 : 0.623835\n",
    "Minibatch accuracy: 87.5%\n",
    "Validation accuracy: 82.1%\n",
    "Minibatch loss at step 1000 : 0.243114\n",
    "Minibatch accuracy: 93.8%\n",
    "Validation accuracy: 82.9%\n",
    "Test accuracy: 90.0%\n",
    "---"
   ]
  },
  {
   "cell_type": "markdown",
   "metadata": {
    "colab_type": "text",
    "id": "KedKkn4EutIK"
   },
   "source": [
    "---\n",
    "Problem 1\n",
    "---------\n",
    "\n",
    "The convolutional model above uses convolutions with stride 2 to reduce the dimensionality. Replace the strides by a max pooling operation (`nn.max_pool()`) of stride 2 and kernel size 2.\n",
    "\n",
    "---"
   ]
  },
  {
   "cell_type": "markdown",
   "metadata": {},
   "source": [
    "###### tf.nn.max_pool(value, ksize, strides, padding, data_format='NHWC', name=None)"
   ]
  },
  {
   "cell_type": "code",
   "execution_count": 8,
   "metadata": {
    "cellView": "both",
    "colab": {
     "autoexec": {
      "startup": false,
      "wait_interval": 0
     }
    },
    "colab_type": "code",
    "collapsed": false,
    "id": "IZYv70SvvOan"
   },
   "outputs": [],
   "source": [
    "##################\n",
    "# DECLARACION\n",
    "##################\n",
    "\n",
    "batch_size = 16\n",
    "patch_size = 5\n",
    "depth = 16\n",
    "num_hidden = 64\n",
    "k = 2\n",
    "pooling_ksize = [1, k, k, 1] #talla de la ventana en NHWC para maxpooling y remuestrear a mitad\n",
    "pooling_strides = [1, k, k, 1] #movimiento de la ventana para aplicar el maxpooling \n",
    "conv_strides = [1, 1, 1, 1] # Ya no remuestrea, es realista, el subsamplig se lo hace el maxpooling\n",
    "conv_out_size = image_size // 4 * image_size // 4 * depth\n",
    "starter_learning_rate = 0.05\n",
    "\n",
    "graph = tf.Graph()\n",
    "\n",
    "with graph.as_default():\n",
    "\n",
    "  # Input data.\n",
    "  tf_train_dataset = tf.placeholder(tf.float32, shape=(batch_size, image_size, image_size, num_channels))\n",
    "  tf_train_labels = tf.placeholder(tf.float32, shape=(batch_size, num_labels))\n",
    "  tf_valid_dataset = tf.constant(valid_dataset)\n",
    "  tf_test_dataset = tf.constant(test_dataset)\n",
    "  \n",
    "  # Variables.\n",
    "  layer1_weights = tf.Variable(tf.truncated_normal([patch_size, patch_size, num_channels, depth], stddev=0.1))\n",
    "  layer1_biases = tf.Variable(tf.zeros([depth]))\n",
    "  layer2_weights = tf.Variable(tf.truncated_normal([patch_size, patch_size, depth, depth], stddev=0.1))\n",
    "  layer2_biases = tf.Variable(tf.constant(1.0, shape=[depth]))\n",
    "  layer3_weights = tf.Variable(tf.truncated_normal([conv_out_size, num_hidden], stddev=0.1))\n",
    "  layer3_biases = tf.Variable(tf.constant(1.0, shape=[num_hidden]))\n",
    "  layer4_weights = tf.Variable(tf.truncated_normal([num_hidden, num_labels], stddev=0.1))\n",
    "  layer4_biases = tf.Variable(tf.constant(1.0, shape=[num_labels]))\n",
    "  \n",
    "  # Model.\n",
    "  def model(data):\n",
    "    #Convolution + pooling layer1\n",
    "    conv = tf.nn.conv2d(data, layer1_weights, conv_strides, padding='SAME')\n",
    "    hidden = tf.nn.relu(conv + layer1_biases)\n",
    "    pool = tf.nn.max_pool(hidden,pooling_ksize,pooling_strides,padding='SAME')\n",
    "    \n",
    "    #Convolution + pooling layer2\n",
    "    conv = tf.nn.conv2d(pool, layer2_weights, conv_strides, padding='SAME')\n",
    "    hidden = tf.nn.relu(conv + layer2_biases)\n",
    "    pool = tf.nn.max_pool(hidden,pooling_ksize,pooling_strides,padding='SAME')\n",
    "    \n",
    "    #Fully connected layer\n",
    "    shape = pool.get_shape().as_list()\n",
    "    reshape = tf.reshape(pool, [shape[0], shape[1] * shape[2] * shape[3]])\n",
    "    hidden = tf.nn.relu(tf.matmul(reshape, layer3_weights) + layer3_biases)\n",
    "    \n",
    "    #Output\n",
    "    return tf.matmul(hidden, layer4_weights) + layer4_biases\n",
    "  \n",
    "  # Training computation.\n",
    "  logits = model(tf_train_dataset)\n",
    "  loss = tf.reduce_mean(tf.nn.softmax_cross_entropy_with_logits(logits, tf_train_labels))\n",
    "    \n",
    "  # Optimizer.\n",
    "  optimizer = tf.train.GradientDescentOptimizer(starter_learning_rate).minimize(loss)\n",
    "  \n",
    "  # Predictions for the training, validation, and test data.\n",
    "  train_prediction = tf.nn.softmax(logits)\n",
    "  valid_prediction = tf.nn.softmax(model(tf_valid_dataset))\n",
    "  test_prediction = tf.nn.softmax(model(tf_test_dataset))"
   ]
  },
  {
   "cell_type": "code",
   "execution_count": 9,
   "metadata": {
    "cellView": "both",
    "colab": {
     "autoexec": {
      "startup": false,
      "wait_interval": 0
     },
     "output_extras": [
      {
       "item_id": 37
      }
     ]
    },
    "colab_type": "code",
    "collapsed": false,
    "executionInfo": {
     "elapsed": 63292,
     "status": "ok",
     "timestamp": 1446658966251,
     "user": {
      "color": "",
      "displayName": "",
      "isAnonymous": false,
      "isMe": true,
      "permissionId": "",
      "photoUrl": "",
      "sessionId": "0",
      "userId": ""
     },
     "user_tz": 480
    },
    "id": "noKFb2UovVFR",
    "outputId": "28941338-2ef9-4088-8bd1-44295661e628"
   },
   "outputs": [
    {
     "name": "stdout",
     "output_type": "stream",
     "text": [
      "Initialized\n",
      "step 0\t 0s\t Lr: 5.00e-02, Vacc: 9.9%, Tacc: 10.0%, Mbacc: 6.2%\n",
      "step 50\t 16s\t Lr: 5.00e-02, Vacc: 49.7%, Tacc: 55.8%, Mbacc: 50.0%\n",
      "step 100\t 28s\t Lr: 5.00e-02, Vacc: 71.3%, Tacc: 78.1%, Mbacc: 75.0%\n",
      "step 150\t 39s\t Lr: 5.00e-02, Vacc: 74.2%, Tacc: 81.8%, Mbacc: 81.2%\n",
      "step 200\t 50s\t Lr: 5.00e-02, Vacc: 78.2%, Tacc: 85.1%, Mbacc: 62.5%\n",
      "step 250\t 61s\t Lr: 5.00e-02, Vacc: 77.7%, Tacc: 85.1%, Mbacc: 62.5%\n",
      "step 300\t 73s\t Lr: 5.00e-02, Vacc: 80.0%, Tacc: 87.0%, Mbacc: 93.8%\n",
      "step 350\t 86s\t Lr: 5.00e-02, Vacc: 78.9%, Tacc: 86.0%, Mbacc: 93.8%\n",
      "step 400\t 98s\t Lr: 5.00e-02, Vacc: 81.0%, Tacc: 87.7%, Mbacc: 100.0%\n",
      "step 450\t 112s\t Lr: 5.00e-02, Vacc: 78.9%, Tacc: 86.2%, Mbacc: 75.0%\n",
      "step 500\t 136s\t Lr: 5.00e-02, Vacc: 80.9%, Tacc: 87.2%, Mbacc: 81.2%\n",
      "step 550\t 158s\t Lr: 5.00e-02, Vacc: 81.5%, Tacc: 88.5%, Mbacc: 75.0%\n",
      "step 600\t 182s\t Lr: 5.00e-02, Vacc: 82.8%, Tacc: 89.7%, Mbacc: 87.5%\n",
      "step 650\t 203s\t Lr: 5.00e-02, Vacc: 82.5%, Tacc: 89.4%, Mbacc: 81.2%\n",
      "step 700\t 225s\t Lr: 5.00e-02, Vacc: 83.3%, Tacc: 90.2%, Mbacc: 75.0%\n",
      "step 750\t 248s\t Lr: 5.00e-02, Vacc: 83.5%, Tacc: 90.3%, Mbacc: 93.8%\n",
      "step 800\t 269s\t Lr: 5.00e-02, Vacc: 83.2%, Tacc: 89.9%, Mbacc: 81.2%\n",
      "step 850\t 290s\t Lr: 5.00e-02, Vacc: 83.4%, Tacc: 90.0%, Mbacc: 68.8%\n",
      "step 900\t 312s\t Lr: 5.00e-02, Vacc: 83.7%, Tacc: 90.4%, Mbacc: 87.5%\n",
      "step 950\t 337s\t Lr: 5.00e-02, Vacc: 83.9%, Tacc: 90.5%, Mbacc: 75.0%\n",
      "step 1000\t 358s\t Lr: 5.00e-02, Vacc: 83.7%, Tacc: 90.6%, Mbacc: 81.2%\n",
      "End\n"
     ]
    }
   ],
   "source": [
    "##################\n",
    "# EJECUCION\n",
    "##################\n",
    "\n",
    "t1 = time.time()\n",
    "\n",
    "num_steps = 1001\n",
    "report_interval = 50\n",
    "silent = True\n",
    "\n",
    "with tf.Session(graph=graph) as session:\n",
    "  tf.global_variables_initializer().run()\n",
    "  print('Initialized')\n",
    "  for step in range(num_steps):\n",
    "    offset = (step * batch_size) % (train_labels.shape[0] - batch_size)\n",
    "    batch_data = train_dataset[offset:(offset + batch_size), :, :, :]\n",
    "    batch_labels = train_labels[offset:(offset + batch_size), :]\n",
    "    feed_dict = {tf_train_dataset : batch_data, tf_train_labels : batch_labels}\n",
    "    _, l, predictions = session.run([optimizer, loss, train_prediction], feed_dict=feed_dict)\n",
    "    lr = starter_learning_rate\n",
    "    \n",
    "    if (step % report_interval == 0):\n",
    "      t2 = time.time()\n",
    "      if(silent == False):\n",
    "          print('Minibatch loss at step %d: %f' % (step, l))\n",
    "          print('Minibatch accuracy: %.1f%%' % accuracy(predictions, batch_labels))\n",
    "          print('Validation accuracy: %.1f%%' % accuracy(valid_prediction.eval(), valid_labels))\n",
    "          print('Test accuracy: %.1f%%' % accuracy(test_prediction.eval(), test_labels))\n",
    "      else:\n",
    "          print(\"step %d\\t %ds\\t Lr: %.2e, Vacc: %.1f%%, Tacc: %.1f%%, Mbacc: %.1f%%\" % (step, t2-t1,lr,\n",
    "                                                  accuracy(valid_prediction.eval(), valid_labels),\n",
    "                                                  accuracy(test_prediction.eval(), test_labels),\n",
    "                                                accuracy(predictions, batch_labels)))\n",
    "      if(math.isnan(l) == True):\n",
    "          print(\"ERROR: los pesos se han desmadrado!!!\")\n",
    "          break\n",
    "          #return\n",
    "  print('End')\n",
    "    "
   ]
  },
  {
   "cell_type": "markdown",
   "metadata": {
    "colab_type": "text",
    "id": "klf21gpbAgb-"
   },
   "source": [
    "---\n",
    "Problem 2\n",
    "---------\n",
    "\n",
    "Try to get the best performance you can using a convolutional net. Look for example at the classic [LeNet5](http://yann.lecun.com/exdb/lenet/) architecture, adding Dropout, and/or adding learning rate decay.\n",
    "\n",
    "---"
   ]
  },
  {
   "cell_type": "markdown",
   "metadata": {},
   "source": [
    "LENET:\n",
    "<img src=\"lenet_architecture.png\">"
   ]
  },
  {
   "cell_type": "code",
   "execution_count": 10,
   "metadata": {
    "cellView": "both",
    "colab": {
     "autoexec": {
      "startup": false,
      "wait_interval": 0
     }
    },
    "colab_type": "code",
    "collapsed": false,
    "id": "IZYv70SvvOan"
   },
   "outputs": [],
   "source": [
    "#Dos conv+pool y un hidden\n",
    "#Fuera esta definido image_size = 28, num_channels = 1 (grayscale)\n",
    "\n",
    "def CNmodel(num_steps=None, #learning iterations\n",
    "            batch_size=16, #data minibatch size\n",
    "            num_hidden=64, #hidden layers nodes\n",
    "            patch_size = 5,\n",
    "            depth = 16,\n",
    "            k = 2, #maxpool reduction\n",
    "            starter_learning_rate=0.05,\n",
    "            learning_decay_steps=10000, \n",
    "            learning_decay_rate=1, #by default no decay\n",
    "            learning_staircase=False,\n",
    "            beta=5e-3, #presence of regularization with weights\n",
    "            report_interval=50,\n",
    "            silent=False):\n",
    "    \n",
    "    print(\"starter_learning_rate: %.3e, num_steps: %d\\n\" % (starter_learning_rate,num_steps))\n",
    "    if(num_steps == None):\n",
    "        return\n",
    "    \n",
    "    ##################\n",
    "    # DECLARACION\n",
    "    ##################\n",
    "\n",
    "    hidden_levels = 1\n",
    "    conv_levels = 2\n",
    "    pooling_ksize = [1, k, k, 1] #talla de la ventana en NHWC para maxpooling y remuestrear a mitad\n",
    "    pooling_strides = [1, k, k, 1] #movimiento de la ventana para aplicar el maxpooling \n",
    "    conv_strides = [1, 1, 1, 1] # Ya no remuestrea, es realista, el subsamplig se lo hace el maxpooling\n",
    "    conv_out_size = image_size // (conv_levels*k) * image_size // (conv_levels*k) * depth\n",
    "\n",
    "    mygraph = tf.Graph()\n",
    "\n",
    "    with mygraph.as_default():\n",
    "\n",
    "      # Input data.\n",
    "      tf_train_dataset = tf.placeholder(tf.float32, shape=(batch_size, image_size, image_size, num_channels))\n",
    "      tf_train_labels = tf.placeholder(tf.float32, shape=(batch_size, num_labels))\n",
    "      tf_valid_dataset = tf.constant(valid_dataset)\n",
    "      tf_test_dataset = tf.constant(test_dataset)\n",
    "\n",
    "      # Variables.\n",
    "      layer1_weights = tf.Variable(tf.truncated_normal([patch_size, patch_size, num_channels, depth], stddev=0.1))\n",
    "      layer1_biases = tf.Variable(tf.zeros([depth]))\n",
    "      layer2_weights = tf.Variable(tf.truncated_normal([patch_size, patch_size, depth, depth], stddev=0.1))\n",
    "      layer2_biases = tf.Variable(tf.constant(1.0, shape=[depth]))\n",
    "      layer3_weights = tf.Variable(tf.truncated_normal([conv_out_size, num_hidden], stddev=0.1))\n",
    "      layer3_biases = tf.Variable(tf.constant(1.0, shape=[num_hidden]))\n",
    "      layer4_weights = tf.Variable(tf.truncated_normal([num_hidden, num_labels], stddev=0.1))\n",
    "      layer4_biases = tf.Variable(tf.constant(1.0, shape=[num_labels]))\n",
    "      global_step = tf.Variable(0,trainable=False)\n",
    "\n",
    "      # Model.\n",
    "      def model(data):\n",
    "        #Convolution + pooling layer1\n",
    "        conv = tf.nn.conv2d(data, layer1_weights, conv_strides, padding='SAME')\n",
    "        hidden = tf.nn.relu(conv + layer1_biases)\n",
    "        pool = tf.nn.max_pool(hidden,pooling_ksize,pooling_strides,padding='SAME')\n",
    "\n",
    "        #Convolution + pooling layer2\n",
    "        conv = tf.nn.conv2d(pool, layer2_weights, conv_strides, padding='SAME')\n",
    "        hidden = tf.nn.relu(conv + layer2_biases)\n",
    "        pool = tf.nn.max_pool(hidden,pooling_ksize,pooling_strides,padding='SAME')\n",
    "\n",
    "        #Fully connected layer\n",
    "        shape = pool.get_shape().as_list()\n",
    "        reshape = tf.reshape(pool, [shape[0], shape[1] * shape[2] * shape[3]])\n",
    "        hidden = tf.nn.relu(tf.matmul(reshape, layer3_weights) + layer3_biases)\n",
    "\n",
    "        #Output\n",
    "        return tf.matmul(hidden, layer4_weights) + layer4_biases\n",
    "\n",
    "      # Training computation.\n",
    "      logits = model(tf_train_dataset)\n",
    "      L2 = tf.nn.l2_loss(layer1_weights)+tf.nn.l2_loss(layer1_biases) \\\n",
    "         + tf.nn.l2_loss(layer2_weights)+tf.nn.l2_loss(layer2_biases) \\\n",
    "         + tf.nn.l2_loss(layer3_weights)+tf.nn.l2_loss(layer3_biases) \\\n",
    "         + tf.nn.l2_loss(layer4_weights)+tf.nn.l2_loss(layer4_biases)\n",
    "      loss = tf.reduce_mean(tf.nn.softmax_cross_entropy_with_logits(logits, tf_train_labels)) + beta*L2\n",
    "        \n",
    "      # Optimizer.\n",
    "      learning_rate = tf.train.exponential_decay(starter_learning_rate, global_step, \n",
    "                                learning_decay_steps, learning_decay_rate,staircase=learning_staircase)\n",
    "      optimizer = tf.train.GradientDescentOptimizer(learning_rate).minimize(loss, global_step=global_step)\n",
    "\n",
    "      # Predictions for the training, validation, and test data.\n",
    "      train_prediction = tf.nn.softmax(logits)\n",
    "      valid_prediction = tf.nn.softmax(model(tf_valid_dataset))\n",
    "      test_prediction = tf.nn.softmax(model(tf_test_dataset))\n",
    "        \n",
    "    ##################\n",
    "    # EJECUCION\n",
    "    ##################\n",
    "\n",
    "    t1 = time.time()\n",
    "\n",
    "    with tf.Session(graph=mygraph) as session:\n",
    "      tf.global_variables_initializer().run()\n",
    "      print('Initialized')\n",
    "      for step in range(num_steps):\n",
    "        offset = (step * batch_size) % (train_labels.shape[0] - batch_size)\n",
    "        batch_data = train_dataset[offset:(offset + batch_size), :, :, :]\n",
    "        batch_labels = train_labels[offset:(offset + batch_size), :]\n",
    "        feed_dict = {tf_train_dataset : batch_data, tf_train_labels : batch_labels}\n",
    "        lr,_, l, predictions = session.run([learning_rate,optimizer, loss, train_prediction], feed_dict=feed_dict)\n",
    "\n",
    "        if (step % report_interval == 0):\n",
    "          t2 = time.time()\n",
    "          if(silent == False):\n",
    "              print (\"\\ntiempo utilizado = \",t2-t1)\n",
    "              print(\"Learning rate at step %d: %.3e\" % (step, lr))\n",
    "              print('Minibatch loss at step %d: %f' % (step, l))\n",
    "              print('Minibatch accuracy: %.1f%%' % accuracy(predictions, batch_labels))\n",
    "              print('Validation accuracy: %.1f%%' % accuracy(valid_prediction.eval(), valid_labels))\n",
    "              print('Test accuracy: %.1f%%' % accuracy(test_prediction.eval(), test_labels))\n",
    "          else:\n",
    "              print(\"step %d\\t %ds\\t Lr: %.5e, Vacc: %.1f%%, Tacc: %.1f%%\" % (step, t2-t1,lr,\n",
    "                                                      accuracy(valid_prediction.eval(), valid_labels),\n",
    "                                                      accuracy(test_prediction.eval(), test_labels)))\n",
    "          if(math.isnan(l) == True):\n",
    "              print(\"ERROR: los pesos se han desmadrado!!!\")\n",
    "              return\n",
    "\n",
    "      t2 = time.time()\n",
    "      print (\"\\ntiempo utilizado FINAL = \",t2-t1)\n",
    "      if(silent == True):\n",
    "          print(\"Validation accuracy: %.1f%%\" % accuracy(valid_prediction.eval(), valid_labels))\n",
    "          print(\"Test accuracy: %.1f%%\" % accuracy(test_prediction.eval(), test_labels))"
   ]
  },
  {
   "cell_type": "code",
   "execution_count": 11,
   "metadata": {
    "cellView": "both",
    "colab": {
     "autoexec": {
      "startup": false,
      "wait_interval": 0
     },
     "output_extras": [
      {
       "item_id": 37
      }
     ]
    },
    "colab_type": "code",
    "collapsed": false,
    "executionInfo": {
     "elapsed": 63292,
     "status": "ok",
     "timestamp": 1446658966251,
     "user": {
      "color": "",
      "displayName": "",
      "isAnonymous": false,
      "isMe": true,
      "permissionId": "",
      "photoUrl": "",
      "sessionId": "0",
      "userId": ""
     },
     "user_tz": 480
    },
    "id": "noKFb2UovVFR",
    "outputId": "28941338-2ef9-4088-8bd1-44295661e628"
   },
   "outputs": [
    {
     "name": "stdout",
     "output_type": "stream",
     "text": [
      "starter_learning_rate: 5.000e-02, num_steps: 1001\n",
      "\n",
      "Initialized\n",
      "step 0\t 1s\t Lr: 5.00000e-02, Vacc: 10.0%, Tacc: 10.0%\n",
      "step 50\t 29s\t Lr: 5.00000e-02, Vacc: 44.1%, Tacc: 48.1%\n",
      "step 100\t 55s\t Lr: 5.00000e-02, Vacc: 59.7%, Tacc: 64.9%\n",
      "step 150\t 78s\t Lr: 5.00000e-02, Vacc: 73.8%, Tacc: 80.9%\n",
      "step 200\t 103s\t Lr: 5.00000e-02, Vacc: 76.1%, Tacc: 83.4%\n",
      "step 250\t 128s\t Lr: 5.00000e-02, Vacc: 78.0%, Tacc: 85.1%\n",
      "step 300\t 153s\t Lr: 5.00000e-02, Vacc: 80.0%, Tacc: 87.2%\n",
      "step 350\t 177s\t Lr: 5.00000e-02, Vacc: 79.1%, Tacc: 86.4%\n",
      "step 400\t 200s\t Lr: 5.00000e-02, Vacc: 80.7%, Tacc: 87.7%\n",
      "step 450\t 224s\t Lr: 5.00000e-02, Vacc: 79.2%, Tacc: 86.0%\n",
      "step 500\t 236s\t Lr: 5.00000e-02, Vacc: 81.8%, Tacc: 88.2%\n",
      "step 550\t 250s\t Lr: 5.00000e-02, Vacc: 82.7%, Tacc: 89.4%\n",
      "step 600\t 263s\t Lr: 5.00000e-02, Vacc: 82.7%, Tacc: 89.5%\n",
      "step 650\t 277s\t Lr: 5.00000e-02, Vacc: 82.8%, Tacc: 89.5%\n",
      "step 700\t 289s\t Lr: 5.00000e-02, Vacc: 83.6%, Tacc: 90.2%\n",
      "step 750\t 303s\t Lr: 5.00000e-02, Vacc: 83.8%, Tacc: 90.3%\n",
      "step 800\t 317s\t Lr: 5.00000e-02, Vacc: 84.2%, Tacc: 90.5%\n",
      "step 850\t 330s\t Lr: 5.00000e-02, Vacc: 83.5%, Tacc: 89.8%\n",
      "step 900\t 342s\t Lr: 5.00000e-02, Vacc: 84.2%, Tacc: 90.7%\n",
      "step 950\t 355s\t Lr: 5.00000e-02, Vacc: 84.4%, Tacc: 90.4%\n",
      "step 1000\t 368s\t Lr: 5.00000e-02, Vacc: 84.5%, Tacc: 90.9%\n",
      "\n",
      "tiempo utilizado FINAL =  379.450929165\n",
      "Validation accuracy: 84.5%\n",
      "Test accuracy: 90.9%\n"
     ]
    }
   ],
   "source": [
    "#Primero sin cambiar nada\n",
    "CNmodel(num_steps=1001, #learning iterations\n",
    "        starter_learning_rate=0.05,\n",
    "        learning_decay_steps=10000, \n",
    "        learning_decay_rate=1,\n",
    "        beta=0,report_interval=50,silent=True)  "
   ]
  },
  {
   "cell_type": "code",
   "execution_count": 12,
   "metadata": {
    "cellView": "both",
    "colab": {
     "autoexec": {
      "startup": false,
      "wait_interval": 0
     },
     "output_extras": [
      {
       "item_id": 37
      }
     ]
    },
    "colab_type": "code",
    "collapsed": false,
    "executionInfo": {
     "elapsed": 63292,
     "status": "ok",
     "timestamp": 1446658966251,
     "user": {
      "color": "",
      "displayName": "",
      "isAnonymous": false,
      "isMe": true,
      "permissionId": "",
      "photoUrl": "",
      "sessionId": "0",
      "userId": ""
     },
     "user_tz": 480
    },
    "id": "noKFb2UovVFR",
    "outputId": "28941338-2ef9-4088-8bd1-44295661e628",
    "scrolled": false
   },
   "outputs": [
    {
     "name": "stdout",
     "output_type": "stream",
     "text": [
      "starter_learning_rate: 5.000e-02, num_steps: 30001\n",
      "\n",
      "Initialized\n",
      "step 0\t 0s\t Lr: 5.00000e-02, Vacc: 10.0%, Tacc: 10.0%\n",
      "step 3000\t 118s\t Lr: 3.64500e-02, Vacc: 86.8%, Tacc: 93.2%\n",
      "step 6000\t 260s\t Lr: 2.65720e-02, Vacc: 88.1%, Tacc: 94.3%\n",
      "step 9000\t 401s\t Lr: 1.93710e-02, Vacc: 88.7%, Tacc: 94.8%\n",
      "step 12000\t 543s\t Lr: 1.41215e-02, Vacc: 89.2%, Tacc: 95.0%\n",
      "step 15000\t 683s\t Lr: 1.02946e-02, Vacc: 89.3%, Tacc: 95.1%\n",
      "step 18000\t 821s\t Lr: 7.50473e-03, Vacc: 89.8%, Tacc: 95.4%\n",
      "step 21000\t 955s\t Lr: 5.47095e-03, Vacc: 89.8%, Tacc: 95.3%\n",
      "step 24000\t 1083s\t Lr: 3.98832e-03, Vacc: 89.9%, Tacc: 95.4%\n",
      "step 27000\t 1222s\t Lr: 2.90748e-03, Vacc: 90.0%, Tacc: 95.6%\n",
      "step 30000\t 1360s\t Lr: 2.11956e-03, Vacc: 90.0%, Tacc: 95.6%\n",
      "\n",
      "tiempo utilizado FINAL =  1383.39959216\n",
      "Validation accuracy: 90.0%\n",
      "Test accuracy: 95.6%\n"
     ]
    }
   ],
   "source": [
    "#Experimentamos con learning decay y subiendo iteraciones\n",
    "CNmodel(num_steps=30001, #learning iterations\n",
    "        starter_learning_rate=0.05,\n",
    "        learning_decay_steps=1000, \n",
    "        learning_decay_rate=0.9,\n",
    "        beta=0,report_interval=3000,silent=True)  "
   ]
  },
  {
   "cell_type": "code",
   "execution_count": 13,
   "metadata": {
    "cellView": "both",
    "colab": {
     "autoexec": {
      "startup": false,
      "wait_interval": 0
     },
     "output_extras": [
      {
       "item_id": 37
      }
     ]
    },
    "colab_type": "code",
    "collapsed": false,
    "executionInfo": {
     "elapsed": 63292,
     "status": "ok",
     "timestamp": 1446658966251,
     "user": {
      "color": "",
      "displayName": "",
      "isAnonymous": false,
      "isMe": true,
      "permissionId": "",
      "photoUrl": "",
      "sessionId": "0",
      "userId": ""
     },
     "user_tz": 480
    },
    "id": "noKFb2UovVFR",
    "outputId": "28941338-2ef9-4088-8bd1-44295661e628",
    "scrolled": false
   },
   "outputs": [
    {
     "name": "stdout",
     "output_type": "stream",
     "text": [
      "starter_learning_rate: 5.000e-02, num_steps: 60001\n",
      "\n",
      "Initialized\n",
      "step 0\t 1s\t Lr: 5.00000e-02, Vacc: 10.0%, Tacc: 10.0%\n",
      "step 6000\t 224s\t Lr: 4.96849e-02, Vacc: 88.2%, Tacc: 94.4%\n",
      "step 12000\t 413s\t Lr: 4.93718e-02, Vacc: 89.1%, Tacc: 95.0%\n",
      "step 18000\t 602s\t Lr: 4.90607e-02, Vacc: 89.6%, Tacc: 95.4%\n",
      "step 24000\t 790s\t Lr: 4.87515e-02, Vacc: 90.1%, Tacc: 95.6%\n",
      "step 30000\t 979s\t Lr: 4.84443e-02, Vacc: 90.1%, Tacc: 95.7%\n",
      "step 36000\t 1199s\t Lr: 4.81390e-02, Vacc: 90.2%, Tacc: 95.9%\n",
      "step 42000\t 1458s\t Lr: 4.78357e-02, Vacc: 90.6%, Tacc: 95.9%\n",
      "step 48000\t 1719s\t Lr: 4.75342e-02, Vacc: 90.5%, Tacc: 96.0%\n",
      "step 54000\t 1982s\t Lr: 4.72347e-02, Vacc: 90.9%, Tacc: 96.3%\n",
      "step 60000\t 2251s\t Lr: 4.69370e-02, Vacc: 90.3%, Tacc: 95.9%\n",
      "\n",
      "tiempo utilizado FINAL =  2275.46044922\n",
      "Validation accuracy: 90.3%\n",
      "Test accuracy: 95.9%\n"
     ]
    }
   ],
   "source": [
    "#Experimentamos con learning decay menor y subiendo iteraciones\n",
    "CNmodel(num_steps=60001, #learning iterations\n",
    "        starter_learning_rate=0.05,\n",
    "        learning_decay_steps=100000, \n",
    "        learning_decay_rate=0.9,\n",
    "        beta=0,report_interval=6000,silent=True)  "
   ]
  },
  {
   "cell_type": "code",
   "execution_count": 14,
   "metadata": {
    "cellView": "both",
    "colab": {
     "autoexec": {
      "startup": false,
      "wait_interval": 0
     },
     "output_extras": [
      {
       "item_id": 37
      }
     ]
    },
    "colab_type": "code",
    "collapsed": false,
    "executionInfo": {
     "elapsed": 63292,
     "status": "ok",
     "timestamp": 1446658966251,
     "user": {
      "color": "",
      "displayName": "",
      "isAnonymous": false,
      "isMe": true,
      "permissionId": "",
      "photoUrl": "",
      "sessionId": "0",
      "userId": ""
     },
     "user_tz": 480
    },
    "id": "noKFb2UovVFR",
    "outputId": "28941338-2ef9-4088-8bd1-44295661e628",
    "scrolled": false
   },
   "outputs": [
    {
     "name": "stdout",
     "output_type": "stream",
     "text": [
      "starter_learning_rate: 5.000e-02, num_steps: 60001\n",
      "\n",
      "Initialized\n",
      "step 0\t 1s\t Lr: 5.00000e-02, Vacc: 10.0%, Tacc: 10.0%\n",
      "step 6000\t 241s\t Lr: 2.65720e-02, Vacc: 87.6%, Tacc: 94.1%\n",
      "step 12000\t 503s\t Lr: 1.41215e-02, Vacc: 88.8%, Tacc: 95.1%\n",
      "step 18000\t 756s\t Lr: 7.50473e-03, Vacc: 89.5%, Tacc: 95.4%\n",
      "step 24000\t 946s\t Lr: 3.98832e-03, Vacc: 89.7%, Tacc: 95.5%\n",
      "step 30000\t 1166s\t Lr: 2.11956e-03, Vacc: 89.9%, Tacc: 95.6%\n",
      "step 36000\t 1353s\t Lr: 1.12642e-03, Vacc: 89.9%, Tacc: 95.6%\n",
      "step 42000\t 1541s\t Lr: 5.98625e-04, Vacc: 89.9%, Tacc: 95.6%\n",
      "step 48000\t 1730s\t Lr: 3.18134e-04, Vacc: 89.9%, Tacc: 95.6%\n",
      "step 54000\t 1920s\t Lr: 1.69069e-04, Vacc: 89.9%, Tacc: 95.7%\n",
      "step 60000\t 2107s\t Lr: 8.98504e-05, Vacc: 89.9%, Tacc: 95.6%\n",
      "\n",
      "tiempo utilizado FINAL =  2117.68269587\n",
      "Validation accuracy: 89.9%\n",
      "Test accuracy: 95.6%\n"
     ]
    }
   ],
   "source": [
    "#Ahora con beta para fijar pesos menores, no funciona mucho, habría que probar varios valores y ajustar\n",
    "CNmodel(num_steps=60001, #learning iterations\n",
    "        starter_learning_rate=0.05,\n",
    "        learning_decay_steps=1000, \n",
    "        learning_decay_rate=0.9,\n",
    "        beta=1e-3,report_interval=6000,silent=True)  "
   ]
  },
  {
   "cell_type": "code",
   "execution_count": null,
   "metadata": {
    "collapsed": true
   },
   "outputs": [],
   "source": []
  }
 ],
 "metadata": {
  "colab": {
   "default_view": {},
   "name": "4_convolutions.ipynb",
   "provenance": [],
   "version": "0.3.2",
   "views": {}
  },
  "kernelspec": {
   "display_name": "Python 2",
   "language": "python",
   "name": "python2"
  },
  "language_info": {
   "codemirror_mode": {
    "name": "ipython",
    "version": 2
   },
   "file_extension": ".py",
   "mimetype": "text/x-python",
   "name": "python",
   "nbconvert_exporter": "python",
   "pygments_lexer": "ipython2",
   "version": "2.7.12"
  }
 },
 "nbformat": 4,
 "nbformat_minor": 0
}
